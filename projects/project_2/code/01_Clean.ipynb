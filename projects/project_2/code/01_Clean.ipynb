{
 "cells": [
  {
   "cell_type": "markdown",
   "id": "57b2a131-6fcc-4a25-8327-2a852ae37148",
   "metadata": {},
   "source": [
    "## ![](https://ga-dash.s3.amazonaws.com/production/assets/logo-9f88ae6c9c3871690e33280fcf557f33.png) Project 2: Bangkok Housing Data | Part 1: Cleaning Datasets"
   ]
  },
  {
   "cell_type": "markdown",
   "id": "4face5fb-4303-4401-8151-cbf483f26f25",
   "metadata": {},
   "source": [
    "---\n",
    "\n",
    "[README](../README.md) | **Part 1: Cleaning Datasets** | [Part 2: Regression Model](02_Regression.ipynb) | [Part 3: Interpretation](03_Interpretation.ipynb)\n",
    "\n",
    "---"
   ]
  },
  {
   "cell_type": "markdown",
   "id": "8cafd35b-5115-475e-9989-e8fe25a148f8",
   "metadata": {
    "jp-MarkdownHeadingCollapsed": true
   },
   "source": [
    "### Introduction\n",
    "- We are going to clean the data on property prices for three `main property_types` (Condo, Detached House, and Townhouse), which have many features.\n",
    "- We have two datasets: train (with the `price` column) and test (without the price column). Both datasets have the column `id` as a unique key."
   ]
  },
  {
   "cell_type": "markdown",
   "id": "5e048eb9-c9c5-42c0-b3b7-7af57a851da8",
   "metadata": {
    "jp-MarkdownHeadingCollapsed": true
   },
   "source": [
    "### Import\n",
    "- We import the essential library, i.e., `pandas`,`numpy`,`seaborn`,`matplotlib.pyplot` that helping us to clean data."
   ]
  },
  {
   "cell_type": "code",
   "execution_count": 7,
   "id": "6dda74f4-888f-4785-926e-02014d148357",
   "metadata": {},
   "outputs": [],
   "source": [
    "# pip install missingno"
   ]
  },
  {
   "cell_type": "code",
   "execution_count": 8,
   "id": "760ea431-462b-46bf-9476-a57ac8e85aad",
   "metadata": {},
   "outputs": [],
   "source": [
    "import pandas as pd\n",
    "import numpy as np\n",
    "import seaborn as sns\n",
    "import matplotlib.pyplot as plt\n",
    "plt.style.use(\"ggplot\")\n",
    "import plotly.express as px"
   ]
  },
  {
   "cell_type": "markdown",
   "id": "25f16e1d-7fb1-4f39-bf92-d51f0d216cb1",
   "metadata": {
    "jp-MarkdownHeadingCollapsed": true
   },
   "source": [
    "### Load and Merge Data\n",
    "- To simplify data cleaning, we merge the train and test datasets into a new DataFrame called `df`.\n",
    "- Create a Series named `is_train` to identify the origin of the data (whether it comes from the training or test set)"
   ]
  },
  {
   "cell_type": "code",
   "execution_count": 10,
   "id": "ae7b5ac4-f74d-4c4b-9488-460d33da84f1",
   "metadata": {},
   "outputs": [],
   "source": [
    "train_df = pd.read_json('../data/train.json')\n",
    "test_df = pd.read_json('../data/test.json')"
   ]
  },
  {
   "cell_type": "code",
   "execution_count": 11,
   "id": "35b18a2a-6e4c-4511-83aa-262744e9eabf",
   "metadata": {},
   "outputs": [],
   "source": [
    "train_df['is_train'] = 1               \n",
    "test_df['is_train'] = 0\n",
    "df = pd.concat([train_df, test_df], ignore_index = True)"
   ]
  },
  {
   "cell_type": "code",
   "execution_count": 12,
   "id": "c5d52b41-b135-476a-b885-d2ab04c5ce5f",
   "metadata": {},
   "outputs": [
    {
     "data": {
      "text/html": [
       "<div>\n",
       "<style scoped>\n",
       "    .dataframe tbody tr th:only-of-type {\n",
       "        vertical-align: middle;\n",
       "    }\n",
       "\n",
       "    .dataframe tbody tr th {\n",
       "        vertical-align: top;\n",
       "    }\n",
       "\n",
       "    .dataframe thead th {\n",
       "        text-align: right;\n",
       "    }\n",
       "</style>\n",
       "<table border=\"1\" class=\"dataframe\">\n",
       "  <thead>\n",
       "    <tr style=\"text-align: right;\">\n",
       "      <th></th>\n",
       "      <th>id</th>\n",
       "      <th>province</th>\n",
       "      <th>district</th>\n",
       "      <th>subdistrict</th>\n",
       "      <th>address</th>\n",
       "      <th>property_type</th>\n",
       "      <th>total_units</th>\n",
       "      <th>bedrooms</th>\n",
       "      <th>baths</th>\n",
       "      <th>floor_area</th>\n",
       "      <th>...</th>\n",
       "      <th>nearby_stations</th>\n",
       "      <th>nearby_station_distance</th>\n",
       "      <th>nearby_bus_stops</th>\n",
       "      <th>nearby_supermarkets</th>\n",
       "      <th>nearby_shops</th>\n",
       "      <th>year_built</th>\n",
       "      <th>month_built</th>\n",
       "      <th>facilities</th>\n",
       "      <th>price</th>\n",
       "      <th>is_train</th>\n",
       "    </tr>\n",
       "  </thead>\n",
       "  <tbody>\n",
       "    <tr>\n",
       "      <th>0</th>\n",
       "      <td>8448321</td>\n",
       "      <td>Bangkok</td>\n",
       "      <td>Watthana</td>\n",
       "      <td>Phra Khanong Nuea</td>\n",
       "      <td>36 Soi Sukhumvit 63, Ekamai Road</td>\n",
       "      <td>Condo</td>\n",
       "      <td>273.0</td>\n",
       "      <td>2.0</td>\n",
       "      <td>2.0</td>\n",
       "      <td>66</td>\n",
       "      <td>...</td>\n",
       "      <td>2</td>\n",
       "      <td>[[E7 Ekkamai BTS, 270], [E6 Thong Lo BTS, 800]]</td>\n",
       "      <td>NaN</td>\n",
       "      <td>16.0</td>\n",
       "      <td>20</td>\n",
       "      <td>2011</td>\n",
       "      <td>June</td>\n",
       "      <td>[Car Park, Community Garden, CCTV, Fitness cor...</td>\n",
       "      <td>8500000.0</td>\n",
       "      <td>1</td>\n",
       "    </tr>\n",
       "  </tbody>\n",
       "</table>\n",
       "<p>1 rows × 24 columns</p>\n",
       "</div>"
      ],
      "text/plain": [
       "        id province  district        subdistrict  \\\n",
       "0  8448321  Bangkok  Watthana  Phra Khanong Nuea   \n",
       "\n",
       "                            address property_type  total_units  bedrooms  \\\n",
       "0  36 Soi Sukhumvit 63, Ekamai Road         Condo        273.0       2.0   \n",
       "\n",
       "   baths  floor_area  ...  nearby_stations  \\\n",
       "0    2.0          66  ...                2   \n",
       "\n",
       "                           nearby_station_distance  nearby_bus_stops  \\\n",
       "0  [[E7 Ekkamai BTS, 270], [E6 Thong Lo BTS, 800]]               NaN   \n",
       "\n",
       "   nearby_supermarkets  nearby_shops year_built  month_built  \\\n",
       "0                 16.0            20       2011         June   \n",
       "\n",
       "                                          facilities      price  is_train  \n",
       "0  [Car Park, Community Garden, CCTV, Fitness cor...  8500000.0         1  \n",
       "\n",
       "[1 rows x 24 columns]"
      ]
     },
     "execution_count": 12,
     "metadata": {},
     "output_type": "execute_result"
    }
   ],
   "source": [
    "df.head(1)"
   ]
  },
  {
   "cell_type": "code",
   "execution_count": 13,
   "id": "263f24da-40cc-4f11-aa28-370997b8d12b",
   "metadata": {},
   "outputs": [],
   "source": [
    "# df.query(\"province == 'Bangkok' and district == 'Phra Khanong' and property_type == 'Detached House'\")"
   ]
  },
  {
   "cell_type": "code",
   "execution_count": 14,
   "id": "e94d9c6a-8d8f-4eab-9a77-f4b05fb0b379",
   "metadata": {},
   "outputs": [],
   "source": [
    "# Sample in presentation\n",
    "# df.iloc[4456,]"
   ]
  },
  {
   "cell_type": "markdown",
   "id": "7ebb3ee8-216c-417f-8e48-27b4ada8ffd2",
   "metadata": {
    "jp-MarkdownHeadingCollapsed": true
   },
   "source": [
    "### Cleaning Columns\n",
    "- The DataFrame `df` have total of 24 features (including `is_train`), and 16,772 records.\n",
    "- Half of all features are categorical variables:\n",
    "  - `id`\n",
    "  - `province`\n",
    "  - `district`\n",
    "  - `subdistrict`\n",
    "  - `address`\n",
    "  - `property_type`\n",
    "  - `latitude`\n",
    "  - `longitude`\n",
    "  - `nearby_station_distance`\n",
    "  - `year_built`\n",
    "  - `month_built`\n",
    "  - `facilites`\n",
    "  - `is_train`\n",
    "- The rest features are numeric variables:\n",
    "    - `total_units`\n",
    "    - `bedrooms`\n",
    "    - `baths`\n",
    "    - `floor_area`\n",
    "    - `floor_level`\n",
    "    - `land_area`\n",
    "    - `nearby_stations`\n",
    "    - `nearby_bus_stops`\n",
    "    - `nearby_supermarkets`\n",
    "    - `nearby_shops`\n",
    "    - `price`.\n",
    "- The core columns are `id`,`province`, `property_type`, `price` and `is_train`. Since different property types and main location tend to have distinct price ranges.\n",
    "- Each column is cleaned individually, or dropped if unnecessary.\n",
    "- The overall cleaning process is performed in various ways, with a focus on the following aspects\n",
    "  - Handling `NaN` and 0 values\n",
    "  - value of outliers\n",
    "  - identifying and managing outliers\n",
    "- Some columns that varies significantly is transformed by grouping into bins or classified into categories"
   ]
  },
  {
   "cell_type": "markdown",
   "id": "c8532b47-0cb5-4f1a-803f-697d78c62d46",
   "metadata": {
    "jp-MarkdownHeadingCollapsed": true
   },
   "source": [
    "#### List of Columns"
   ]
  },
  {
   "cell_type": "code",
   "execution_count": 17,
   "id": "5177aea0-20f7-4a1d-8c2f-2b3229567067",
   "metadata": {},
   "outputs": [
    {
     "data": {
      "text/plain": [
       "id                           int64\n",
       "province                    object\n",
       "district                    object\n",
       "subdistrict                 object\n",
       "address                     object\n",
       "property_type               object\n",
       "total_units                float64\n",
       "bedrooms                   float64\n",
       "baths                      float64\n",
       "floor_area                   int64\n",
       "floor_level                float64\n",
       "land_area                  float64\n",
       "latitude                   float64\n",
       "longitude                  float64\n",
       "nearby_stations              int64\n",
       "nearby_station_distance     object\n",
       "nearby_bus_stops           float64\n",
       "nearby_supermarkets        float64\n",
       "nearby_shops                 int64\n",
       "year_built                   int64\n",
       "month_built                 object\n",
       "facilities                  object\n",
       "price                      float64\n",
       "is_train                     int64\n",
       "dtype: object"
      ]
     },
     "execution_count": 17,
     "metadata": {},
     "output_type": "execute_result"
    }
   ],
   "source": [
    "df.dtypes   # List of columns and types"
   ]
  },
  {
   "cell_type": "markdown",
   "id": "0939dd0c-759c-495b-ad7c-1a2544cb5ea5",
   "metadata": {
    "jp-MarkdownHeadingCollapsed": true
   },
   "source": [
    "#### `id`, `property_type` and `is_train`\n",
    "- `id`: This column serves as the unique identifier for each property, ensuring that no two properties share the same ID.\n",
    "- `property_type`: This is a critical feature because different property types (e.g., Condo, Detached House, Townhouse) tend to have distinct price ranges.\n",
    "- `is_train`: This column indicates whether the data point belongs to the training set (True) or the test set (False), helping to differentiate the source of the data.\n",
    "\n",
    "It’s important to check each column by grouping the data by `property_type` and `is_train` to better understand how the properties vary in these groups."
   ]
  },
  {
   "cell_type": "code",
   "execution_count": 19,
   "id": "f1730525-70d6-42cf-918f-061433d76e13",
   "metadata": {},
   "outputs": [],
   "source": [
    "kc = ['property_type','is_train']       # make list of key column"
   ]
  },
  {
   "cell_type": "markdown",
   "id": "c8cfd399-0dc6-40b5-8c84-31cc112c44bb",
   "metadata": {
    "jp-MarkdownHeadingCollapsed": true
   },
   "source": [
    "#### `province`\n",
    "- There are no `NaN` values in this column.\n",
    "- Each group contains the same 3 unique values: Bangkok, Nonthaburi, and Samut Prakan.\n",
    "- No cleaning is necessary."
   ]
  },
  {
   "cell_type": "code",
   "execution_count": 21,
   "id": "08963e00-ddf1-49b9-b9a6-bac3734a464c",
   "metadata": {},
   "outputs": [
    {
     "data": {
      "text/plain": [
       "property_type   is_train\n",
       "Condo           0           0.0\n",
       "                1           0.0\n",
       "Detached House  0           0.0\n",
       "                1           0.0\n",
       "Townhouse       0           0.0\n",
       "                1           0.0\n",
       "Name: province, dtype: float64"
      ]
     },
     "execution_count": 21,
     "metadata": {},
     "output_type": "execute_result"
    }
   ],
   "source": [
    "# Check NaN\n",
    "df.groupby(kc)['province'].agg(lambda group: (group.isnull().mean() * 100).round(2))"
   ]
  },
  {
   "cell_type": "code",
   "execution_count": 22,
   "id": "ca0a6dce-5a12-4de4-add1-20f85bb151e4",
   "metadata": {},
   "outputs": [
    {
     "data": {
      "text/plain": [
       "property_type   is_train\n",
       "Condo           0           [Bangkok, Nonthaburi, Samut Prakan]\n",
       "                1           [Bangkok, Nonthaburi, Samut Prakan]\n",
       "Detached House  0           [Bangkok, Nonthaburi, Samut Prakan]\n",
       "                1           [Bangkok, Nonthaburi, Samut Prakan]\n",
       "Townhouse       0           [Bangkok, Nonthaburi, Samut Prakan]\n",
       "                1           [Bangkok, Nonthaburi, Samut Prakan]\n",
       "Name: province, dtype: object"
      ]
     },
     "execution_count": 22,
     "metadata": {},
     "output_type": "execute_result"
    }
   ],
   "source": [
    "# Check Unique Values\n",
    "df.groupby(kc)['province'].unique().apply(np.sort)"
   ]
  },
  {
   "cell_type": "markdown",
   "id": "cd6ddbf6-b780-4517-a24d-f8b6f77d29fe",
   "metadata": {
    "jp-MarkdownHeadingCollapsed": true
   },
   "source": [
    "#### `district`\n",
    "- There are no `NaN` values in this column.\n",
    "- For each `property_type`, the number of unique values of train dataset greater than in test dataset.\n",
    "- No cleaning is necessary."
   ]
  },
  {
   "cell_type": "code",
   "execution_count": 24,
   "id": "03ec2f3d-193e-43d7-8a18-52b60ca4186b",
   "metadata": {},
   "outputs": [
    {
     "data": {
      "text/plain": [
       "property_type   is_train\n",
       "Condo           0           0.0\n",
       "                1           0.0\n",
       "Detached House  0           0.0\n",
       "                1           0.0\n",
       "Townhouse       0           0.0\n",
       "                1           0.0\n",
       "Name: district, dtype: float64"
      ]
     },
     "execution_count": 24,
     "metadata": {},
     "output_type": "execute_result"
    }
   ],
   "source": [
    "# Check NaNs\n",
    "df.groupby(kc)['district'].agg(lambda group: (group.isnull().mean() * 100).round(2))"
   ]
  },
  {
   "cell_type": "code",
   "execution_count": 25,
   "id": "cb4e086d-c1bf-434c-87dc-20f018d0b56c",
   "metadata": {},
   "outputs": [
    {
     "data": {
      "text/plain": [
       "property_type   is_train\n",
       "Condo           0           47\n",
       "                1           50\n",
       "Detached House  0           39\n",
       "                1           52\n",
       "Townhouse       0           45\n",
       "                1           52\n",
       "Name: district, dtype: int64"
      ]
     },
     "execution_count": 25,
     "metadata": {},
     "output_type": "execute_result"
    }
   ],
   "source": [
    "# Check Unique Values\n",
    "df.groupby(kc)['district'].nunique()"
   ]
  },
  {
   "cell_type": "code",
   "execution_count": 26,
   "id": "18fd48c0-c6bd-416c-894e-1930fd6b83af",
   "metadata": {},
   "outputs": [
    {
     "data": {
      "text/plain": [
       "['Bang Bo',\n",
       " 'Bang Bon',\n",
       " 'Bang Bua Thong',\n",
       " 'Bang Kapi',\n",
       " 'Bang Khae',\n",
       " 'Bang Khen',\n",
       " 'Bang Kho Laem',\n",
       " 'Bang Khun Thian',\n",
       " 'Bang Kruai',\n",
       " 'Bang Na',\n",
       " 'Bang Phlat',\n",
       " 'Bang Phli',\n",
       " 'Bang Rak',\n",
       " 'Bang Sao Thong',\n",
       " 'Bang Sue',\n",
       " 'Bang Yai',\n",
       " 'Bangkok Noi',\n",
       " 'Bangkok Yai',\n",
       " 'Bueng Kum',\n",
       " 'Chatuchak',\n",
       " 'Chom Thong',\n",
       " 'Din Daeng',\n",
       " 'Don Mueang',\n",
       " 'Huai Khwang',\n",
       " 'Khan Na Yao',\n",
       " 'Khlong Sam Wa',\n",
       " 'Khlong San',\n",
       " 'Khlong Toei',\n",
       " 'Lak Si',\n",
       " 'Lat Krabang',\n",
       " 'Lat Phrao',\n",
       " 'Min Buri',\n",
       " 'Mueang Nonthaburi',\n",
       " 'Mueang Samut Prakan',\n",
       " 'Nong Chok',\n",
       " 'Nong Khaem',\n",
       " 'Pak Kret',\n",
       " 'Pathum Wan',\n",
       " 'Phasi Charoen',\n",
       " 'Phaya Thai',\n",
       " 'Phra Khanong',\n",
       " 'Phra Pradaeng',\n",
       " 'Phra Samut Jadee',\n",
       " 'Prawet',\n",
       " 'Rat Burana',\n",
       " 'Ratchathewi',\n",
       " 'Sai Mai',\n",
       " 'Sai Noi',\n",
       " 'Saphan Sung',\n",
       " 'Sathon',\n",
       " 'Suan Luang',\n",
       " 'Taling Chan',\n",
       " 'Thawi Watthana',\n",
       " 'Thon Buri',\n",
       " 'Thung Khru',\n",
       " 'Wang Thonglang',\n",
       " 'Watthana',\n",
       " 'Yan Nawa']"
      ]
     },
     "execution_count": 26,
     "metadata": {},
     "output_type": "execute_result"
    }
   ],
   "source": [
    "sorted(df['district'].unique())"
   ]
  },
  {
   "cell_type": "markdown",
   "id": "44d9a63c-14b5-4918-8169-126165500c5f",
   "metadata": {
    "jp-MarkdownHeadingCollapsed": true
   },
   "source": [
    "#### `subdistrict`, `address`, `latitude`, and `longitude`\n",
    "- We will drop these columns because they are non-numeric, have too many values, and also related to `province` and `district`."
   ]
  },
  {
   "cell_type": "code",
   "execution_count": 28,
   "id": "215ba833-edf9-4b7a-b27f-ddf9bde83adf",
   "metadata": {},
   "outputs": [
    {
     "data": {
      "text/html": [
       "<div>\n",
       "<style scoped>\n",
       "    .dataframe tbody tr th:only-of-type {\n",
       "        vertical-align: middle;\n",
       "    }\n",
       "\n",
       "    .dataframe tbody tr th {\n",
       "        vertical-align: top;\n",
       "    }\n",
       "\n",
       "    .dataframe thead th {\n",
       "        text-align: right;\n",
       "    }\n",
       "</style>\n",
       "<table border=\"1\" class=\"dataframe\">\n",
       "  <thead>\n",
       "    <tr style=\"text-align: right;\">\n",
       "      <th></th>\n",
       "      <th></th>\n",
       "      <th>subdistrict</th>\n",
       "      <th>address</th>\n",
       "      <th>latitude</th>\n",
       "      <th>longitude</th>\n",
       "    </tr>\n",
       "    <tr>\n",
       "      <th>property_type</th>\n",
       "      <th>is_train</th>\n",
       "      <th></th>\n",
       "      <th></th>\n",
       "      <th></th>\n",
       "      <th></th>\n",
       "    </tr>\n",
       "  </thead>\n",
       "  <tbody>\n",
       "    <tr>\n",
       "      <th rowspan=\"2\" valign=\"top\">Condo</th>\n",
       "      <th>0</th>\n",
       "      <td>130</td>\n",
       "      <td>705</td>\n",
       "      <td>776</td>\n",
       "      <td>774</td>\n",
       "    </tr>\n",
       "    <tr>\n",
       "      <th>1</th>\n",
       "      <td>162</td>\n",
       "      <td>1174</td>\n",
       "      <td>1324</td>\n",
       "      <td>1322</td>\n",
       "    </tr>\n",
       "    <tr>\n",
       "      <th rowspan=\"2\" valign=\"top\">Detached House</th>\n",
       "      <th>0</th>\n",
       "      <td>105</td>\n",
       "      <td>245</td>\n",
       "      <td>285</td>\n",
       "      <td>279</td>\n",
       "    </tr>\n",
       "    <tr>\n",
       "      <th>1</th>\n",
       "      <td>163</td>\n",
       "      <td>768</td>\n",
       "      <td>1251</td>\n",
       "      <td>1233</td>\n",
       "    </tr>\n",
       "    <tr>\n",
       "      <th rowspan=\"2\" valign=\"top\">Townhouse</th>\n",
       "      <th>0</th>\n",
       "      <td>121</td>\n",
       "      <td>317</td>\n",
       "      <td>421</td>\n",
       "      <td>412</td>\n",
       "    </tr>\n",
       "    <tr>\n",
       "      <th>1</th>\n",
       "      <td>162</td>\n",
       "      <td>978</td>\n",
       "      <td>1738</td>\n",
       "      <td>1721</td>\n",
       "    </tr>\n",
       "  </tbody>\n",
       "</table>\n",
       "</div>"
      ],
      "text/plain": [
       "                         subdistrict  address  latitude  longitude\n",
       "property_type  is_train                                           \n",
       "Condo          0                 130      705       776        774\n",
       "               1                 162     1174      1324       1322\n",
       "Detached House 0                 105      245       285        279\n",
       "               1                 163      768      1251       1233\n",
       "Townhouse      0                 121      317       421        412\n",
       "               1                 162      978      1738       1721"
      ]
     },
     "execution_count": 28,
     "metadata": {},
     "output_type": "execute_result"
    }
   ],
   "source": [
    "# Check Unique Values\n",
    "df.groupby(kc)[['subdistrict', 'address', 'latitude', 'longitude']].nunique()"
   ]
  },
  {
   "cell_type": "code",
   "execution_count": 29,
   "id": "d2ca4c08-c96e-4a94-b4a4-7027595f056f",
   "metadata": {},
   "outputs": [],
   "source": [
    "df.drop(columns = ['subdistrict', 'address', 'latitude', 'longitude'], inplace = True, errors = 'ignore')"
   ]
  },
  {
   "cell_type": "markdown",
   "id": "0f326963-85a3-4b45-ad11-a8569aa1bb2b",
   "metadata": {
    "jp-MarkdownHeadingCollapsed": true
   },
   "source": [
    "#### `total_units`, and `month_built`\n",
    "- We will drop these columns because, in the `property_type` of Detached House and Townhouse, more than 50% of their values are `NaN`."
   ]
  },
  {
   "cell_type": "code",
   "execution_count": 31,
   "id": "d867328f-ea0c-428f-902e-d13ee8e07fcc",
   "metadata": {},
   "outputs": [
    {
     "data": {
      "text/html": [
       "<div>\n",
       "<style scoped>\n",
       "    .dataframe tbody tr th:only-of-type {\n",
       "        vertical-align: middle;\n",
       "    }\n",
       "\n",
       "    .dataframe tbody tr th {\n",
       "        vertical-align: top;\n",
       "    }\n",
       "\n",
       "    .dataframe thead th {\n",
       "        text-align: right;\n",
       "    }\n",
       "</style>\n",
       "<table border=\"1\" class=\"dataframe\">\n",
       "  <thead>\n",
       "    <tr style=\"text-align: right;\">\n",
       "      <th></th>\n",
       "      <th></th>\n",
       "      <th>total_units</th>\n",
       "      <th>month_built</th>\n",
       "    </tr>\n",
       "    <tr>\n",
       "      <th>property_type</th>\n",
       "      <th>is_train</th>\n",
       "      <th></th>\n",
       "      <th></th>\n",
       "    </tr>\n",
       "  </thead>\n",
       "  <tbody>\n",
       "    <tr>\n",
       "      <th rowspan=\"2\" valign=\"top\">Condo</th>\n",
       "      <th>0</th>\n",
       "      <td>1.89</td>\n",
       "      <td>9.16</td>\n",
       "    </tr>\n",
       "    <tr>\n",
       "      <th>1</th>\n",
       "      <td>1.88</td>\n",
       "      <td>9.66</td>\n",
       "    </tr>\n",
       "    <tr>\n",
       "      <th rowspan=\"2\" valign=\"top\">Detached House</th>\n",
       "      <th>0</th>\n",
       "      <td>67.44</td>\n",
       "      <td>97.98</td>\n",
       "    </tr>\n",
       "    <tr>\n",
       "      <th>1</th>\n",
       "      <td>65.51</td>\n",
       "      <td>97.28</td>\n",
       "    </tr>\n",
       "    <tr>\n",
       "      <th rowspan=\"2\" valign=\"top\">Townhouse</th>\n",
       "      <th>0</th>\n",
       "      <td>73.06</td>\n",
       "      <td>99.22</td>\n",
       "    </tr>\n",
       "    <tr>\n",
       "      <th>1</th>\n",
       "      <td>74.86</td>\n",
       "      <td>99.27</td>\n",
       "    </tr>\n",
       "  </tbody>\n",
       "</table>\n",
       "</div>"
      ],
      "text/plain": [
       "                         total_units  month_built\n",
       "property_type  is_train                          \n",
       "Condo          0                1.89         9.16\n",
       "               1                1.88         9.66\n",
       "Detached House 0               67.44        97.98\n",
       "               1               65.51        97.28\n",
       "Townhouse      0               73.06        99.22\n",
       "               1               74.86        99.27"
      ]
     },
     "execution_count": 31,
     "metadata": {},
     "output_type": "execute_result"
    }
   ],
   "source": [
    "# Check NaNs\n",
    "df.groupby(kc)[['total_units','month_built']].agg(lambda group: (group.isnull().mean() * 100).round(2))"
   ]
  },
  {
   "cell_type": "code",
   "execution_count": 32,
   "id": "8f1dc16b-ad32-4219-a997-195fb3a7ad33",
   "metadata": {},
   "outputs": [],
   "source": [
    "df.drop(columns = ['total_units','month_built'], inplace = True, errors = 'ignore')"
   ]
  },
  {
   "cell_type": "markdown",
   "id": "6a28b033-16d1-46c9-90a0-7892f7d0617c",
   "metadata": {
    "jp-MarkdownHeadingCollapsed": true
   },
   "source": [
    "#### `bedrooms`\n",
    "- In the training dataset, calculate the median and determine the bounds for outliers for each `property_type`.\n",
    "- Use the median to impute `NaN` values for both the training and test datasets.\n",
    "- Based on the outlier bounds, create a new column `has_many_bedrooms` to indicate whether the number of `bedrooms` exceeds the bound."
   ]
  },
  {
   "cell_type": "code",
   "execution_count": 34,
   "id": "04706571-d24c-4f6d-8717-eeb792231bb1",
   "metadata": {},
   "outputs": [
    {
     "data": {
      "text/plain": [
       "property_type   is_train\n",
       "Condo           0           0.37\n",
       "                1           0.23\n",
       "Detached House  0           0.58\n",
       "                1           0.51\n",
       "Townhouse       0           0.39\n",
       "                1           0.38\n",
       "Name: bedrooms, dtype: float64"
      ]
     },
     "execution_count": 34,
     "metadata": {},
     "output_type": "execute_result"
    }
   ],
   "source": [
    "# Check NaN\n",
    "df.groupby(kc)['bedrooms'].agg(lambda group: (group.isnull().mean() * 100).round(2))"
   ]
  },
  {
   "cell_type": "code",
   "execution_count": 35,
   "id": "90d3f732-1dca-4bf2-a8eb-7e8107302a2a",
   "metadata": {},
   "outputs": [
    {
     "data": {
      "text/html": [
       "<div>\n",
       "<style scoped>\n",
       "    .dataframe tbody tr th:only-of-type {\n",
       "        vertical-align: middle;\n",
       "    }\n",
       "\n",
       "    .dataframe tbody tr th {\n",
       "        vertical-align: top;\n",
       "    }\n",
       "\n",
       "    .dataframe thead th {\n",
       "        text-align: right;\n",
       "    }\n",
       "</style>\n",
       "<table border=\"1\" class=\"dataframe\">\n",
       "  <thead>\n",
       "    <tr style=\"text-align: right;\">\n",
       "      <th></th>\n",
       "      <th></th>\n",
       "      <th>count</th>\n",
       "      <th>mean</th>\n",
       "      <th>std</th>\n",
       "      <th>min</th>\n",
       "      <th>25%</th>\n",
       "      <th>50%</th>\n",
       "      <th>75%</th>\n",
       "      <th>max</th>\n",
       "    </tr>\n",
       "    <tr>\n",
       "      <th>property_type</th>\n",
       "      <th>is_train</th>\n",
       "      <th></th>\n",
       "      <th></th>\n",
       "      <th></th>\n",
       "      <th></th>\n",
       "      <th></th>\n",
       "      <th></th>\n",
       "      <th></th>\n",
       "      <th></th>\n",
       "    </tr>\n",
       "  </thead>\n",
       "  <tbody>\n",
       "    <tr>\n",
       "      <th rowspan=\"2\" valign=\"top\">Condo</th>\n",
       "      <th>0</th>\n",
       "      <td>1631.0</td>\n",
       "      <td>1.174126</td>\n",
       "      <td>0.387336</td>\n",
       "      <td>1.0</td>\n",
       "      <td>1.0</td>\n",
       "      <td>1.0</td>\n",
       "      <td>1.0</td>\n",
       "      <td>3.0</td>\n",
       "    </tr>\n",
       "    <tr>\n",
       "      <th>1</th>\n",
       "      <td>9185.0</td>\n",
       "      <td>1.188568</td>\n",
       "      <td>0.409677</td>\n",
       "      <td>1.0</td>\n",
       "      <td>1.0</td>\n",
       "      <td>1.0</td>\n",
       "      <td>1.0</td>\n",
       "      <td>8.0</td>\n",
       "    </tr>\n",
       "    <tr>\n",
       "      <th rowspan=\"2\" valign=\"top\">Detached House</th>\n",
       "      <th>0</th>\n",
       "      <td>345.0</td>\n",
       "      <td>3.336232</td>\n",
       "      <td>0.768185</td>\n",
       "      <td>1.0</td>\n",
       "      <td>3.0</td>\n",
       "      <td>3.0</td>\n",
       "      <td>4.0</td>\n",
       "      <td>10.0</td>\n",
       "    </tr>\n",
       "    <tr>\n",
       "      <th>1</th>\n",
       "      <td>2158.0</td>\n",
       "      <td>3.341520</td>\n",
       "      <td>0.780291</td>\n",
       "      <td>1.0</td>\n",
       "      <td>3.0</td>\n",
       "      <td>3.0</td>\n",
       "      <td>4.0</td>\n",
       "      <td>10.0</td>\n",
       "    </tr>\n",
       "    <tr>\n",
       "      <th rowspan=\"2\" valign=\"top\">Townhouse</th>\n",
       "      <th>0</th>\n",
       "      <td>514.0</td>\n",
       "      <td>2.988327</td>\n",
       "      <td>0.751775</td>\n",
       "      <td>1.0</td>\n",
       "      <td>3.0</td>\n",
       "      <td>3.0</td>\n",
       "      <td>3.0</td>\n",
       "      <td>7.0</td>\n",
       "    </tr>\n",
       "    <tr>\n",
       "      <th>1</th>\n",
       "      <td>2885.0</td>\n",
       "      <td>2.991681</td>\n",
       "      <td>0.737776</td>\n",
       "      <td>1.0</td>\n",
       "      <td>3.0</td>\n",
       "      <td>3.0</td>\n",
       "      <td>3.0</td>\n",
       "      <td>10.0</td>\n",
       "    </tr>\n",
       "  </tbody>\n",
       "</table>\n",
       "</div>"
      ],
      "text/plain": [
       "                          count      mean       std  min  25%  50%  75%   max\n",
       "property_type  is_train                                                      \n",
       "Condo          0         1631.0  1.174126  0.387336  1.0  1.0  1.0  1.0   3.0\n",
       "               1         9185.0  1.188568  0.409677  1.0  1.0  1.0  1.0   8.0\n",
       "Detached House 0          345.0  3.336232  0.768185  1.0  3.0  3.0  4.0  10.0\n",
       "               1         2158.0  3.341520  0.780291  1.0  3.0  3.0  4.0  10.0\n",
       "Townhouse      0          514.0  2.988327  0.751775  1.0  3.0  3.0  3.0   7.0\n",
       "               1         2885.0  2.991681  0.737776  1.0  3.0  3.0  3.0  10.0"
      ]
     },
     "execution_count": 35,
     "metadata": {},
     "output_type": "execute_result"
    }
   ],
   "source": [
    "# Check Statistic\n",
    "df.groupby(kc)['bedrooms'].describe()"
   ]
  },
  {
   "cell_type": "code",
   "execution_count": 36,
   "id": "09bca19f-6b70-4f43-9419-dbaf805c1751",
   "metadata": {},
   "outputs": [],
   "source": [
    "# Impute NaN with training's median of each property\n",
    "\n",
    "props = ['Condo', 'Detached House', 'Townhouse']          # This list will be reused\n",
    "\n",
    "for prop in props:                                                                                        # loop to each property_type\n",
    "    bedrooms_median = df[(df['property_type'] == prop) & (df['is_train'] == 1)]['bedrooms'].median()      # training's median\n",
    "    df.loc[(df['property_type'] == prop) & (df['bedrooms'].isna()), 'bedrooms'] = bedrooms_median         # impute to NaN  "
   ]
  },
  {
   "cell_type": "code",
   "execution_count": 37,
   "id": "a4daa985-2294-4d37-bd66-d7fb266e57b0",
   "metadata": {},
   "outputs": [],
   "source": [
    "# Create column has_many_bedrooms and initiate it to 0\n",
    "\n",
    "df['has_many_bedrooms'] = 0\n",
    "\n",
    "for prop in props:\n",
    "    # Find lower bound and upper bound\n",
    "    bedrooms_q1 = df[(df['property_type'] == prop) & (df['is_train'] == 1)]['bedrooms'].quantile(.25)\n",
    "    bedrooms_q3 = df[(df['property_type'] == prop) & (df['is_train'] == 1)]['bedrooms'].quantile(.75)\n",
    "    bedrooms_iqr = bedrooms_q3 - bedrooms_q1\n",
    "    bedrooms_lb = bedrooms_q1 - 1.5 * bedrooms_iqr\n",
    "    bedrooms_ub = bedrooms_q3 + 1.5 * bedrooms_iqr\n",
    "    # if the number of bedrooms is outside the upper bound, set it to 1\n",
    "    df.loc[(df['property_type'] == prop), 'has_many_bedrooms'] = (df['bedrooms'] > bedrooms_ub).astype(int)"
   ]
  },
  {
   "cell_type": "code",
   "execution_count": 38,
   "id": "b9ce9a54-1512-4956-99f8-d3aef67c0737",
   "metadata": {},
   "outputs": [
    {
     "data": {
      "text/html": [
       "<div>\n",
       "<style scoped>\n",
       "    .dataframe tbody tr th:only-of-type {\n",
       "        vertical-align: middle;\n",
       "    }\n",
       "\n",
       "    .dataframe tbody tr th {\n",
       "        vertical-align: top;\n",
       "    }\n",
       "\n",
       "    .dataframe thead th {\n",
       "        text-align: right;\n",
       "    }\n",
       "</style>\n",
       "<table border=\"1\" class=\"dataframe\">\n",
       "  <thead>\n",
       "    <tr style=\"text-align: right;\">\n",
       "      <th></th>\n",
       "      <th></th>\n",
       "      <th>bedrooms</th>\n",
       "      <th>1.0</th>\n",
       "      <th>2.0</th>\n",
       "      <th>3.0</th>\n",
       "      <th>4.0</th>\n",
       "      <th>5.0</th>\n",
       "      <th>6.0</th>\n",
       "      <th>7.0</th>\n",
       "      <th>8.0</th>\n",
       "      <th>9.0</th>\n",
       "      <th>10.0</th>\n",
       "    </tr>\n",
       "    <tr>\n",
       "      <th>property_type</th>\n",
       "      <th>is_train</th>\n",
       "      <th>has_many_bedrooms</th>\n",
       "      <th></th>\n",
       "      <th></th>\n",
       "      <th></th>\n",
       "      <th></th>\n",
       "      <th></th>\n",
       "      <th></th>\n",
       "      <th></th>\n",
       "      <th></th>\n",
       "      <th></th>\n",
       "      <th></th>\n",
       "    </tr>\n",
       "  </thead>\n",
       "  <tbody>\n",
       "    <tr>\n",
       "      <th rowspan=\"4\" valign=\"top\">Condo</th>\n",
       "      <th rowspan=\"2\" valign=\"top\">0</th>\n",
       "      <th>0</th>\n",
       "      <td>1358</td>\n",
       "      <td>0</td>\n",
       "      <td>0</td>\n",
       "      <td>0</td>\n",
       "      <td>0</td>\n",
       "      <td>0</td>\n",
       "      <td>0</td>\n",
       "      <td>0</td>\n",
       "      <td>0</td>\n",
       "      <td>0</td>\n",
       "    </tr>\n",
       "    <tr>\n",
       "      <th>1</th>\n",
       "      <td>0</td>\n",
       "      <td>274</td>\n",
       "      <td>5</td>\n",
       "      <td>0</td>\n",
       "      <td>0</td>\n",
       "      <td>0</td>\n",
       "      <td>0</td>\n",
       "      <td>0</td>\n",
       "      <td>0</td>\n",
       "      <td>0</td>\n",
       "    </tr>\n",
       "    <tr>\n",
       "      <th rowspan=\"2\" valign=\"top\">1</th>\n",
       "      <th>0</th>\n",
       "      <td>7520</td>\n",
       "      <td>0</td>\n",
       "      <td>0</td>\n",
       "      <td>0</td>\n",
       "      <td>0</td>\n",
       "      <td>0</td>\n",
       "      <td>0</td>\n",
       "      <td>0</td>\n",
       "      <td>0</td>\n",
       "      <td>0</td>\n",
       "    </tr>\n",
       "    <tr>\n",
       "      <th>1</th>\n",
       "      <td>0</td>\n",
       "      <td>1650</td>\n",
       "      <td>32</td>\n",
       "      <td>1</td>\n",
       "      <td>2</td>\n",
       "      <td>0</td>\n",
       "      <td>0</td>\n",
       "      <td>1</td>\n",
       "      <td>0</td>\n",
       "      <td>0</td>\n",
       "    </tr>\n",
       "    <tr>\n",
       "      <th rowspan=\"4\" valign=\"top\">Detached House</th>\n",
       "      <th rowspan=\"2\" valign=\"top\">0</th>\n",
       "      <th>0</th>\n",
       "      <td>3</td>\n",
       "      <td>11</td>\n",
       "      <td>225</td>\n",
       "      <td>91</td>\n",
       "      <td>13</td>\n",
       "      <td>0</td>\n",
       "      <td>0</td>\n",
       "      <td>0</td>\n",
       "      <td>0</td>\n",
       "      <td>0</td>\n",
       "    </tr>\n",
       "    <tr>\n",
       "      <th>1</th>\n",
       "      <td>0</td>\n",
       "      <td>0</td>\n",
       "      <td>0</td>\n",
       "      <td>0</td>\n",
       "      <td>0</td>\n",
       "      <td>3</td>\n",
       "      <td>0</td>\n",
       "      <td>0</td>\n",
       "      <td>0</td>\n",
       "      <td>1</td>\n",
       "    </tr>\n",
       "    <tr>\n",
       "      <th rowspan=\"2\" valign=\"top\">1</th>\n",
       "      <th>0</th>\n",
       "      <td>14</td>\n",
       "      <td>99</td>\n",
       "      <td>1372</td>\n",
       "      <td>562</td>\n",
       "      <td>83</td>\n",
       "      <td>0</td>\n",
       "      <td>0</td>\n",
       "      <td>0</td>\n",
       "      <td>0</td>\n",
       "      <td>0</td>\n",
       "    </tr>\n",
       "    <tr>\n",
       "      <th>1</th>\n",
       "      <td>0</td>\n",
       "      <td>0</td>\n",
       "      <td>0</td>\n",
       "      <td>0</td>\n",
       "      <td>0</td>\n",
       "      <td>29</td>\n",
       "      <td>6</td>\n",
       "      <td>1</td>\n",
       "      <td>1</td>\n",
       "      <td>2</td>\n",
       "    </tr>\n",
       "    <tr>\n",
       "      <th rowspan=\"4\" valign=\"top\">Townhouse</th>\n",
       "      <th rowspan=\"2\" valign=\"top\">0</th>\n",
       "      <th>0</th>\n",
       "      <td>3</td>\n",
       "      <td>112</td>\n",
       "      <td>309</td>\n",
       "      <td>0</td>\n",
       "      <td>0</td>\n",
       "      <td>0</td>\n",
       "      <td>0</td>\n",
       "      <td>0</td>\n",
       "      <td>0</td>\n",
       "      <td>0</td>\n",
       "    </tr>\n",
       "    <tr>\n",
       "      <th>1</th>\n",
       "      <td>0</td>\n",
       "      <td>0</td>\n",
       "      <td>0</td>\n",
       "      <td>77</td>\n",
       "      <td>12</td>\n",
       "      <td>1</td>\n",
       "      <td>2</td>\n",
       "      <td>0</td>\n",
       "      <td>0</td>\n",
       "      <td>0</td>\n",
       "    </tr>\n",
       "    <tr>\n",
       "      <th rowspan=\"2\" valign=\"top\">1</th>\n",
       "      <th>0</th>\n",
       "      <td>23</td>\n",
       "      <td>578</td>\n",
       "      <td>1786</td>\n",
       "      <td>0</td>\n",
       "      <td>0</td>\n",
       "      <td>0</td>\n",
       "      <td>0</td>\n",
       "      <td>0</td>\n",
       "      <td>0</td>\n",
       "      <td>0</td>\n",
       "    </tr>\n",
       "    <tr>\n",
       "      <th>1</th>\n",
       "      <td>0</td>\n",
       "      <td>0</td>\n",
       "      <td>0</td>\n",
       "      <td>451</td>\n",
       "      <td>39</td>\n",
       "      <td>13</td>\n",
       "      <td>1</td>\n",
       "      <td>3</td>\n",
       "      <td>1</td>\n",
       "      <td>1</td>\n",
       "    </tr>\n",
       "  </tbody>\n",
       "</table>\n",
       "</div>"
      ],
      "text/plain": [
       "bedrooms                                   1.0   2.0   3.0   4.0   5.0   6.0   \\\n",
       "property_type  is_train has_many_bedrooms                                       \n",
       "Condo          0        0                  1358     0     0     0     0     0   \n",
       "                        1                     0   274     5     0     0     0   \n",
       "               1        0                  7520     0     0     0     0     0   \n",
       "                        1                     0  1650    32     1     2     0   \n",
       "Detached House 0        0                     3    11   225    91    13     0   \n",
       "                        1                     0     0     0     0     0     3   \n",
       "               1        0                    14    99  1372   562    83     0   \n",
       "                        1                     0     0     0     0     0    29   \n",
       "Townhouse      0        0                     3   112   309     0     0     0   \n",
       "                        1                     0     0     0    77    12     1   \n",
       "               1        0                    23   578  1786     0     0     0   \n",
       "                        1                     0     0     0   451    39    13   \n",
       "\n",
       "bedrooms                                   7.0   8.0   9.0   10.0  \n",
       "property_type  is_train has_many_bedrooms                          \n",
       "Condo          0        0                     0     0     0     0  \n",
       "                        1                     0     0     0     0  \n",
       "               1        0                     0     0     0     0  \n",
       "                        1                     0     1     0     0  \n",
       "Detached House 0        0                     0     0     0     0  \n",
       "                        1                     0     0     0     1  \n",
       "               1        0                     0     0     0     0  \n",
       "                        1                     6     1     1     2  \n",
       "Townhouse      0        0                     0     0     0     0  \n",
       "                        1                     2     0     0     0  \n",
       "               1        0                     0     0     0     0  \n",
       "                        1                     1     3     1     1  "
      ]
     },
     "execution_count": 38,
     "metadata": {},
     "output_type": "execute_result"
    }
   ],
   "source": [
    "# Check Unique Values\n",
    "df.groupby(['property_type','is_train','has_many_bedrooms'])['bedrooms'].value_counts(dropna = False).unstack(fill_value = 0)"
   ]
  },
  {
   "cell_type": "markdown",
   "id": "e4cfdee5-fcc1-4494-aa04-699471f70f6d",
   "metadata": {},
   "source": [
    "#### `baths`\n",
    "- In the training dataset, calculate the median and determine the bounds for outliers for each `property_type`.\n",
    "- Use the median to impute `NaN` values and 0 for both the training and test datasets.\n",
    "- Based on the outlier bounds, create a new column `has_many_baths` to indicate whether the number of `baths` exceeds the bound."
   ]
  },
  {
   "cell_type": "code",
   "execution_count": 40,
   "id": "9248663c-e54e-492b-9f7f-80b48de1ef33",
   "metadata": {},
   "outputs": [
    {
     "data": {
      "text/plain": [
       "property_type   is_train\n",
       "Condo           0           0.43\n",
       "                1           0.21\n",
       "Detached House  0           0.58\n",
       "                1           0.37\n",
       "Townhouse       0           0.19\n",
       "                1           0.28\n",
       "Name: baths, dtype: float64"
      ]
     },
     "execution_count": 40,
     "metadata": {},
     "output_type": "execute_result"
    }
   ],
   "source": [
    "# Check NaN\n",
    "df.groupby(kc)['baths'].agg(lambda group: (group.isnull().mean() * 100).round(2))"
   ]
  },
  {
   "cell_type": "code",
   "execution_count": 41,
   "id": "ee18f1b4-b04b-4919-b8d6-e8bd5806e8de",
   "metadata": {},
   "outputs": [
    {
     "data": {
      "text/html": [
       "<div>\n",
       "<style scoped>\n",
       "    .dataframe tbody tr th:only-of-type {\n",
       "        vertical-align: middle;\n",
       "    }\n",
       "\n",
       "    .dataframe tbody tr th {\n",
       "        vertical-align: top;\n",
       "    }\n",
       "\n",
       "    .dataframe thead th {\n",
       "        text-align: right;\n",
       "    }\n",
       "</style>\n",
       "<table border=\"1\" class=\"dataframe\">\n",
       "  <thead>\n",
       "    <tr style=\"text-align: right;\">\n",
       "      <th></th>\n",
       "      <th></th>\n",
       "      <th>count</th>\n",
       "      <th>mean</th>\n",
       "      <th>std</th>\n",
       "      <th>min</th>\n",
       "      <th>25%</th>\n",
       "      <th>50%</th>\n",
       "      <th>75%</th>\n",
       "      <th>max</th>\n",
       "    </tr>\n",
       "    <tr>\n",
       "      <th>property_type</th>\n",
       "      <th>is_train</th>\n",
       "      <th></th>\n",
       "      <th></th>\n",
       "      <th></th>\n",
       "      <th></th>\n",
       "      <th></th>\n",
       "      <th></th>\n",
       "      <th></th>\n",
       "      <th></th>\n",
       "    </tr>\n",
       "  </thead>\n",
       "  <tbody>\n",
       "    <tr>\n",
       "      <th rowspan=\"2\" valign=\"top\">Condo</th>\n",
       "      <th>0</th>\n",
       "      <td>1630.0</td>\n",
       "      <td>1.100613</td>\n",
       "      <td>0.308961</td>\n",
       "      <td>0.0</td>\n",
       "      <td>1.0</td>\n",
       "      <td>1.0</td>\n",
       "      <td>1.0</td>\n",
       "      <td>3.0</td>\n",
       "    </tr>\n",
       "    <tr>\n",
       "      <th>1</th>\n",
       "      <td>9187.0</td>\n",
       "      <td>1.109938</td>\n",
       "      <td>0.330430</td>\n",
       "      <td>0.0</td>\n",
       "      <td>1.0</td>\n",
       "      <td>1.0</td>\n",
       "      <td>1.0</td>\n",
       "      <td>8.0</td>\n",
       "    </tr>\n",
       "    <tr>\n",
       "      <th rowspan=\"2\" valign=\"top\">Detached House</th>\n",
       "      <th>0</th>\n",
       "      <td>345.0</td>\n",
       "      <td>2.675362</td>\n",
       "      <td>0.693912</td>\n",
       "      <td>1.0</td>\n",
       "      <td>2.0</td>\n",
       "      <td>3.0</td>\n",
       "      <td>3.0</td>\n",
       "      <td>5.0</td>\n",
       "    </tr>\n",
       "    <tr>\n",
       "      <th>1</th>\n",
       "      <td>2161.0</td>\n",
       "      <td>2.684405</td>\n",
       "      <td>0.806445</td>\n",
       "      <td>0.0</td>\n",
       "      <td>2.0</td>\n",
       "      <td>3.0</td>\n",
       "      <td>3.0</td>\n",
       "      <td>9.0</td>\n",
       "    </tr>\n",
       "    <tr>\n",
       "      <th rowspan=\"2\" valign=\"top\">Townhouse</th>\n",
       "      <th>0</th>\n",
       "      <td>515.0</td>\n",
       "      <td>2.466019</td>\n",
       "      <td>0.771773</td>\n",
       "      <td>1.0</td>\n",
       "      <td>2.0</td>\n",
       "      <td>2.0</td>\n",
       "      <td>3.0</td>\n",
       "      <td>6.0</td>\n",
       "    </tr>\n",
       "    <tr>\n",
       "      <th>1</th>\n",
       "      <td>2888.0</td>\n",
       "      <td>2.437673</td>\n",
       "      <td>0.760285</td>\n",
       "      <td>0.0</td>\n",
       "      <td>2.0</td>\n",
       "      <td>2.0</td>\n",
       "      <td>3.0</td>\n",
       "      <td>7.0</td>\n",
       "    </tr>\n",
       "  </tbody>\n",
       "</table>\n",
       "</div>"
      ],
      "text/plain": [
       "                          count      mean       std  min  25%  50%  75%  max\n",
       "property_type  is_train                                                     \n",
       "Condo          0         1630.0  1.100613  0.308961  0.0  1.0  1.0  1.0  3.0\n",
       "               1         9187.0  1.109938  0.330430  0.0  1.0  1.0  1.0  8.0\n",
       "Detached House 0          345.0  2.675362  0.693912  1.0  2.0  3.0  3.0  5.0\n",
       "               1         2161.0  2.684405  0.806445  0.0  2.0  3.0  3.0  9.0\n",
       "Townhouse      0          515.0  2.466019  0.771773  1.0  2.0  2.0  3.0  6.0\n",
       "               1         2888.0  2.437673  0.760285  0.0  2.0  2.0  3.0  7.0"
      ]
     },
     "execution_count": 41,
     "metadata": {},
     "output_type": "execute_result"
    }
   ],
   "source": [
    "df.groupby(kc)['baths'].describe()"
   ]
  },
  {
   "cell_type": "code",
   "execution_count": 42,
   "id": "7c11bf11-1835-4489-a043-4ec5406f4f0a",
   "metadata": {},
   "outputs": [
    {
     "data": {
      "text/html": [
       "<div>\n",
       "<style scoped>\n",
       "    .dataframe tbody tr th:only-of-type {\n",
       "        vertical-align: middle;\n",
       "    }\n",
       "\n",
       "    .dataframe tbody tr th {\n",
       "        vertical-align: top;\n",
       "    }\n",
       "\n",
       "    .dataframe thead th {\n",
       "        text-align: right;\n",
       "    }\n",
       "</style>\n",
       "<table border=\"1\" class=\"dataframe\">\n",
       "  <thead>\n",
       "    <tr style=\"text-align: right;\">\n",
       "      <th></th>\n",
       "      <th>baths</th>\n",
       "      <th>0.0</th>\n",
       "      <th>1.0</th>\n",
       "      <th>2.0</th>\n",
       "      <th>3.0</th>\n",
       "      <th>4.0</th>\n",
       "      <th>5.0</th>\n",
       "      <th>6.0</th>\n",
       "      <th>7.0</th>\n",
       "      <th>8.0</th>\n",
       "      <th>9.0</th>\n",
       "      <th>NaN</th>\n",
       "    </tr>\n",
       "    <tr>\n",
       "      <th>property_type</th>\n",
       "      <th>is_train</th>\n",
       "      <th></th>\n",
       "      <th></th>\n",
       "      <th></th>\n",
       "      <th></th>\n",
       "      <th></th>\n",
       "      <th></th>\n",
       "      <th></th>\n",
       "      <th></th>\n",
       "      <th></th>\n",
       "      <th></th>\n",
       "      <th></th>\n",
       "    </tr>\n",
       "  </thead>\n",
       "  <tbody>\n",
       "    <tr>\n",
       "      <th rowspan=\"2\" valign=\"top\">Condo</th>\n",
       "      <th>0</th>\n",
       "      <td>2</td>\n",
       "      <td>1464</td>\n",
       "      <td>162</td>\n",
       "      <td>2</td>\n",
       "      <td>0</td>\n",
       "      <td>0</td>\n",
       "      <td>0</td>\n",
       "      <td>0</td>\n",
       "      <td>0</td>\n",
       "      <td>0</td>\n",
       "      <td>7</td>\n",
       "    </tr>\n",
       "    <tr>\n",
       "      <th>1</th>\n",
       "      <td>16</td>\n",
       "      <td>8165</td>\n",
       "      <td>992</td>\n",
       "      <td>12</td>\n",
       "      <td>1</td>\n",
       "      <td>0</td>\n",
       "      <td>0</td>\n",
       "      <td>0</td>\n",
       "      <td>1</td>\n",
       "      <td>0</td>\n",
       "      <td>19</td>\n",
       "    </tr>\n",
       "    <tr>\n",
       "      <th rowspan=\"2\" valign=\"top\">Detached House</th>\n",
       "      <th>0</th>\n",
       "      <td>0</td>\n",
       "      <td>6</td>\n",
       "      <td>134</td>\n",
       "      <td>176</td>\n",
       "      <td>24</td>\n",
       "      <td>5</td>\n",
       "      <td>0</td>\n",
       "      <td>0</td>\n",
       "      <td>0</td>\n",
       "      <td>0</td>\n",
       "      <td>2</td>\n",
       "    </tr>\n",
       "    <tr>\n",
       "      <th>1</th>\n",
       "      <td>3</td>\n",
       "      <td>58</td>\n",
       "      <td>842</td>\n",
       "      <td>1054</td>\n",
       "      <td>146</td>\n",
       "      <td>43</td>\n",
       "      <td>11</td>\n",
       "      <td>1</td>\n",
       "      <td>2</td>\n",
       "      <td>1</td>\n",
       "      <td>8</td>\n",
       "    </tr>\n",
       "    <tr>\n",
       "      <th rowspan=\"2\" valign=\"top\">Townhouse</th>\n",
       "      <th>0</th>\n",
       "      <td>0</td>\n",
       "      <td>13</td>\n",
       "      <td>312</td>\n",
       "      <td>139</td>\n",
       "      <td>40</td>\n",
       "      <td>10</td>\n",
       "      <td>1</td>\n",
       "      <td>0</td>\n",
       "      <td>0</td>\n",
       "      <td>0</td>\n",
       "      <td>1</td>\n",
       "    </tr>\n",
       "    <tr>\n",
       "      <th>1</th>\n",
       "      <td>2</td>\n",
       "      <td>95</td>\n",
       "      <td>1741</td>\n",
       "      <td>789</td>\n",
       "      <td>220</td>\n",
       "      <td>32</td>\n",
       "      <td>7</td>\n",
       "      <td>2</td>\n",
       "      <td>0</td>\n",
       "      <td>0</td>\n",
       "      <td>8</td>\n",
       "    </tr>\n",
       "  </tbody>\n",
       "</table>\n",
       "</div>"
      ],
      "text/plain": [
       "baths                    0.0   1.0   2.0   3.0  4.0  5.0  6.0  7.0  8.0  9.0  \\\n",
       "property_type  is_train                                                        \n",
       "Condo          0           2  1464   162     2    0    0    0    0    0    0   \n",
       "               1          16  8165   992    12    1    0    0    0    1    0   \n",
       "Detached House 0           0     6   134   176   24    5    0    0    0    0   \n",
       "               1           3    58   842  1054  146   43   11    1    2    1   \n",
       "Townhouse      0           0    13   312   139   40   10    1    0    0    0   \n",
       "               1           2    95  1741   789  220   32    7    2    0    0   \n",
       "\n",
       "baths                    NaN  \n",
       "property_type  is_train       \n",
       "Condo          0           7  \n",
       "               1          19  \n",
       "Detached House 0           2  \n",
       "               1           8  \n",
       "Townhouse      0           1  \n",
       "               1           8  "
      ]
     },
     "execution_count": 42,
     "metadata": {},
     "output_type": "execute_result"
    }
   ],
   "source": [
    "# Check Unique Values\n",
    "df.groupby(kc)['baths'].value_counts(dropna = False).unstack(fill_value = 0)"
   ]
  },
  {
   "cell_type": "code",
   "execution_count": 43,
   "id": "7ecb4837-ad9e-4d09-b504-1c555bb17b8c",
   "metadata": {},
   "outputs": [],
   "source": [
    "# Impute NaN and 0 with training's median of each property\n",
    "# props = ['Condo', 'Detached House', 'Townhouse']\n",
    "\n",
    "for prop in props:                                                                                        # loop to each property_type\n",
    "    baths_median = df[(df['property_type'] == prop) & (df['is_train'] == 1)]['baths'].median()            # training's median\n",
    "    df.loc[(df['property_type'] == prop) & (df['baths'].isna()), 'baths'] = baths_median                  # impute to NaN\n",
    "    df.loc[(df['property_type'] == prop) & (df['baths'] == 0), 'baths'] = baths_median                    # impute to 0"
   ]
  },
  {
   "cell_type": "code",
   "execution_count": 44,
   "id": "6e75f136-f99e-4808-9ae2-0a5bade517e5",
   "metadata": {},
   "outputs": [],
   "source": [
    "# Create column has_many_baths and initiate it to 0\n",
    "\n",
    "df['has_many_baths'] = 0\n",
    "\n",
    "for prop in props:\n",
    "    # Find lower bound and upper bound\n",
    "    baths_q1 = df[(df['property_type'] == prop) & (df['is_train'] == 1)]['baths'].quantile(.25)\n",
    "    baths_q3 = df[(df['property_type'] == prop) & (df['is_train'] == 1)]['baths'].quantile(.75)\n",
    "    baths_iqr = baths_q3 - baths_q1\n",
    "    baths_lb = baths_q1 - 1.5 * baths_iqr\n",
    "    baths_ub = baths_q3 + 1.5 * baths_iqr\n",
    "    # if the number of baths is outside the upper bound, set it to 1\n",
    "    df.loc[(df['property_type'] == prop), 'has_many_baths'] = (df['baths'] > baths_ub).astype(int)"
   ]
  },
  {
   "cell_type": "code",
   "execution_count": 45,
   "id": "2e01398f-8f73-4de6-bb7b-2c4e33074a6b",
   "metadata": {},
   "outputs": [
    {
     "data": {
      "text/html": [
       "<div>\n",
       "<style scoped>\n",
       "    .dataframe tbody tr th:only-of-type {\n",
       "        vertical-align: middle;\n",
       "    }\n",
       "\n",
       "    .dataframe tbody tr th {\n",
       "        vertical-align: top;\n",
       "    }\n",
       "\n",
       "    .dataframe thead th {\n",
       "        text-align: right;\n",
       "    }\n",
       "</style>\n",
       "<table border=\"1\" class=\"dataframe\">\n",
       "  <thead>\n",
       "    <tr style=\"text-align: right;\">\n",
       "      <th></th>\n",
       "      <th></th>\n",
       "      <th>baths</th>\n",
       "      <th>1.0</th>\n",
       "      <th>2.0</th>\n",
       "      <th>3.0</th>\n",
       "      <th>4.0</th>\n",
       "      <th>5.0</th>\n",
       "      <th>6.0</th>\n",
       "      <th>7.0</th>\n",
       "      <th>8.0</th>\n",
       "      <th>9.0</th>\n",
       "    </tr>\n",
       "    <tr>\n",
       "      <th>property_type</th>\n",
       "      <th>is_train</th>\n",
       "      <th>has_many_baths</th>\n",
       "      <th></th>\n",
       "      <th></th>\n",
       "      <th></th>\n",
       "      <th></th>\n",
       "      <th></th>\n",
       "      <th></th>\n",
       "      <th></th>\n",
       "      <th></th>\n",
       "      <th></th>\n",
       "    </tr>\n",
       "  </thead>\n",
       "  <tbody>\n",
       "    <tr>\n",
       "      <th rowspan=\"4\" valign=\"top\">Condo</th>\n",
       "      <th rowspan=\"2\" valign=\"top\">0</th>\n",
       "      <th>0</th>\n",
       "      <td>1473</td>\n",
       "      <td>0</td>\n",
       "      <td>0</td>\n",
       "      <td>0</td>\n",
       "      <td>0</td>\n",
       "      <td>0</td>\n",
       "      <td>0</td>\n",
       "      <td>0</td>\n",
       "      <td>0</td>\n",
       "    </tr>\n",
       "    <tr>\n",
       "      <th>1</th>\n",
       "      <td>0</td>\n",
       "      <td>162</td>\n",
       "      <td>2</td>\n",
       "      <td>0</td>\n",
       "      <td>0</td>\n",
       "      <td>0</td>\n",
       "      <td>0</td>\n",
       "      <td>0</td>\n",
       "      <td>0</td>\n",
       "    </tr>\n",
       "    <tr>\n",
       "      <th rowspan=\"2\" valign=\"top\">1</th>\n",
       "      <th>0</th>\n",
       "      <td>8200</td>\n",
       "      <td>0</td>\n",
       "      <td>0</td>\n",
       "      <td>0</td>\n",
       "      <td>0</td>\n",
       "      <td>0</td>\n",
       "      <td>0</td>\n",
       "      <td>0</td>\n",
       "      <td>0</td>\n",
       "    </tr>\n",
       "    <tr>\n",
       "      <th>1</th>\n",
       "      <td>0</td>\n",
       "      <td>992</td>\n",
       "      <td>12</td>\n",
       "      <td>1</td>\n",
       "      <td>0</td>\n",
       "      <td>0</td>\n",
       "      <td>0</td>\n",
       "      <td>1</td>\n",
       "      <td>0</td>\n",
       "    </tr>\n",
       "    <tr>\n",
       "      <th rowspan=\"4\" valign=\"top\">Detached House</th>\n",
       "      <th rowspan=\"2\" valign=\"top\">0</th>\n",
       "      <th>0</th>\n",
       "      <td>6</td>\n",
       "      <td>134</td>\n",
       "      <td>178</td>\n",
       "      <td>24</td>\n",
       "      <td>0</td>\n",
       "      <td>0</td>\n",
       "      <td>0</td>\n",
       "      <td>0</td>\n",
       "      <td>0</td>\n",
       "    </tr>\n",
       "    <tr>\n",
       "      <th>1</th>\n",
       "      <td>0</td>\n",
       "      <td>0</td>\n",
       "      <td>0</td>\n",
       "      <td>0</td>\n",
       "      <td>5</td>\n",
       "      <td>0</td>\n",
       "      <td>0</td>\n",
       "      <td>0</td>\n",
       "      <td>0</td>\n",
       "    </tr>\n",
       "    <tr>\n",
       "      <th rowspan=\"2\" valign=\"top\">1</th>\n",
       "      <th>0</th>\n",
       "      <td>58</td>\n",
       "      <td>842</td>\n",
       "      <td>1065</td>\n",
       "      <td>146</td>\n",
       "      <td>0</td>\n",
       "      <td>0</td>\n",
       "      <td>0</td>\n",
       "      <td>0</td>\n",
       "      <td>0</td>\n",
       "    </tr>\n",
       "    <tr>\n",
       "      <th>1</th>\n",
       "      <td>0</td>\n",
       "      <td>0</td>\n",
       "      <td>0</td>\n",
       "      <td>0</td>\n",
       "      <td>43</td>\n",
       "      <td>11</td>\n",
       "      <td>1</td>\n",
       "      <td>2</td>\n",
       "      <td>1</td>\n",
       "    </tr>\n",
       "    <tr>\n",
       "      <th rowspan=\"4\" valign=\"top\">Townhouse</th>\n",
       "      <th rowspan=\"2\" valign=\"top\">0</th>\n",
       "      <th>0</th>\n",
       "      <td>13</td>\n",
       "      <td>313</td>\n",
       "      <td>139</td>\n",
       "      <td>40</td>\n",
       "      <td>0</td>\n",
       "      <td>0</td>\n",
       "      <td>0</td>\n",
       "      <td>0</td>\n",
       "      <td>0</td>\n",
       "    </tr>\n",
       "    <tr>\n",
       "      <th>1</th>\n",
       "      <td>0</td>\n",
       "      <td>0</td>\n",
       "      <td>0</td>\n",
       "      <td>0</td>\n",
       "      <td>10</td>\n",
       "      <td>1</td>\n",
       "      <td>0</td>\n",
       "      <td>0</td>\n",
       "      <td>0</td>\n",
       "    </tr>\n",
       "    <tr>\n",
       "      <th rowspan=\"2\" valign=\"top\">1</th>\n",
       "      <th>0</th>\n",
       "      <td>95</td>\n",
       "      <td>1751</td>\n",
       "      <td>789</td>\n",
       "      <td>220</td>\n",
       "      <td>0</td>\n",
       "      <td>0</td>\n",
       "      <td>0</td>\n",
       "      <td>0</td>\n",
       "      <td>0</td>\n",
       "    </tr>\n",
       "    <tr>\n",
       "      <th>1</th>\n",
       "      <td>0</td>\n",
       "      <td>0</td>\n",
       "      <td>0</td>\n",
       "      <td>0</td>\n",
       "      <td>32</td>\n",
       "      <td>7</td>\n",
       "      <td>2</td>\n",
       "      <td>0</td>\n",
       "      <td>0</td>\n",
       "    </tr>\n",
       "  </tbody>\n",
       "</table>\n",
       "</div>"
      ],
      "text/plain": [
       "baths                                    1.0   2.0   3.0  4.0  5.0  6.0  7.0  \\\n",
       "property_type  is_train has_many_baths                                         \n",
       "Condo          0        0               1473     0     0    0    0    0    0   \n",
       "                        1                  0   162     2    0    0    0    0   \n",
       "               1        0               8200     0     0    0    0    0    0   \n",
       "                        1                  0   992    12    1    0    0    0   \n",
       "Detached House 0        0                  6   134   178   24    0    0    0   \n",
       "                        1                  0     0     0    0    5    0    0   \n",
       "               1        0                 58   842  1065  146    0    0    0   \n",
       "                        1                  0     0     0    0   43   11    1   \n",
       "Townhouse      0        0                 13   313   139   40    0    0    0   \n",
       "                        1                  0     0     0    0   10    1    0   \n",
       "               1        0                 95  1751   789  220    0    0    0   \n",
       "                        1                  0     0     0    0   32    7    2   \n",
       "\n",
       "baths                                   8.0  9.0  \n",
       "property_type  is_train has_many_baths            \n",
       "Condo          0        0                 0    0  \n",
       "                        1                 0    0  \n",
       "               1        0                 0    0  \n",
       "                        1                 1    0  \n",
       "Detached House 0        0                 0    0  \n",
       "                        1                 0    0  \n",
       "               1        0                 0    0  \n",
       "                        1                 2    1  \n",
       "Townhouse      0        0                 0    0  \n",
       "                        1                 0    0  \n",
       "               1        0                 0    0  \n",
       "                        1                 0    0  "
      ]
     },
     "execution_count": 45,
     "metadata": {},
     "output_type": "execute_result"
    }
   ],
   "source": [
    "# Check Unique Values\n",
    "df.groupby(['property_type','is_train','has_many_baths'])['baths'].value_counts(dropna = False).unstack(fill_value = 0)"
   ]
  },
  {
   "cell_type": "markdown",
   "id": "1e95faf8-1b3f-4a90-8850-3628c7c0fde0",
   "metadata": {
    "jp-MarkdownHeadingCollapsed": true
   },
   "source": [
    "#### `floor_area`\n",
    "- The floor area displays trends of high positive skewness.\n",
    "- To address the high positive skewness observed in the floor area data, we consider applying a log transformation and obtain a new column `log_floor_area`."
   ]
  },
  {
   "cell_type": "code",
   "execution_count": 47,
   "id": "7eb70c8f-5730-4fc0-a143-8bf144701173",
   "metadata": {},
   "outputs": [
    {
     "data": {
      "text/plain": [
       "property_type   is_train\n",
       "Condo           0           0.0\n",
       "                1           0.0\n",
       "Detached House  0           0.0\n",
       "                1           0.0\n",
       "Townhouse       0           0.0\n",
       "                1           0.0\n",
       "Name: floor_area, dtype: float64"
      ]
     },
     "execution_count": 47,
     "metadata": {},
     "output_type": "execute_result"
    }
   ],
   "source": [
    "# Check NaN\n",
    "df.groupby(kc)['floor_area'].agg(lambda group: (group.isnull().mean() * 100).round(2))"
   ]
  },
  {
   "cell_type": "code",
   "execution_count": 48,
   "id": "ba5a1d0f-7272-4d70-9bb6-ff0eb1fb28cc",
   "metadata": {},
   "outputs": [
    {
     "data": {
      "text/plain": [
       "property_type   is_train\n",
       "Condo           0           1.592339\n",
       "                1           4.133731\n",
       "Detached House  0           2.002849\n",
       "                1           2.168523\n",
       "Townhouse       0           1.138485\n",
       "                1           1.621942\n",
       "Name: floor_area, dtype: float64"
      ]
     },
     "execution_count": 48,
     "metadata": {},
     "output_type": "execute_result"
    }
   ],
   "source": [
    "df.groupby(kc)['floor_area'].skew()"
   ]
  },
  {
   "cell_type": "code",
   "execution_count": 49,
   "id": "5020572c-c318-4fb1-b14f-3889b3c8bcc9",
   "metadata": {},
   "outputs": [
    {
     "data": {
      "text/plain": [
       "property_type   is_train\n",
       "Condo           0            34.0\n",
       "                1            35.0\n",
       "Detached House  0           172.0\n",
       "                1           171.0\n",
       "Townhouse       0           116.0\n",
       "                1           116.0\n",
       "Name: floor_area, dtype: float64"
      ]
     },
     "execution_count": 49,
     "metadata": {},
     "output_type": "execute_result"
    }
   ],
   "source": [
    "df.groupby(kc)['floor_area'].median()"
   ]
  },
  {
   "cell_type": "code",
   "execution_count": 50,
   "id": "1667e184-273d-4332-92f5-87d33a40c1a3",
   "metadata": {},
   "outputs": [
    {
     "data": {
      "image/png": "[encoded data removed]",
      "text/plain": [
       "<Figure size 1500x500 with 3 Axes>"
      ]
     },
     "metadata": {},
     "output_type": "display_data"
    }
   ],
   "source": [
    "property_types = df['property_type'].unique()\n",
    "\n",
    "# Create subplots\n",
    "fig, axes = plt.subplots(nrows=1, ncols=len(property_types), figsize=(15, 5))\n",
    "\n",
    "# Loop through each property type and create a histogram\n",
    "for ax, property_type in zip(axes, property_types):\n",
    "    sns.histplot(data=df[df['property_type'] == property_type],\n",
    "                 x = 'floor_area', \n",
    "                 bins = 30, \n",
    "                 kde = True, \n",
    "                 ax = ax)\n",
    "    ax.set_title(f'Histogram of Floor Area\\n(Property Type: {property_type})')\n",
    "    ax.set_xlabel('Floor Area')\n",
    "    ax.set_ylabel('Count')\n",
    "\n",
    "# Adjust layout\n",
    "plt.tight_layout()\n",
    "plt.show()"
   ]
  },
  {
   "cell_type": "code",
   "execution_count": 51,
   "id": "9bbd452a-647c-4799-9744-9778741e415f",
   "metadata": {},
   "outputs": [],
   "source": [
    "df['log_floor_area'] = np.log(df['floor_area'])"
   ]
  },
  {
   "cell_type": "code",
   "execution_count": 52,
   "id": "0eb72809-040e-4f77-8a1b-f9a7afb849ab",
   "metadata": {},
   "outputs": [
    {
     "data": {
      "image/png": "[encoded data removed]",
      "text/plain": [
       "<Figure size 1500x500 with 3 Axes>"
      ]
     },
     "metadata": {},
     "output_type": "display_data"
    }
   ],
   "source": [
    "property_types = df['property_type'].unique()\n",
    "\n",
    "# Create subplots\n",
    "fig, axes = plt.subplots(nrows=1, ncols=len(property_types), figsize=(15, 5))\n",
    "\n",
    "# Loop through each property type and create a histogram\n",
    "for ax, property_type in zip(axes, property_types):\n",
    "    sns.histplot(data=df[df['property_type'] == property_type],\n",
    "                 x = 'log_floor_area', \n",
    "                 bins = 30, \n",
    "                 kde = True, \n",
    "                 ax = ax)\n",
    "    ax.set_title(f'Histogram of Floor Area\\n(Property Type: {property_type})')\n",
    "    ax.set_xlabel('Floor Area')\n",
    "    ax.set_ylabel('Count')\n",
    "\n",
    "# Adjust layout\n",
    "plt.tight_layout()\n",
    "plt.show()"
   ]
  },
  {
   "cell_type": "code",
   "execution_count": 53,
   "id": "3f2d2c82-ea25-4de7-82cf-c85d214f7a0e",
   "metadata": {},
   "outputs": [
    {
     "data": {
      "text/plain": [
       "property_type   is_train\n",
       "Condo           0           0.773443\n",
       "                1           0.920872\n",
       "Detached House  0          -0.949977\n",
       "                1          -0.262562\n",
       "Townhouse       0          -0.480311\n",
       "                1          -1.580597\n",
       "Name: log_floor_area, dtype: float64"
      ]
     },
     "execution_count": 53,
     "metadata": {},
     "output_type": "execute_result"
    }
   ],
   "source": [
    "# Skewness is reducing\n",
    "\n",
    "df.groupby(kc)['log_floor_area'].skew()"
   ]
  },
  {
   "cell_type": "markdown",
   "id": "fa2d6fe1-09a1-43db-8719-b1168b7a4b7d",
   "metadata": {
    "jp-MarkdownHeadingCollapsed": true
   },
   "source": [
    "#### `floor_level`\n",
    "- The column `floor_level` has `NaN` values but no zeros.\n",
    "- Since approximately 85% of Detached House and Townhouse have `floor_level` as `NaN`, we set them all to 0.\n",
    "- In case of Condo, we impute around 20% of `NaN` with training's median of `floor_level`"
   ]
  },
  {
   "cell_type": "code",
   "execution_count": 55,
   "id": "e24f9127-5174-44a6-b706-0e828c70a4e8",
   "metadata": {},
   "outputs": [
    {
     "data": {
      "text/plain": [
       "property_type   is_train\n",
       "Condo           0           21.69\n",
       "                1           20.18\n",
       "Detached House  0           87.61\n",
       "                1           85.06\n",
       "Townhouse       0           85.27\n",
       "                1           85.46\n",
       "Name: floor_level, dtype: float64"
      ]
     },
     "execution_count": 55,
     "metadata": {},
     "output_type": "execute_result"
    }
   ],
   "source": [
    "df.groupby(kc)['floor_level'].agg(lambda group: (group.isnull().mean() * 100).round(2))"
   ]
  },
  {
   "cell_type": "code",
   "execution_count": 56,
   "id": "0d610749-6d55-4d30-9937-04f7d8f2b2f2",
   "metadata": {},
   "outputs": [
    {
     "data": {
      "text/plain": [
       "property_type   is_train\n",
       "Condo           0           [1.0, 2.0, 3.0, 4.0, 5.0, 6.0, 7.0, 8.0, 9.0, ...\n",
       "                1           [1.0, 2.0, 3.0, 4.0, 5.0, 6.0, 7.0, 8.0, 9.0, ...\n",
       "Detached House  0                                        [1.0, 2.0, 3.0, nan]\n",
       "                1            [1.0, 2.0, 3.0, 4.0, 7.0, 12.0, 13.0, 24.0, nan]\n",
       "Townhouse       0                                   [1.0, 2.0, 3.0, 4.0, nan]\n",
       "                1                        [1.0, 2.0, 3.0, 4.0, 5.0, 12.0, nan]\n",
       "Name: floor_level, dtype: object"
      ]
     },
     "execution_count": 56,
     "metadata": {},
     "output_type": "execute_result"
    }
   ],
   "source": [
    "# Check Unique Values\n",
    "df.groupby(kc)['floor_level'].unique().apply(np.sort)"
   ]
  },
  {
   "cell_type": "code",
   "execution_count": 57,
   "id": "7d27980f-5a92-45df-af85-11d19543829a",
   "metadata": {},
   "outputs": [],
   "source": [
    "# Set floor_level to 0 in case of Detached House and Townhouse\n",
    "\n",
    "df.loc[(df['property_type'] == 'Detached House'), 'floor_level'] = 0\n",
    "df.loc[(df['property_type'] == 'Townhouse'), 'floor_level'] = 0                          # Note that after both steps, NaN appears only in Condos\n",
    "\n",
    "# Set floor_level to Median in case of Condo\n",
    "\n",
    "median_floor_level_condo = df[(df['property_type'] == 'Condo') & (df['is_train'] == 1)]['floor_level'].median() \n",
    "df.loc[(df['property_type'] == 'Condo') & (df['floor_level'].isna()), 'floor_level'] = median_floor_level_condo"
   ]
  },
  {
   "cell_type": "markdown",
   "id": "abf7fa98-ee59-437f-a9df-69a7c2cc2161",
   "metadata": {
    "jp-MarkdownHeadingCollapsed": true
   },
   "source": [
    "#### `land_area`\n",
    "- All condos have a `land_area` recorded as `NaN`, which we will set to zero.\n",
    "- Approximately 3% of Detached Houses and Townhouses have `land_area` values recorded as `NaN`, which we will impute with the median `land_area` for each `property_type`.\n",
    "- The land area displays trends of high positive skewness.\n",
    "- To address the high positive skewness observed in the land area data, we consider applying a log transformation and obtain a new column `land_floor_area`."
   ]
  },
  {
   "cell_type": "code",
   "execution_count": 59,
   "id": "370fc7c2-435a-4208-afec-c08386323f4b",
   "metadata": {},
   "outputs": [
    {
     "data": {
      "text/plain": [
       "property_type   is_train\n",
       "Condo           0           100.00\n",
       "                1           100.00\n",
       "Detached House  0             3.17\n",
       "                1             2.54\n",
       "Townhouse       0             2.13\n",
       "                1             3.21\n",
       "Name: land_area, dtype: float64"
      ]
     },
     "execution_count": 59,
     "metadata": {},
     "output_type": "execute_result"
    }
   ],
   "source": [
    "# Check NaN\n",
    "df.groupby(kc)['land_area'].agg(lambda group: (group.isnull().mean() * 100).round(2))"
   ]
  },
  {
   "cell_type": "code",
   "execution_count": 60,
   "id": "798c5d47-41bf-48fb-a065-51b85ac59a69",
   "metadata": {},
   "outputs": [
    {
     "data": {
      "text/html": [
       "<div>\n",
       "<style scoped>\n",
       "    .dataframe tbody tr th:only-of-type {\n",
       "        vertical-align: middle;\n",
       "    }\n",
       "\n",
       "    .dataframe tbody tr th {\n",
       "        vertical-align: top;\n",
       "    }\n",
       "\n",
       "    .dataframe thead th {\n",
       "        text-align: right;\n",
       "    }\n",
       "</style>\n",
       "<table border=\"1\" class=\"dataframe\">\n",
       "  <thead>\n",
       "    <tr style=\"text-align: right;\">\n",
       "      <th></th>\n",
       "      <th></th>\n",
       "      <th>count</th>\n",
       "      <th>mean</th>\n",
       "      <th>std</th>\n",
       "      <th>min</th>\n",
       "      <th>25%</th>\n",
       "      <th>50%</th>\n",
       "      <th>75%</th>\n",
       "      <th>max</th>\n",
       "    </tr>\n",
       "    <tr>\n",
       "      <th>property_type</th>\n",
       "      <th>is_train</th>\n",
       "      <th></th>\n",
       "      <th></th>\n",
       "      <th></th>\n",
       "      <th></th>\n",
       "      <th></th>\n",
       "      <th></th>\n",
       "      <th></th>\n",
       "      <th></th>\n",
       "    </tr>\n",
       "  </thead>\n",
       "  <tbody>\n",
       "    <tr>\n",
       "      <th rowspan=\"2\" valign=\"top\">Condo</th>\n",
       "      <th>0</th>\n",
       "      <td>0.0</td>\n",
       "      <td>NaN</td>\n",
       "      <td>NaN</td>\n",
       "      <td>NaN</td>\n",
       "      <td>NaN</td>\n",
       "      <td>NaN</td>\n",
       "      <td>NaN</td>\n",
       "      <td>NaN</td>\n",
       "    </tr>\n",
       "    <tr>\n",
       "      <th>1</th>\n",
       "      <td>0.0</td>\n",
       "      <td>NaN</td>\n",
       "      <td>NaN</td>\n",
       "      <td>NaN</td>\n",
       "      <td>NaN</td>\n",
       "      <td>NaN</td>\n",
       "      <td>NaN</td>\n",
       "      <td>NaN</td>\n",
       "    </tr>\n",
       "    <tr>\n",
       "      <th rowspan=\"2\" valign=\"top\">Detached House</th>\n",
       "      <th>0</th>\n",
       "      <td>336.0</td>\n",
       "      <td>226.035714</td>\n",
       "      <td>73.435759</td>\n",
       "      <td>64.0</td>\n",
       "      <td>199.0</td>\n",
       "      <td>216.0</td>\n",
       "      <td>260.0</td>\n",
       "      <td>720.0</td>\n",
       "    </tr>\n",
       "    <tr>\n",
       "      <th>1</th>\n",
       "      <td>2114.0</td>\n",
       "      <td>363.303690</td>\n",
       "      <td>3614.738823</td>\n",
       "      <td>20.0</td>\n",
       "      <td>196.0</td>\n",
       "      <td>216.0</td>\n",
       "      <td>260.0</td>\n",
       "      <td>121600.0</td>\n",
       "    </tr>\n",
       "    <tr>\n",
       "      <th rowspan=\"2\" valign=\"top\">Townhouse</th>\n",
       "      <th>0</th>\n",
       "      <td>505.0</td>\n",
       "      <td>101.893069</td>\n",
       "      <td>139.405300</td>\n",
       "      <td>20.0</td>\n",
       "      <td>72.0</td>\n",
       "      <td>84.0</td>\n",
       "      <td>104.0</td>\n",
       "      <td>2516.0</td>\n",
       "    </tr>\n",
       "    <tr>\n",
       "      <th>1</th>\n",
       "      <td>2803.0</td>\n",
       "      <td>152.204067</td>\n",
       "      <td>2608.797588</td>\n",
       "      <td>16.0</td>\n",
       "      <td>72.0</td>\n",
       "      <td>84.0</td>\n",
       "      <td>104.0</td>\n",
       "      <td>137664.0</td>\n",
       "    </tr>\n",
       "  </tbody>\n",
       "</table>\n",
       "</div>"
      ],
      "text/plain": [
       "                          count        mean          std   min    25%    50%  \\\n",
       "property_type  is_train                                                        \n",
       "Condo          0            0.0         NaN          NaN   NaN    NaN    NaN   \n",
       "               1            0.0         NaN          NaN   NaN    NaN    NaN   \n",
       "Detached House 0          336.0  226.035714    73.435759  64.0  199.0  216.0   \n",
       "               1         2114.0  363.303690  3614.738823  20.0  196.0  216.0   \n",
       "Townhouse      0          505.0  101.893069   139.405300  20.0   72.0   84.0   \n",
       "               1         2803.0  152.204067  2608.797588  16.0   72.0   84.0   \n",
       "\n",
       "                           75%       max  \n",
       "property_type  is_train                   \n",
       "Condo          0           NaN       NaN  \n",
       "               1           NaN       NaN  \n",
       "Detached House 0         260.0     720.0  \n",
       "               1         260.0  121600.0  \n",
       "Townhouse      0         104.0    2516.0  \n",
       "               1         104.0  137664.0  "
      ]
     },
     "execution_count": 60,
     "metadata": {},
     "output_type": "execute_result"
    }
   ],
   "source": [
    "df.groupby(kc)['land_area'].describe()"
   ]
  },
  {
   "cell_type": "code",
   "execution_count": 61,
   "id": "9d5617d7-aefe-4168-aa8d-db43070107f7",
   "metadata": {},
   "outputs": [
    {
     "data": {
      "text/plain": [
       "property_type   is_train\n",
       "Condo           0                 NaN\n",
       "                1                 NaN\n",
       "Detached House  0            1.399465\n",
       "                1           31.772651\n",
       "Townhouse       0           13.808752\n",
       "                1           52.327878\n",
       "Name: land_area, dtype: float64"
      ]
     },
     "execution_count": 61,
     "metadata": {},
     "output_type": "execute_result"
    }
   ],
   "source": [
    "df.groupby(kc)['land_area'].skew()"
   ]
  },
  {
   "cell_type": "code",
   "execution_count": 62,
   "id": "934c6a36-d1dc-42ea-b989-9072fd7e3dce",
   "metadata": {},
   "outputs": [],
   "source": [
    "# Set land_area to 0 in case of Condo\n",
    "\n",
    "df.loc[(df['property_type'] == 'Condo'), 'land_area'] = 0\n",
    "\n",
    "# Set land_area to Median in case of Detached House and Townhouse\n",
    "\n",
    "for prop in ['Detached House','Townhouse']:\n",
    "    median_land_area = df[(df['property_type'] == prop) & (df['is_train'] == 1)]['land_area'].median() \n",
    "    df.loc[(df['property_type'] == prop) & (df['land_area'].isna()), 'land_area'] = median_land_area"
   ]
  },
  {
   "cell_type": "code",
   "execution_count": 63,
   "id": "0d31854b-c4cc-42b4-920d-d1816eb41437",
   "metadata": {},
   "outputs": [],
   "source": [
    "# Set to 0, if land_area = 0 in case of Condo\n",
    "\n",
    "import warnings\n",
    "warnings.filterwarnings(\"ignore\", category = RuntimeWarning)        # We already beware of log(0)\n",
    "\n",
    "df['log_land_area'] = np.where(df['land_area'] > 0, np.log(df['land_area']), 0)"
   ]
  },
  {
   "cell_type": "markdown",
   "id": "da7c704d-c9dd-41cd-ada7-a7b78bb1e416",
   "metadata": {
    "jp-MarkdownHeadingCollapsed": true
   },
   "source": [
    "#### `nearby_stations` and `nearby_station_distance`\n",
    "- The column `nearby_stations` has no `NaN` values.\n",
    "- By the way, if `nearby_stations` is 0, then `nearby_station_distance` is `NaN`\n",
    "- The column `nearby_station_distance` holds values as the collection of lists, station_name and distance in meters.\n",
    "- We'll extract the minimum distance and the station name from each list and store it in a new column called `minimum_station_distance`. If the list is empty (`nearby_stations` is 0), we'll assign a value of 0.\n",
    "- Then, we drop the original column `nearby_station_distance`."
   ]
  },
  {
   "cell_type": "code",
   "execution_count": 65,
   "id": "067fb8d5-f924-4758-922c-9e5c2c157ba0",
   "metadata": {},
   "outputs": [
    {
     "data": {
      "text/plain": [
       "property_type   is_train\n",
       "Condo           0           0.0\n",
       "                1           0.0\n",
       "Detached House  0           0.0\n",
       "                1           0.0\n",
       "Townhouse       0           0.0\n",
       "                1           0.0\n",
       "Name: nearby_stations, dtype: float64"
      ]
     },
     "execution_count": 65,
     "metadata": {},
     "output_type": "execute_result"
    }
   ],
   "source": [
    "# Check NaN for nearby_stations\n",
    "df.groupby(kc)['nearby_stations'].agg(lambda group: (group.isnull().mean() * 100).round(2))"
   ]
  },
  {
   "cell_type": "code",
   "execution_count": 66,
   "id": "77eec9f3-6c9a-4657-9099-32bda4ff9044",
   "metadata": {},
   "outputs": [
    {
     "data": {
      "text/plain": [
       "nearby_stations\n",
       "0    100.0\n",
       "1      0.0\n",
       "2      0.0\n",
       "3      0.0\n",
       "Name: nearby_station_distance, dtype: float64"
      ]
     },
     "execution_count": 66,
     "metadata": {},
     "output_type": "execute_result"
    }
   ],
   "source": [
    "# Check NaN of nearby_station_distance for each nearby_stations\n",
    "df.groupby('nearby_stations')['nearby_station_distance'].agg(lambda group: (group.isnull().mean() * 100).round(2))"
   ]
  },
  {
   "cell_type": "code",
   "execution_count": 67,
   "id": "32390081-a395-49c7-834c-aaed4c6a0671",
   "metadata": {},
   "outputs": [
    {
     "data": {
      "text/html": [
       "<div>\n",
       "<style scoped>\n",
       "    .dataframe tbody tr th:only-of-type {\n",
       "        vertical-align: middle;\n",
       "    }\n",
       "\n",
       "    .dataframe tbody tr th {\n",
       "        vertical-align: top;\n",
       "    }\n",
       "\n",
       "    .dataframe thead th {\n",
       "        text-align: right;\n",
       "    }\n",
       "</style>\n",
       "<table border=\"1\" class=\"dataframe\">\n",
       "  <thead>\n",
       "    <tr style=\"text-align: right;\">\n",
       "      <th></th>\n",
       "      <th>nearby_station_distance</th>\n",
       "      <th>nearest_station_name</th>\n",
       "    </tr>\n",
       "  </thead>\n",
       "  <tbody>\n",
       "    <tr>\n",
       "      <th>0</th>\n",
       "      <td>[[E7 Ekkamai BTS, 270], [E6 Thong Lo BTS, 800]]</td>\n",
       "      <td>E7 Ekkamai BTS</td>\n",
       "    </tr>\n",
       "    <tr>\n",
       "      <th>1</th>\n",
       "      <td>[[BL22 Sukhumvit MRT, 720], [BL21 Phetchaburi ...</td>\n",
       "      <td>BL22 Sukhumvit MRT</td>\n",
       "    </tr>\n",
       "    <tr>\n",
       "      <th>2</th>\n",
       "      <td>[[E5 Phrom Phong BTS, 650], [BL23 Queen Siriki...</td>\n",
       "      <td>E5 Phrom Phong BTS</td>\n",
       "    </tr>\n",
       "    <tr>\n",
       "      <th>3</th>\n",
       "      <td>None</td>\n",
       "      <td>NaN</td>\n",
       "    </tr>\n",
       "    <tr>\n",
       "      <th>4</th>\n",
       "      <td>[[PP09 Yaek Nonthaburi 1 MRT, 10]]</td>\n",
       "      <td>PP09 Yaek Nonthaburi 1 MRT</td>\n",
       "    </tr>\n",
       "  </tbody>\n",
       "</table>\n",
       "</div>"
      ],
      "text/plain": [
       "                             nearby_station_distance  \\\n",
       "0    [[E7 Ekkamai BTS, 270], [E6 Thong Lo BTS, 800]]   \n",
       "1  [[BL22 Sukhumvit MRT, 720], [BL21 Phetchaburi ...   \n",
       "2  [[E5 Phrom Phong BTS, 650], [BL23 Queen Siriki...   \n",
       "3                                               None   \n",
       "4                 [[PP09 Yaek Nonthaburi 1 MRT, 10]]   \n",
       "\n",
       "         nearest_station_name  \n",
       "0              E7 Ekkamai BTS  \n",
       "1          BL22 Sukhumvit MRT  \n",
       "2          E5 Phrom Phong BTS  \n",
       "3                         NaN  \n",
       "4  PP09 Yaek Nonthaburi 1 MRT  "
      ]
     },
     "execution_count": 67,
     "metadata": {},
     "output_type": "execute_result"
    }
   ],
   "source": [
    "# nearest_station_name\n",
    "def extract_nearest_station(station_list):\n",
    "    if not station_list:\n",
    "        return np.nan\n",
    "    min_distance_index = min(range(len(station_list)), key = lambda i: station_list[i][1])\n",
    "    return station_list[min_distance_index][0]\n",
    "\n",
    "# Apply the function to create a new column\n",
    "df['nearest_station_name'] = df['nearby_station_distance'].apply(extract_nearest_station)\n",
    "\n",
    "# Check the results\n",
    "df[['nearby_station_distance', 'nearest_station_name']].head(5)"
   ]
  },
  {
   "cell_type": "code",
   "execution_count": 68,
   "id": "21cee10a-037a-464e-893c-12f099748eef",
   "metadata": {},
   "outputs": [
    {
     "data": {
      "text/html": [
       "<div>\n",
       "<style scoped>\n",
       "    .dataframe tbody tr th:only-of-type {\n",
       "        vertical-align: middle;\n",
       "    }\n",
       "\n",
       "    .dataframe tbody tr th {\n",
       "        vertical-align: top;\n",
       "    }\n",
       "\n",
       "    .dataframe thead th {\n",
       "        text-align: right;\n",
       "    }\n",
       "</style>\n",
       "<table border=\"1\" class=\"dataframe\">\n",
       "  <thead>\n",
       "    <tr style=\"text-align: right;\">\n",
       "      <th></th>\n",
       "      <th>nearby_station_distance</th>\n",
       "      <th>nearest_station_distance</th>\n",
       "    </tr>\n",
       "  </thead>\n",
       "  <tbody>\n",
       "    <tr>\n",
       "      <th>0</th>\n",
       "      <td>[[E7 Ekkamai BTS, 270], [E6 Thong Lo BTS, 800]]</td>\n",
       "      <td>270</td>\n",
       "    </tr>\n",
       "    <tr>\n",
       "      <th>1</th>\n",
       "      <td>[[BL22 Sukhumvit MRT, 720], [BL21 Phetchaburi ...</td>\n",
       "      <td>720</td>\n",
       "    </tr>\n",
       "    <tr>\n",
       "      <th>2</th>\n",
       "      <td>[[E5 Phrom Phong BTS, 650], [BL23 Queen Siriki...</td>\n",
       "      <td>650</td>\n",
       "    </tr>\n",
       "    <tr>\n",
       "      <th>3</th>\n",
       "      <td>None</td>\n",
       "      <td>0</td>\n",
       "    </tr>\n",
       "    <tr>\n",
       "      <th>4</th>\n",
       "      <td>[[PP09 Yaek Nonthaburi 1 MRT, 10]]</td>\n",
       "      <td>10</td>\n",
       "    </tr>\n",
       "  </tbody>\n",
       "</table>\n",
       "</div>"
      ],
      "text/plain": [
       "                             nearby_station_distance  nearest_station_distance\n",
       "0    [[E7 Ekkamai BTS, 270], [E6 Thong Lo BTS, 800]]                       270\n",
       "1  [[BL22 Sukhumvit MRT, 720], [BL21 Phetchaburi ...                       720\n",
       "2  [[E5 Phrom Phong BTS, 650], [BL23 Queen Siriki...                       650\n",
       "3                                               None                         0\n",
       "4                 [[PP09 Yaek Nonthaburi 1 MRT, 10]]                        10"
      ]
     },
     "execution_count": 68,
     "metadata": {},
     "output_type": "execute_result"
    }
   ],
   "source": [
    "# nearesr_station_distance\n",
    "# create function and then use .apply\n",
    "\n",
    "def extract_nearest_station_distance(station_list):            # function to extract the minimum distance\n",
    "    if not station_list:                                       # Empty list equivalent to False\n",
    "        return 0                                               # Return NaN if list is empty\n",
    "    return min([station[1] for station in station_list])       # List comprehension to extract the distance in position 1 and apply(min)\n",
    "\n",
    "# Apply the function to create a new column\n",
    "df['nearest_station_distance'] = df['nearby_station_distance'].apply(extract_nearest_station_distance)\n",
    "\n",
    "# Check the results\n",
    "df[['nearby_station_distance','nearest_station_distance']].head(5)"
   ]
  },
  {
   "cell_type": "code",
   "execution_count": 69,
   "id": "727ebe15-f8a3-4338-b23e-41a1cbb3cd8b",
   "metadata": {},
   "outputs": [
    {
     "data": {
      "text/html": [
       "<div>\n",
       "<style scoped>\n",
       "    .dataframe tbody tr th:only-of-type {\n",
       "        vertical-align: middle;\n",
       "    }\n",
       "\n",
       "    .dataframe tbody tr th {\n",
       "        vertical-align: top;\n",
       "    }\n",
       "\n",
       "    .dataframe thead th {\n",
       "        text-align: right;\n",
       "    }\n",
       "</style>\n",
       "<table border=\"1\" class=\"dataframe\">\n",
       "  <thead>\n",
       "    <tr style=\"text-align: right;\">\n",
       "      <th></th>\n",
       "      <th>nearby_stations</th>\n",
       "      <th>0</th>\n",
       "      <th>1</th>\n",
       "      <th>2</th>\n",
       "      <th>3</th>\n",
       "    </tr>\n",
       "    <tr>\n",
       "      <th>property_type</th>\n",
       "      <th>is_train</th>\n",
       "      <th></th>\n",
       "      <th></th>\n",
       "      <th></th>\n",
       "      <th></th>\n",
       "    </tr>\n",
       "  </thead>\n",
       "  <tbody>\n",
       "    <tr>\n",
       "      <th rowspan=\"2\" valign=\"top\">Condo</th>\n",
       "      <th>0</th>\n",
       "      <td>437</td>\n",
       "      <td>410</td>\n",
       "      <td>511</td>\n",
       "      <td>279</td>\n",
       "    </tr>\n",
       "    <tr>\n",
       "      <th>1</th>\n",
       "      <td>2438</td>\n",
       "      <td>2177</td>\n",
       "      <td>2915</td>\n",
       "      <td>1676</td>\n",
       "    </tr>\n",
       "    <tr>\n",
       "      <th rowspan=\"2\" valign=\"top\">Detached House</th>\n",
       "      <th>0</th>\n",
       "      <td>324</td>\n",
       "      <td>18</td>\n",
       "      <td>5</td>\n",
       "      <td>0</td>\n",
       "    </tr>\n",
       "    <tr>\n",
       "      <th>1</th>\n",
       "      <td>2032</td>\n",
       "      <td>89</td>\n",
       "      <td>46</td>\n",
       "      <td>2</td>\n",
       "    </tr>\n",
       "    <tr>\n",
       "      <th rowspan=\"2\" valign=\"top\">Townhouse</th>\n",
       "      <th>0</th>\n",
       "      <td>461</td>\n",
       "      <td>41</td>\n",
       "      <td>14</td>\n",
       "      <td>0</td>\n",
       "    </tr>\n",
       "    <tr>\n",
       "      <th>1</th>\n",
       "      <td>2573</td>\n",
       "      <td>226</td>\n",
       "      <td>90</td>\n",
       "      <td>7</td>\n",
       "    </tr>\n",
       "  </tbody>\n",
       "</table>\n",
       "</div>"
      ],
      "text/plain": [
       "nearby_stations             0     1     2     3\n",
       "property_type  is_train                        \n",
       "Condo          0          437   410   511   279\n",
       "               1         2438  2177  2915  1676\n",
       "Detached House 0          324    18     5     0\n",
       "               1         2032    89    46     2\n",
       "Townhouse      0          461    41    14     0\n",
       "               1         2573   226    90     7"
      ]
     },
     "execution_count": 69,
     "metadata": {},
     "output_type": "execute_result"
    }
   ],
   "source": [
    "# Check distribution of `nearby_station`\n",
    "\n",
    "df.groupby(kc)['nearby_stations'].value_counts(dropna = False).unstack(fill_value = 0)"
   ]
  },
  {
   "cell_type": "code",
   "execution_count": 70,
   "id": "69c4c4f4-1b06-4282-9b05-d0327b6e2953",
   "metadata": {},
   "outputs": [],
   "source": [
    "# Drop 'nearby_stations_distance'\n",
    "\n",
    "df.drop(columns = ['nearby_station_distance'], inplace = True, errors = 'ignore')"
   ]
  },
  {
   "cell_type": "markdown",
   "id": "5cf0023a-9367-4ed4-afbd-2ea4a7931096",
   "metadata": {
    "jp-MarkdownHeadingCollapsed": true
   },
   "source": [
    "#### `nearby_bus_stops`\n",
    "- The columns `nearby_bus_stops` has a large amount of `NaN`, but there is no zeros. Thus, `NaN` means zero.\n",
    "- The value of `NaN` (9736) and 20.0 (2768) dominating the data.\n",
    "- We will create a new column called `has_bus_stops` instead, and drop `nearby_bus_stops`."
   ]
  },
  {
   "cell_type": "code",
   "execution_count": 72,
   "id": "fc91d7c7-c7d1-45e0-b4a2-632a17e80487",
   "metadata": {},
   "outputs": [
    {
     "data": {
      "text/plain": [
       "property_type   is_train\n",
       "Condo           0           65.24\n",
       "                1           64.64\n",
       "Detached House  0           46.40\n",
       "                1           45.78\n",
       "Townhouse       0           47.48\n",
       "                1           45.51\n",
       "Name: nearby_bus_stops, dtype: float64"
      ]
     },
     "execution_count": 72,
     "metadata": {},
     "output_type": "execute_result"
    }
   ],
   "source": [
    "# Check NaN for nearby_bus_stops\n",
    "\n",
    "df.groupby(kc)['nearby_bus_stops'].agg(lambda group: (group.isnull().mean() * 100).round(2))"
   ]
  },
  {
   "cell_type": "code",
   "execution_count": 73,
   "id": "1fe5c427-56b3-4b22-9f1c-71610f120dc8",
   "metadata": {},
   "outputs": [
    {
     "data": {
      "text/plain": [
       "nearby_bus_stops\n",
       "1.0      226\n",
       "2.0      181\n",
       "3.0      166\n",
       "4.0      309\n",
       "5.0      330\n",
       "6.0      188\n",
       "7.0      193\n",
       "8.0      244\n",
       "9.0      205\n",
       "10.0     182\n",
       "11.0     166\n",
       "12.0     190\n",
       "13.0      96\n",
       "14.0     313\n",
       "15.0     278\n",
       "16.0     205\n",
       "17.0     223\n",
       "18.0     229\n",
       "19.0     339\n",
       "20.0    2772\n",
       "NaN     9736\n",
       "Name: count, dtype: int64"
      ]
     },
     "execution_count": 73,
     "metadata": {},
     "output_type": "execute_result"
    }
   ],
   "source": [
    "# Check distribution of nearby_bus_stops\n",
    "\n",
    "df['nearby_bus_stops'].value_counts(dropna = False).sort_index()"
   ]
  },
  {
   "cell_type": "code",
   "execution_count": 74,
   "id": "c32d2f3a-1f10-4ec3-ac9c-c6458cebafb8",
   "metadata": {},
   "outputs": [],
   "source": [
    "# Create a new column 'has_bus_stops', 0 if nearby_bus_stops is NaN, and 1 otherwise.\n",
    "\n",
    "df['has_bus_stops'] = df['nearby_bus_stops'].apply(lambda x: 0 if pd.isnull(x) else 1)"
   ]
  },
  {
   "cell_type": "code",
   "execution_count": 75,
   "id": "93d34423-2328-4ff2-bebe-3eb6d663205d",
   "metadata": {},
   "outputs": [
    {
     "data": {
      "text/plain": [
       "nearby_bus_stops  has_bus_stops\n",
       "1.0               1                 226\n",
       "2.0               1                 181\n",
       "3.0               1                 166\n",
       "4.0               1                 309\n",
       "5.0               1                 330\n",
       "6.0               1                 188\n",
       "7.0               1                 193\n",
       "8.0               1                 244\n",
       "9.0               1                 205\n",
       "10.0              1                 182\n",
       "11.0              1                 166\n",
       "12.0              1                 190\n",
       "13.0              1                  96\n",
       "14.0              1                 313\n",
       "15.0              1                 278\n",
       "16.0              1                 205\n",
       "17.0              1                 223\n",
       "18.0              1                 229\n",
       "19.0              1                 339\n",
       "20.0              1                2772\n",
       "NaN               0                9736\n",
       "Name: count, dtype: int64"
      ]
     },
     "execution_count": 75,
     "metadata": {},
     "output_type": "execute_result"
    }
   ],
   "source": [
    "# Check the results \n",
    "\n",
    "df[['nearby_bus_stops','has_bus_stops']].value_counts(dropna = False).sort_index()"
   ]
  },
  {
   "cell_type": "code",
   "execution_count": 76,
   "id": "7ec8c279-7c47-47dc-be3e-7b57f5389f36",
   "metadata": {},
   "outputs": [],
   "source": [
    "# Drop 'nearby_bus_stops'\n",
    "\n",
    "df.drop(columns = ['nearby_bus_stops'], inplace = True, errors = 'ignore')"
   ]
  },
  {
   "cell_type": "markdown",
   "id": "a96bb932-3053-4572-88ed-0f0d60bd5256",
   "metadata": {
    "jp-MarkdownHeadingCollapsed": true
   },
   "source": [
    "#### `nearby_supermarkets`\n",
    "- The columns `nearby_supermarkets` has a few amount of `NaN`, but there is no zeros. Thus, `NaN` means zero.\n",
    "- The distribution looks fairly fine.\n",
    "- Thus, we only impute `NaN` to 0."
   ]
  },
  {
   "cell_type": "code",
   "execution_count": 78,
   "id": "8a081e47-752c-4238-bd12-f7ded40112ac",
   "metadata": {},
   "outputs": [
    {
     "data": {
      "text/plain": [
       "property_type   is_train\n",
       "Condo           0            1.16\n",
       "                1            0.56\n",
       "Detached House  0           10.09\n",
       "                1            9.04\n",
       "Townhouse       0            6.20\n",
       "                1            4.77\n",
       "Name: nearby_supermarkets, dtype: float64"
      ]
     },
     "execution_count": 78,
     "metadata": {},
     "output_type": "execute_result"
    }
   ],
   "source": [
    "# Check NaN for nearby_supermarkets\n",
    "\n",
    "df.groupby(kc)['nearby_supermarkets'].agg(lambda group: (group.isnull().mean() * 100).round(2))"
   ]
  },
  {
   "cell_type": "code",
   "execution_count": 79,
   "id": "f51d0524-8704-4381-8dd3-0ba9d9bb7034",
   "metadata": {},
   "outputs": [
    {
     "data": {
      "text/plain": [
       "nearby_supermarkets\n",
       "1.0      535\n",
       "2.0      955\n",
       "3.0     1004\n",
       "4.0     1201\n",
       "5.0     1300\n",
       "6.0     1497\n",
       "7.0     1170\n",
       "8.0     1144\n",
       "9.0     1079\n",
       "10.0     771\n",
       "11.0     696\n",
       "12.0     618\n",
       "13.0     588\n",
       "14.0     660\n",
       "15.0     553\n",
       "16.0     571\n",
       "17.0     409\n",
       "18.0     254\n",
       "19.0     238\n",
       "20.0    1056\n",
       "NaN      472\n",
       "Name: count, dtype: int64"
      ]
     },
     "execution_count": 79,
     "metadata": {},
     "output_type": "execute_result"
    }
   ],
   "source": [
    "# Check distribution of nearby_supermarkets\n",
    "\n",
    "df['nearby_supermarkets'].value_counts(dropna = False).sort_index()"
   ]
  },
  {
   "cell_type": "code",
   "execution_count": 80,
   "id": "b9c459fa-e3ed-4d73-aa5d-59b7e83b1a15",
   "metadata": {},
   "outputs": [
    {
     "data": {
      "text/plain": [
       "count    16299.000000\n",
       "mean         9.022639\n",
       "std          5.361692\n",
       "min          1.000000\n",
       "25%          5.000000\n",
       "50%          8.000000\n",
       "75%         13.000000\n",
       "max         20.000000\n",
       "Name: nearby_supermarkets, dtype: float64"
      ]
     },
     "execution_count": 80,
     "metadata": {},
     "output_type": "execute_result"
    }
   ],
   "source": [
    "# Check distribution (2)\n",
    "\n",
    "df['nearby_supermarkets'].describe()"
   ]
  },
  {
   "cell_type": "code",
   "execution_count": 81,
   "id": "ca44333f-7483-4dde-a453-9f19b6a6fb74",
   "metadata": {},
   "outputs": [],
   "source": [
    "# Impute Nan to 0\n",
    "\n",
    "df['nearby_supermarkets'] = df['nearby_supermarkets'].fillna(0)"
   ]
  },
  {
   "cell_type": "code",
   "execution_count": 82,
   "id": "a6d96bbc-5cf4-464d-a035-b5ccc6994963",
   "metadata": {},
   "outputs": [
    {
     "data": {
      "text/plain": [
       "nearby_supermarkets\n",
       "0.0      472\n",
       "1.0      535\n",
       "2.0      955\n",
       "3.0     1004\n",
       "4.0     1201\n",
       "5.0     1300\n",
       "6.0     1497\n",
       "7.0     1170\n",
       "8.0     1144\n",
       "9.0     1079\n",
       "10.0     771\n",
       "11.0     696\n",
       "12.0     618\n",
       "13.0     588\n",
       "14.0     660\n",
       "15.0     553\n",
       "16.0     571\n",
       "17.0     409\n",
       "18.0     254\n",
       "19.0     238\n",
       "20.0    1056\n",
       "Name: count, dtype: int64"
      ]
     },
     "execution_count": 82,
     "metadata": {},
     "output_type": "execute_result"
    }
   ],
   "source": [
    "# Check the result\n",
    "\n",
    "df['nearby_supermarkets'].value_counts(dropna = False).sort_index()"
   ]
  },
  {
   "cell_type": "markdown",
   "id": "c5d8a4b1-91d5-4235-a737-b09e3f65b53d",
   "metadata": {
    "jp-MarkdownHeadingCollapsed": true
   },
   "source": [
    "#### `nearby_shops`\n",
    "- There are no `NaN` and zero in this column\n",
    "- The correlation between `nearby_shops` and `nearby_supermarkets` is 0.74, thus they're nearly dependent.\n",
    "- We'll drop `nearby_shops`"
   ]
  },
  {
   "cell_type": "code",
   "execution_count": 84,
   "id": "8284587d-1614-4fae-bdce-c52a97b18104",
   "metadata": {},
   "outputs": [
    {
     "data": {
      "text/plain": [
       "property_type   is_train\n",
       "Condo           0           0.0\n",
       "                1           0.0\n",
       "Detached House  0           0.0\n",
       "                1           0.0\n",
       "Townhouse       0           0.0\n",
       "                1           0.0\n",
       "Name: nearby_shops, dtype: float64"
      ]
     },
     "execution_count": 84,
     "metadata": {},
     "output_type": "execute_result"
    }
   ],
   "source": [
    "# Check NaN for nearby_shops\n",
    "\n",
    "df.groupby(kc)['nearby_shops'].agg(lambda group: (group.isnull().mean() * 100).round(2))"
   ]
  },
  {
   "cell_type": "code",
   "execution_count": 85,
   "id": "2a979929-0e04-435b-a116-4a2064f07c6a",
   "metadata": {},
   "outputs": [
    {
     "data": {
      "text/plain": [
       "nearby_shops\n",
       "1     1018\n",
       "2     1263\n",
       "3     1191\n",
       "4     1119\n",
       "5     1095\n",
       "6     1017\n",
       "7      668\n",
       "8      817\n",
       "9      532\n",
       "10     678\n",
       "11     512\n",
       "12     381\n",
       "13     559\n",
       "14     343\n",
       "15     408\n",
       "16     167\n",
       "17     355\n",
       "18     225\n",
       "19     234\n",
       "20    4189\n",
       "Name: count, dtype: int64"
      ]
     },
     "execution_count": 85,
     "metadata": {},
     "output_type": "execute_result"
    }
   ],
   "source": [
    "# Check distribution of nearby_supermarkets\n",
    "\n",
    "df['nearby_shops'].value_counts(dropna = False).sort_index()"
   ]
  },
  {
   "cell_type": "code",
   "execution_count": 86,
   "id": "938f081d-7c03-4172-acdb-747e3691f771",
   "metadata": {},
   "outputs": [
    {
     "data": {
      "text/plain": [
       "0.74"
      ]
     },
     "execution_count": 86,
     "metadata": {},
     "output_type": "execute_result"
    }
   ],
   "source": [
    "# Check Correlation with nearby_supermarkets\n",
    "\n",
    "df[df['is_train'] == 1]['nearby_shops'].corr(df[df['is_train'] == 1]['nearby_supermarkets']).round(2)"
   ]
  },
  {
   "cell_type": "code",
   "execution_count": 87,
   "id": "380e582e-e991-4f8a-8dfd-b8062b3caf48",
   "metadata": {},
   "outputs": [],
   "source": [
    "# Drop 'nearby_shops'\n",
    "\n",
    "df.drop(columns = ['nearby_shops'], inplace = True, errors = 'ignore')"
   ]
  },
  {
   "cell_type": "markdown",
   "id": "a748400c-da4a-4c31-828c-8088058bcc0f",
   "metadata": {
    "jp-MarkdownHeadingCollapsed": true
   },
   "source": [
    "#### `year_built`\n",
    "- There are no `NaN` but zero in this column, only in `property_type` Detached House and Townhouse.\n",
    "- The number of property and median of price of each `year_built` are very varying\n",
    "- Thus, we group `year_built` into `year_built_bin` of 5 years, i.e., 'unknown', '\\_2000', '2001\\_2005', '2006\\_2010', '2011\\_2015', '2016_2020', '2021\\_'\n",
    "- Afterward, we drop `year_built`"
   ]
  },
  {
   "cell_type": "code",
   "execution_count": 89,
   "id": "e89da0d5-bb4c-45ea-b7e7-25b60655ad4f",
   "metadata": {},
   "outputs": [
    {
     "data": {
      "text/plain": [
       "property_type   is_train\n",
       "Condo           0           0.0\n",
       "                1           0.0\n",
       "Detached House  0           0.0\n",
       "                1           0.0\n",
       "Townhouse       0           0.0\n",
       "                1           0.0\n",
       "Name: year_built, dtype: float64"
      ]
     },
     "execution_count": 89,
     "metadata": {},
     "output_type": "execute_result"
    }
   ],
   "source": [
    "# Check NaN for year_built\n",
    "\n",
    "df.groupby(kc)['year_built'].agg(lambda group: (group.isnull().mean() * 100).round(2))"
   ]
  },
  {
   "cell_type": "code",
   "execution_count": 90,
   "id": "7852bbc6-86ec-40bf-9b18-58de4672b556",
   "metadata": {},
   "outputs": [
    {
     "data": {
      "text/html": [
       "<div>\n",
       "<style scoped>\n",
       "    .dataframe tbody tr th:only-of-type {\n",
       "        vertical-align: middle;\n",
       "    }\n",
       "\n",
       "    .dataframe tbody tr th {\n",
       "        vertical-align: top;\n",
       "    }\n",
       "\n",
       "    .dataframe thead th {\n",
       "        text-align: right;\n",
       "    }\n",
       "</style>\n",
       "<table border=\"1\" class=\"dataframe\">\n",
       "  <thead>\n",
       "    <tr style=\"text-align: right;\">\n",
       "      <th></th>\n",
       "      <th>year_built</th>\n",
       "      <th>0</th>\n",
       "      <th>1988</th>\n",
       "      <th>1991</th>\n",
       "      <th>1992</th>\n",
       "      <th>1993</th>\n",
       "      <th>1994</th>\n",
       "      <th>1995</th>\n",
       "      <th>1996</th>\n",
       "      <th>1997</th>\n",
       "      <th>1998</th>\n",
       "      <th>...</th>\n",
       "      <th>2014</th>\n",
       "      <th>2015</th>\n",
       "      <th>2016</th>\n",
       "      <th>2017</th>\n",
       "      <th>2018</th>\n",
       "      <th>2019</th>\n",
       "      <th>2020</th>\n",
       "      <th>2021</th>\n",
       "      <th>2022</th>\n",
       "      <th>2023</th>\n",
       "    </tr>\n",
       "    <tr>\n",
       "      <th>property_type</th>\n",
       "      <th>is_train</th>\n",
       "      <th></th>\n",
       "      <th></th>\n",
       "      <th></th>\n",
       "      <th></th>\n",
       "      <th></th>\n",
       "      <th></th>\n",
       "      <th></th>\n",
       "      <th></th>\n",
       "      <th></th>\n",
       "      <th></th>\n",
       "      <th></th>\n",
       "      <th></th>\n",
       "      <th></th>\n",
       "      <th></th>\n",
       "      <th></th>\n",
       "      <th></th>\n",
       "      <th></th>\n",
       "      <th></th>\n",
       "      <th></th>\n",
       "      <th></th>\n",
       "      <th></th>\n",
       "    </tr>\n",
       "  </thead>\n",
       "  <tbody>\n",
       "    <tr>\n",
       "      <th rowspan=\"2\" valign=\"top\">Condo</th>\n",
       "      <th>0</th>\n",
       "      <td>0</td>\n",
       "      <td>0</td>\n",
       "      <td>0</td>\n",
       "      <td>0</td>\n",
       "      <td>1</td>\n",
       "      <td>4</td>\n",
       "      <td>3</td>\n",
       "      <td>4</td>\n",
       "      <td>3</td>\n",
       "      <td>2</td>\n",
       "      <td>...</td>\n",
       "      <td>172</td>\n",
       "      <td>149</td>\n",
       "      <td>117</td>\n",
       "      <td>181</td>\n",
       "      <td>139</td>\n",
       "      <td>110</td>\n",
       "      <td>96</td>\n",
       "      <td>25</td>\n",
       "      <td>24</td>\n",
       "      <td>14</td>\n",
       "    </tr>\n",
       "    <tr>\n",
       "      <th>1</th>\n",
       "      <td>0</td>\n",
       "      <td>0</td>\n",
       "      <td>0</td>\n",
       "      <td>5</td>\n",
       "      <td>23</td>\n",
       "      <td>20</td>\n",
       "      <td>9</td>\n",
       "      <td>13</td>\n",
       "      <td>11</td>\n",
       "      <td>13</td>\n",
       "      <td>...</td>\n",
       "      <td>843</td>\n",
       "      <td>908</td>\n",
       "      <td>760</td>\n",
       "      <td>878</td>\n",
       "      <td>720</td>\n",
       "      <td>656</td>\n",
       "      <td>546</td>\n",
       "      <td>136</td>\n",
       "      <td>170</td>\n",
       "      <td>65</td>\n",
       "    </tr>\n",
       "    <tr>\n",
       "      <th rowspan=\"2\" valign=\"top\">Detached House</th>\n",
       "      <th>0</th>\n",
       "      <td>290</td>\n",
       "      <td>0</td>\n",
       "      <td>0</td>\n",
       "      <td>0</td>\n",
       "      <td>0</td>\n",
       "      <td>0</td>\n",
       "      <td>0</td>\n",
       "      <td>0</td>\n",
       "      <td>0</td>\n",
       "      <td>0</td>\n",
       "      <td>...</td>\n",
       "      <td>1</td>\n",
       "      <td>0</td>\n",
       "      <td>2</td>\n",
       "      <td>4</td>\n",
       "      <td>6</td>\n",
       "      <td>15</td>\n",
       "      <td>9</td>\n",
       "      <td>5</td>\n",
       "      <td>1</td>\n",
       "      <td>0</td>\n",
       "    </tr>\n",
       "    <tr>\n",
       "      <th>1</th>\n",
       "      <td>1757</td>\n",
       "      <td>0</td>\n",
       "      <td>0</td>\n",
       "      <td>0</td>\n",
       "      <td>0</td>\n",
       "      <td>0</td>\n",
       "      <td>0</td>\n",
       "      <td>0</td>\n",
       "      <td>0</td>\n",
       "      <td>0</td>\n",
       "      <td>...</td>\n",
       "      <td>20</td>\n",
       "      <td>7</td>\n",
       "      <td>22</td>\n",
       "      <td>39</td>\n",
       "      <td>66</td>\n",
       "      <td>64</td>\n",
       "      <td>50</td>\n",
       "      <td>29</td>\n",
       "      <td>12</td>\n",
       "      <td>0</td>\n",
       "    </tr>\n",
       "    <tr>\n",
       "      <th rowspan=\"2\" valign=\"top\">Townhouse</th>\n",
       "      <th>0</th>\n",
       "      <td>431</td>\n",
       "      <td>0</td>\n",
       "      <td>0</td>\n",
       "      <td>0</td>\n",
       "      <td>0</td>\n",
       "      <td>0</td>\n",
       "      <td>0</td>\n",
       "      <td>0</td>\n",
       "      <td>0</td>\n",
       "      <td>0</td>\n",
       "      <td>...</td>\n",
       "      <td>2</td>\n",
       "      <td>4</td>\n",
       "      <td>5</td>\n",
       "      <td>14</td>\n",
       "      <td>14</td>\n",
       "      <td>15</td>\n",
       "      <td>2</td>\n",
       "      <td>3</td>\n",
       "      <td>1</td>\n",
       "      <td>0</td>\n",
       "    </tr>\n",
       "    <tr>\n",
       "      <th>1</th>\n",
       "      <td>2436</td>\n",
       "      <td>1</td>\n",
       "      <td>1</td>\n",
       "      <td>0</td>\n",
       "      <td>0</td>\n",
       "      <td>0</td>\n",
       "      <td>0</td>\n",
       "      <td>0</td>\n",
       "      <td>0</td>\n",
       "      <td>0</td>\n",
       "      <td>...</td>\n",
       "      <td>36</td>\n",
       "      <td>26</td>\n",
       "      <td>50</td>\n",
       "      <td>62</td>\n",
       "      <td>47</td>\n",
       "      <td>64</td>\n",
       "      <td>32</td>\n",
       "      <td>22</td>\n",
       "      <td>6</td>\n",
       "      <td>2</td>\n",
       "    </tr>\n",
       "  </tbody>\n",
       "</table>\n",
       "<p>6 rows × 35 columns</p>\n",
       "</div>"
      ],
      "text/plain": [
       "year_built               0     1988  1991  1992  1993  1994  1995  1996  1997  \\\n",
       "property_type  is_train                                                         \n",
       "Condo          0            0     0     0     0     1     4     3     4     3   \n",
       "               1            0     0     0     5    23    20     9    13    11   \n",
       "Detached House 0          290     0     0     0     0     0     0     0     0   \n",
       "               1         1757     0     0     0     0     0     0     0     0   \n",
       "Townhouse      0          431     0     0     0     0     0     0     0     0   \n",
       "               1         2436     1     1     0     0     0     0     0     0   \n",
       "\n",
       "year_built               1998  ...  2014  2015  2016  2017  2018  2019  2020  \\\n",
       "property_type  is_train        ...                                             \n",
       "Condo          0            2  ...   172   149   117   181   139   110    96   \n",
       "               1           13  ...   843   908   760   878   720   656   546   \n",
       "Detached House 0            0  ...     1     0     2     4     6    15     9   \n",
       "               1            0  ...    20     7    22    39    66    64    50   \n",
       "Townhouse      0            0  ...     2     4     5    14    14    15     2   \n",
       "               1            0  ...    36    26    50    62    47    64    32   \n",
       "\n",
       "year_built               2021  2022  2023  \n",
       "property_type  is_train                    \n",
       "Condo          0           25    24    14  \n",
       "               1          136   170    65  \n",
       "Detached House 0            5     1     0  \n",
       "               1           29    12     0  \n",
       "Townhouse      0            3     1     0  \n",
       "               1           22     6     2  \n",
       "\n",
       "[6 rows x 35 columns]"
      ]
     },
     "execution_count": 90,
     "metadata": {},
     "output_type": "execute_result"
    }
   ],
   "source": [
    "# Check zero for year_built\n",
    "\n",
    "df.groupby(kc)['year_built'].value_counts(dropna = False).unstack(fill_value = 0)"
   ]
  },
  {
   "cell_type": "code",
   "execution_count": 91,
   "id": "df949a0c-cfbb-4346-ab56-6cdd9c31d6a5",
   "metadata": {},
   "outputs": [
    {
     "data": {
      "image/png": "[encoded data removed]",
      "text/plain": [
       "<Figure size 1000x600 with 1 Axes>"
      ]
     },
     "metadata": {},
     "output_type": "display_data"
    }
   ],
   "source": [
    "# Plot count of each year_built\n",
    "\n",
    "df_count = df[(df['is_train'] == 1) & (df['year_built'] != 0)].groupby(['year_built', 'property_type']).size().reset_index(name='count')\n",
    "\n",
    "plt.figure(figsize=(10, 6))\n",
    "sns.lineplot(x = 'year_built', y = 'count', hue = 'property_type', data = df_count)\n",
    "\n",
    "plt.title('Count of Properties by Year Built for Each Property Type', fontsize = 16)\n",
    "plt.xlabel('Year Built', fontsize = 12)\n",
    "plt.ylabel('Count of Properties', fontsize = 12)\n",
    "\n",
    "plt.xticks(rotation=90)\n",
    "plt.show()"
   ]
  },
  {
   "cell_type": "code",
   "execution_count": 92,
   "id": "a2eba9e2-1619-4cb7-9835-ef7b6602234a",
   "metadata": {},
   "outputs": [
    {
     "data": {
      "image/png": "[encoded data removed]",
      "text/plain": [
       "<Figure size 1000x600 with 1 Axes>"
      ]
     },
     "metadata": {},
     "output_type": "display_data"
    }
   ],
   "source": [
    "# Plot median price of each year_built\n",
    "\n",
    "# Group by 'year_built' and 'property_type' and calculate the median price\n",
    "df_median = df[(df['is_train'] == 1) & (df['year_built'] != 0) ].groupby(['year_built', 'property_type'])['price'].median().reset_index()\n",
    "\n",
    "plt.figure(figsize=(10, 6))\n",
    "sns.lineplot(x = 'year_built', y = 'price', hue = 'property_type', data = df_median)\n",
    "\n",
    "plt.title('Median Price by Year Built for Each Property Type', fontsize = 16)\n",
    "plt.xlabel('Year Built', fontsize = 12)\n",
    "plt.ylabel('Median Price', fontsize = 12)\n",
    "\n",
    "plt.xticks(rotation = 90)\n",
    "plt.show()"
   ]
  },
  {
   "cell_type": "code",
   "execution_count": 93,
   "id": "c42ec019-f7e0-4da8-b1b1-011c6ce16220",
   "metadata": {},
   "outputs": [],
   "source": [
    "# Define bins and labels for the year_built_bin\n",
    "bins = [-float('inf'), 0, 2000, 2005, 2010, 2015, 2020, float('inf')]                                # Bins with an open-ended last interval\n",
    "labels = ['unknown', '_2000', '2001_2005', '2006_2010', '2011_2015', '2016_2020', '2021_']\n",
    "df['year_built_bin'] = pd.cut(df['year_built'], bins = bins, labels = labels, right=True)   # Create year_built_bin using pd.cut"
   ]
  },
  {
   "cell_type": "code",
   "execution_count": 94,
   "id": "3478347b-fd11-454a-b74c-5b609837a3f8",
   "metadata": {},
   "outputs": [
    {
     "data": {
      "text/plain": [
       "year_built_bin  year_built\n",
       "unknown         0             4914\n",
       "_2000           1988             1\n",
       "                1991             1\n",
       "                1992             5\n",
       "                1993            24\n",
       "                1994            24\n",
       "                1995            12\n",
       "                1996            17\n",
       "                1997            14\n",
       "                1998            15\n",
       "                1999            12\n",
       "                2000             3\n",
       "2001_2005       2001             5\n",
       "                2002            21\n",
       "                2003            19\n",
       "                2004            47\n",
       "                2005            37\n",
       "2006_2010       2006            77\n",
       "                2007           197\n",
       "                2008           172\n",
       "                2009           453\n",
       "                2010           421\n",
       "2011_2015       2011           464\n",
       "                2012          1070\n",
       "                2013          1278\n",
       "                2014          1074\n",
       "                2015          1094\n",
       "2016_2020       2016           956\n",
       "                2017          1178\n",
       "                2018           992\n",
       "                2019           924\n",
       "                2020           735\n",
       "2021_           2021           220\n",
       "                2022           214\n",
       "                2023            81\n",
       "Name: count, dtype: int64"
      ]
     },
     "execution_count": 94,
     "metadata": {},
     "output_type": "execute_result"
    }
   ],
   "source": [
    "# Check the results\n",
    "\n",
    "df[['year_built_bin','year_built']].value_counts().sort_index()"
   ]
  },
  {
   "cell_type": "code",
   "execution_count": 95,
   "id": "25e696b6-6ebc-4b48-b256-985c614247fa",
   "metadata": {},
   "outputs": [
    {
     "data": {
      "image/png": "[encoded data removed]",
      "text/plain": [
       "<Figure size 1000x600 with 1 Axes>"
      ]
     },
     "metadata": {},
     "output_type": "display_data"
    }
   ],
   "source": [
    "# Check the distribution\n",
    "\n",
    "plt.figure(figsize=(10, 6))\n",
    "sns.histplot(data=df[df['is_train'] == 1], x = 'year_built_bin', shrink=0.8)\n",
    "\n",
    "plt.title('Distribution of Year Built Bin by Property Type', fontsize = 16)\n",
    "plt.xlabel('Year Built Bin', fontsize=12)\n",
    "plt.ylabel('Count of Properties', fontsize=12)\n",
    "\n",
    "plt.xticks(rotation=90)\n",
    "\n",
    "plt.show()"
   ]
  },
  {
   "cell_type": "code",
   "execution_count": 96,
   "id": "3ff90c64-a8f6-44b2-9946-680c42c81dcc",
   "metadata": {},
   "outputs": [],
   "source": [
    "# Drop columns year_built\n",
    "\n",
    "df.drop(columns = ['year_built'], inplace = True, errors = 'ignore')"
   ]
  },
  {
   "cell_type": "markdown",
   "id": "6ae15e02-0837-4a81-969b-8f816f2e06c6",
   "metadata": {
    "jp-MarkdownHeadingCollapsed": true
   },
   "source": [
    "#### `facilities`\n",
    "- The `facilities` column contains lists of strings. We will extract each string and count its frequency across all rows.\n",
    "- Afterward, we will create separate columns for grouping them together.\n",
    "- Thus, we obtain 4 columns, i.e., `has_security`, `has_pool`, `has_sports` and `has_parking`"
   ]
  },
  {
   "cell_type": "code",
   "execution_count": 98,
   "id": "0629093e-badd-4a94-9b3e-3ff1df7bebfe",
   "metadata": {},
   "outputs": [
    {
     "data": {
      "text/plain": [
       "[('24 hours security', 13722),\n",
       " ('CCTV', 12365),\n",
       " ('Swimming pool', 11762),\n",
       " ('Fitness corner', 10777),\n",
       " ('Covered car park', 7246),\n",
       " ('Car Park', 6476),\n",
       " ('Community Garden', 4121),\n",
       " ('Lift lobby', 3743),\n",
       " ('Gymnasium room', 3121),\n",
       " ('Clubhouse', 2957),\n",
       " ('Library', 2657),\n",
       " ('Mini-Mart', 2490),\n",
       " ('Playground', 2422),\n",
       " ('Sauna', 2395),\n",
       " ('Wading pool', 1584),\n",
       " ('Steam bath', 1575),\n",
       " ('Sky Lounge', 1572),\n",
       " ('Lounge', 1206),\n",
       " ('Launderette', 1165),\n",
       " ('Open car park', 1068),\n",
       " ('Function room', 1065),\n",
       " ('Club', 1030),\n",
       " ('Pavillion', 1017),\n",
       " ('Jacuzzi', 888),\n",
       " (\"Children's Playground\", 750),\n",
       " ('Multi-purpose hall', 716),\n",
       " ('BBQ pits', 635),\n",
       " ('Game room', 615),\n",
       " ('Jogging track', 602),\n",
       " ('Eateries', 562),\n",
       " ('Spa pool', 484),\n",
       " ('Meeting room', 418),\n",
       " ('Roof Terrace', 381),\n",
       " ('Basketball court', 324),\n",
       " ('Basement car park', 310),\n",
       " ('Pool Deck', 295),\n",
       " ('Multi-Storey Car Park', 176),\n",
       " ('Tennis courts', 170),\n",
       " ('Cafes', 159),\n",
       " ('Reflexology Path', 158),\n",
       " ('Adult Fitness Stations', 156),\n",
       " ('Mini golf range', 146),\n",
       " ('Putting Green', 130),\n",
       " ('Community Plaza', 112),\n",
       " ('Amphitheatre', 107),\n",
       " ('Karaoke', 95),\n",
       " ('Aircon Facilities', 94),\n",
       " ('Adventure park', 66),\n",
       " ('Badminton hall', 64),\n",
       " ('Main entrance', 55),\n",
       " ('Utilities Center', 51),\n",
       " ('Drop Off Point', 47),\n",
       " ('Billiards room', 35),\n",
       " ('Electrical Sub-Station', 35),\n",
       " ('Lap pool', 31),\n",
       " ('Elderly Wellness Stations', 31),\n",
       " ('Driving range', 29),\n",
       " ('Squash court', 24),\n",
       " ('Pantry', 23),\n",
       " ('Fun pool', 21),\n",
       " ('Existing Bus Stop', 20),\n",
       " ('Precinct Pavilion', 16),\n",
       " ('Bowling alley', 3),\n",
       " ('Aerobic pool', 3),\n",
       " ('Covered Linkways', 1)]"
      ]
     },
     "execution_count": 98,
     "metadata": {},
     "output_type": "execute_result"
    }
   ],
   "source": [
    "# count each word in facilities\n",
    "\n",
    "facility_count = {}                                             # create empty dictionary to store values\n",
    "\n",
    "for facility_list in df['facilities']:                          # run through all rows\n",
    "    for facility in facility_list:                              # check value in the list\n",
    "        if facility in facility_count:\n",
    "            facility_count[facility] += 1                       # add counter 1, if it is already in dictionary\n",
    "        else:\n",
    "            facility_count[facility] = 1                        # add new value to dictionary with counter 1, if it is a new value\n",
    "\n",
    "# Check the results, descending order\n",
    "sorted(facility_count.items(), key = lambda item: item[1], reverse = True)"
   ]
  },
  {
   "cell_type": "code",
   "execution_count": 99,
   "id": "22d1972b-9c6f-4cf9-98b6-17fbe82fb193",
   "metadata": {},
   "outputs": [],
   "source": [
    "# The common facilities of top 5 are\n",
    "# '24 hours security', 'CCTV'                      --> Security\n",
    "# 'Swimming pool'                                  --> Pool\n",
    "# 'Fitness corner'                                 --> Fitness & Sports\n",
    "# 'Covered car park'                               --> Parking\n",
    "  \n",
    "# Group facilities of the same kind of top 5 from the results\n",
    "# Thus, there are 4 groups\n",
    "\n",
    "# Security\n",
    "f_security = ['24 hours security'\n",
    "              , 'CCTV'\n",
    "             ]\n",
    "\n",
    "# Pool\n",
    "f_pool = ['Swimming pool'\n",
    "          , 'Wading pool'\n",
    "          , 'Steam bath'\n",
    "          , 'Sauna'\n",
    "          , 'Jacuzzi'\n",
    "          , 'Spa pool'\n",
    "          , 'Fun pool'\n",
    "          , 'Lap pool'\n",
    "          , 'Aerobic pool'\n",
    "         ]\n",
    "\n",
    "# Fitness & Sports\n",
    "f_sports = ['Fitness corner'\n",
    "            , 'Gymnasium room'\n",
    "            , 'Adult Fitness Stations'\n",
    "            , 'Elderly Wellness Stations'\n",
    "            , 'Tennis courts'\n",
    "            , 'Badminton hall'\n",
    "            , 'Squash court'\n",
    "            , 'Basketball court'\n",
    "            , 'Jogging track'\n",
    "            , 'Adventure park'\n",
    "            , 'Driving range'\n",
    "            , 'Mini golf range'\n",
    "            , 'Putting Green'\n",
    "           ]\n",
    "\n",
    "# Parking\n",
    "f_parking = ['Covered car park'\n",
    "             , 'Car Park'\n",
    "             , 'Open car park'\n",
    "             , 'Basement car park'\n",
    "             , 'Multi-Storey Car Park'\n",
    "            ]"
   ]
  },
  {
   "cell_type": "code",
   "execution_count": 100,
   "id": "3496de46-a179-42d4-8c92-71d1369aa527",
   "metadata": {},
   "outputs": [],
   "source": [
    "# Create new columns if list share common element with those groups\n",
    "\n",
    "def list_in_list(l1,l2):                                                            # function to check that l1, l2 share common elements\n",
    "    return int(bool(set(l1) & set(l2)))                                             # 1 is not empty set, 0 otherwise\n",
    "\n",
    "\n",
    "df['has_security'] = df['facilities'].apply(lambda x: list_in_list(x, f_security))  # 1 if property has security, 0 otherwise\n",
    "df['has_pool'] = df['facilities'].apply(lambda x: list_in_list(x, f_pool))          # 1 if property has pool, 0 otherwise\n",
    "df['has_sports'] = df['facilities'].apply(lambda x: list_in_list(x, f_sports))      # 1 if property has sports, 0 otherwise\n",
    "df['has_parking'] = df['facilities'].apply(lambda x: list_in_list(x, f_parking))    # 1 if property has parking, 0 otherwise"
   ]
  },
  {
   "cell_type": "code",
   "execution_count": 101,
   "id": "dbc03be3-fb30-4c40-a5e5-484959146a0c",
   "metadata": {},
   "outputs": [
    {
     "data": {
      "text/html": [
       "<div>\n",
       "<style scoped>\n",
       "    .dataframe tbody tr th:only-of-type {\n",
       "        vertical-align: middle;\n",
       "    }\n",
       "\n",
       "    .dataframe tbody tr th {\n",
       "        vertical-align: top;\n",
       "    }\n",
       "\n",
       "    .dataframe thead th {\n",
       "        text-align: right;\n",
       "    }\n",
       "</style>\n",
       "<table border=\"1\" class=\"dataframe\">\n",
       "  <thead>\n",
       "    <tr style=\"text-align: right;\">\n",
       "      <th></th>\n",
       "      <th>facilities</th>\n",
       "      <th>has_security</th>\n",
       "      <th>has_pool</th>\n",
       "      <th>has_sports</th>\n",
       "      <th>has_parking</th>\n",
       "    </tr>\n",
       "  </thead>\n",
       "  <tbody>\n",
       "    <tr>\n",
       "      <th>0</th>\n",
       "      <td>[Car Park, Community Garden, CCTV, Fitness cor...</td>\n",
       "      <td>1</td>\n",
       "      <td>1</td>\n",
       "      <td>1</td>\n",
       "      <td>1</td>\n",
       "    </tr>\n",
       "    <tr>\n",
       "      <th>1</th>\n",
       "      <td>[CCTV, Fitness corner, 24 hours security, Swim...</td>\n",
       "      <td>1</td>\n",
       "      <td>1</td>\n",
       "      <td>1</td>\n",
       "      <td>0</td>\n",
       "    </tr>\n",
       "    <tr>\n",
       "      <th>2</th>\n",
       "      <td>[Car Park, Clubhouse, Community Garden, CCTV, ...</td>\n",
       "      <td>1</td>\n",
       "      <td>1</td>\n",
       "      <td>1</td>\n",
       "      <td>1</td>\n",
       "    </tr>\n",
       "    <tr>\n",
       "      <th>3</th>\n",
       "      <td>[Covered car park, Playground, 24 hours securi...</td>\n",
       "      <td>1</td>\n",
       "      <td>1</td>\n",
       "      <td>0</td>\n",
       "      <td>1</td>\n",
       "    </tr>\n",
       "    <tr>\n",
       "      <th>4</th>\n",
       "      <td>[Covered car park, 24 hours security]</td>\n",
       "      <td>1</td>\n",
       "      <td>0</td>\n",
       "      <td>0</td>\n",
       "      <td>1</td>\n",
       "    </tr>\n",
       "  </tbody>\n",
       "</table>\n",
       "</div>"
      ],
      "text/plain": [
       "                                          facilities  has_security  has_pool  \\\n",
       "0  [Car Park, Community Garden, CCTV, Fitness cor...             1         1   \n",
       "1  [CCTV, Fitness corner, 24 hours security, Swim...             1         1   \n",
       "2  [Car Park, Clubhouse, Community Garden, CCTV, ...             1         1   \n",
       "3  [Covered car park, Playground, 24 hours securi...             1         1   \n",
       "4              [Covered car park, 24 hours security]             1         0   \n",
       "\n",
       "   has_sports  has_parking  \n",
       "0           1            1  \n",
       "1           1            0  \n",
       "2           1            1  \n",
       "3           0            1  \n",
       "4           0            1  "
      ]
     },
     "execution_count": 101,
     "metadata": {},
     "output_type": "execute_result"
    }
   ],
   "source": [
    "# Check the results\n",
    "df[['facilities','has_security','has_pool','has_sports','has_parking']].head(5)"
   ]
  },
  {
   "cell_type": "code",
   "execution_count": 102,
   "id": "8c71d1ef-7c36-4fb7-8db0-8ab2e26b0007",
   "metadata": {},
   "outputs": [],
   "source": [
    "# Drop facilities\n",
    "\n",
    "df.drop(columns = ['facilities'], inplace = True, errors = 'ignore')"
   ]
  },
  {
   "cell_type": "markdown",
   "id": "fb74842e-ff07-4cdd-92d9-7ed0cdd7fa82",
   "metadata": {
    "jp-MarkdownHeadingCollapsed": true
   },
   "source": [
    "#### Price\n",
    "- We will remove outlier rows"
   ]
  },
  {
   "cell_type": "code",
   "execution_count": 104,
   "id": "30a8eb6f-114d-4eef-885a-ca3b018713df",
   "metadata": {},
   "outputs": [
    {
     "data": {
      "text/html": [
       "<div>\n",
       "<style scoped>\n",
       "    .dataframe tbody tr th:only-of-type {\n",
       "        vertical-align: middle;\n",
       "    }\n",
       "\n",
       "    .dataframe tbody tr th {\n",
       "        vertical-align: top;\n",
       "    }\n",
       "\n",
       "    .dataframe thead th {\n",
       "        text-align: right;\n",
       "    }\n",
       "</style>\n",
       "<table border=\"1\" class=\"dataframe\">\n",
       "  <thead>\n",
       "    <tr style=\"text-align: right;\">\n",
       "      <th></th>\n",
       "      <th></th>\n",
       "      <th>mean</th>\n",
       "      <th>std</th>\n",
       "      <th>max</th>\n",
       "      <th>ub</th>\n",
       "    </tr>\n",
       "    <tr>\n",
       "      <th>property_type</th>\n",
       "      <th>is_train</th>\n",
       "      <th></th>\n",
       "      <th></th>\n",
       "      <th></th>\n",
       "      <th></th>\n",
       "    </tr>\n",
       "  </thead>\n",
       "  <tbody>\n",
       "    <tr>\n",
       "      <th rowspan=\"2\" valign=\"top\">Condo</th>\n",
       "      <th>0</th>\n",
       "      <td>NaN</td>\n",
       "      <td>NaN</td>\n",
       "      <td>NaN</td>\n",
       "      <td>NaN</td>\n",
       "    </tr>\n",
       "    <tr>\n",
       "      <th>1</th>\n",
       "      <td>3.911505e+06</td>\n",
       "      <td>2.194978e+06</td>\n",
       "      <td>9999000.0</td>\n",
       "      <td>8.213662e+06</td>\n",
       "    </tr>\n",
       "    <tr>\n",
       "      <th rowspan=\"2\" valign=\"top\">Detached House</th>\n",
       "      <th>0</th>\n",
       "      <td>NaN</td>\n",
       "      <td>NaN</td>\n",
       "      <td>NaN</td>\n",
       "      <td>NaN</td>\n",
       "    </tr>\n",
       "    <tr>\n",
       "      <th>1</th>\n",
       "      <td>5.578554e+06</td>\n",
       "      <td>1.954258e+06</td>\n",
       "      <td>9990000.0</td>\n",
       "      <td>9.408900e+06</td>\n",
       "    </tr>\n",
       "    <tr>\n",
       "      <th rowspan=\"2\" valign=\"top\">Townhouse</th>\n",
       "      <th>0</th>\n",
       "      <td>NaN</td>\n",
       "      <td>NaN</td>\n",
       "      <td>NaN</td>\n",
       "      <td>NaN</td>\n",
       "    </tr>\n",
       "    <tr>\n",
       "      <th>1</th>\n",
       "      <td>3.316470e+06</td>\n",
       "      <td>1.701367e+06</td>\n",
       "      <td>9900000.0</td>\n",
       "      <td>6.651150e+06</td>\n",
       "    </tr>\n",
       "  </tbody>\n",
       "</table>\n",
       "</div>"
      ],
      "text/plain": [
       "                                 mean           std        max            ub\n",
       "property_type  is_train                                                     \n",
       "Condo          0                  NaN           NaN        NaN           NaN\n",
       "               1         3.911505e+06  2.194978e+06  9999000.0  8.213662e+06\n",
       "Detached House 0                  NaN           NaN        NaN           NaN\n",
       "               1         5.578554e+06  1.954258e+06  9990000.0  9.408900e+06\n",
       "Townhouse      0                  NaN           NaN        NaN           NaN\n",
       "               1         3.316470e+06  1.701367e+06  9900000.0  6.651150e+06"
      ]
     },
     "execution_count": 104,
     "metadata": {},
     "output_type": "execute_result"
    }
   ],
   "source": [
    "df.groupby(kc)['price'].agg(\n",
    "    mean = 'mean'\n",
    "    , std = 'std'\n",
    "    , max = 'max'\n",
    "    , ub = lambda x: x.mean() + 1.96 * x.std()\n",
    ")"
   ]
  },
  {
   "cell_type": "code",
   "execution_count": 105,
   "id": "a8d34a21-b354-4644-af11-9f64e1923462",
   "metadata": {},
   "outputs": [
    {
     "data": {
      "text/plain": [
       "(16771, 25)"
      ]
     },
     "execution_count": 105,
     "metadata": {},
     "output_type": "execute_result"
    }
   ],
   "source": [
    "df.shape"
   ]
  },
  {
   "cell_type": "code",
   "execution_count": 106,
   "id": "d7ee11a5-0c07-418f-ab3a-1b6e1c77e3e6",
   "metadata": {},
   "outputs": [],
   "source": [
    "# Set the upper bound (to mean +/- 1.96 std by own calculation)\n",
    "upper_bounds = {\n",
    "    'Detached House': 9408900,\n",
    "    'Townhouse': 6653154,\n",
    "    'Condo': 8212545\n",
    "}\n",
    "\n",
    "# Filter the DataFrame\n",
    "df = df[(df['is_train'] == 0) |\n",
    "    ((df['is_train'] == 1) & (\n",
    "        ((df['property_type'] == 'Detached House') & (df['price'] <= upper_bounds['Detached House'])) |\n",
    "        ((df['property_type'] == 'Townhouse') & (df['price'] <= upper_bounds['Townhouse'])) |\n",
    "        ((df['property_type'] == 'Condo') & (df['price'] <= upper_bounds['Condo']))\n",
    "    ))\n",
    "]"
   ]
  },
  {
   "cell_type": "markdown",
   "id": "462e7f21-c6e3-4f49-a1ff-c44544d8dadf",
   "metadata": {},
   "source": [
    "---"
   ]
  },
  {
   "cell_type": "markdown",
   "id": "00d859dd-a321-4c44-b3fc-9df13d6eaf65",
   "metadata": {},
   "source": [
    "### Export\n",
    "- The exported file `housing.csv` contain 25 features and 16067 records.\n",
    "- The 25 features are listed here\n",
    "  - `id`\n",
    "  - `province`\n",
    "  - `district`\n",
    "  - `property_type`\n",
    "  - `bedrooms`\n",
    "  - `baths`\n",
    "  - `floor_area`\n",
    "  - `log_floor_area`\n",
    "  - `floor_level`\n",
    "  - `land_area`\n",
    "  - `log_land_area`\n",
    "  - `nearby_stations`\n",
    "  - `nearest_station_name` i.e., the name of the nearest BTS or MRT station to the property is used, and set to 'unknown' if none is available.\n",
    "  - `nearest_station_distance` i.e., the distance from `nearest_station_name` in meters, and set to 0 if none is avaiable.\n",
    "  - `nearby_supermarkets`\n",
    "  - `has_many_bedrooms` i.e., set to 1 if the property has more bedrooms than the median value. \n",
    "  - `has_many_baths` i.e., set to 1 if the property has more bathrooms than the median value.  \n",
    "  - `has_bus_stops`\n",
    "  - `year_built_bin` i.e., grouping of the year built into categories such as 'unknown', 'before 2000', and other relevant classifications\n",
    "  - `has_security` i.e., set to 1 if the property includes security\n",
    "  - `has_pool` i.e., set to 1 if the property includes swimming pool\n",
    "  - `has_sports` i.e., set to 1 if the property includes fitness and sports facilities\n",
    "  - `has_parking` i.e., set to 1 if the property includes parking area\n",
    "  - `price`\n",
    "  - `is_train`"
   ]
  },
  {
   "cell_type": "code",
   "execution_count": 109,
   "id": "71ce2d85-25f4-43b0-b07c-df03ed821fe5",
   "metadata": {},
   "outputs": [
    {
     "data": {
      "text/plain": [
       "Index(['id', 'province', 'district', 'property_type', 'bedrooms', 'baths',\n",
       "       'floor_area', 'floor_level', 'land_area', 'nearby_stations',\n",
       "       'nearby_supermarkets', 'price', 'is_train', 'has_many_bedrooms',\n",
       "       'has_many_baths', 'log_floor_area', 'log_land_area',\n",
       "       'nearest_station_name', 'nearest_station_distance', 'has_bus_stops',\n",
       "       'year_built_bin', 'has_security', 'has_pool', 'has_sports',\n",
       "       'has_parking'],\n",
       "      dtype='object')"
      ]
     },
     "execution_count": 109,
     "metadata": {},
     "output_type": "execute_result"
    }
   ],
   "source": [
    "df.columns"
   ]
  },
  {
   "cell_type": "code",
   "execution_count": 110,
   "id": "c86544d6-733d-4147-9545-24d5d47d6c27",
   "metadata": {},
   "outputs": [],
   "source": [
    "# Reorder the columns\n",
    "\n",
    "new_column_order = [\n",
    "    'id'\n",
    "    , 'province'\n",
    "    , 'district'\n",
    "    , 'property_type'\n",
    "    , 'bedrooms'\n",
    "    , 'baths'\n",
    "    , 'floor_area'\n",
    "    , 'log_floor_area'\n",
    "    , 'floor_level'\n",
    "    , 'land_area'\n",
    "    , 'log_land_area'\n",
    "    , 'nearby_stations'\n",
    "    , 'nearest_station_name'\n",
    "    , 'nearest_station_distance'\n",
    "    , 'nearby_supermarkets'\n",
    "    , 'has_many_bedrooms'\n",
    "    , 'has_many_baths'\n",
    "    , 'has_bus_stops'\n",
    "    , 'year_built_bin'\n",
    "    , 'has_security'\n",
    "    , 'has_pool'\n",
    "    , 'has_sports'\n",
    "    , 'has_parking'\n",
    "    , 'price'\n",
    "    , 'is_train'\n",
    "]\n",
    "\n",
    "df = df[new_column_order]"
   ]
  },
  {
   "cell_type": "code",
   "execution_count": 111,
   "id": "91e834e2-3a58-40b0-821a-151a2af17113",
   "metadata": {},
   "outputs": [
    {
     "data": {
      "text/plain": [
       "id                             int64\n",
       "province                      object\n",
       "district                      object\n",
       "property_type                 object\n",
       "bedrooms                     float64\n",
       "baths                        float64\n",
       "floor_area                     int64\n",
       "log_floor_area               float64\n",
       "floor_level                  float64\n",
       "land_area                    float64\n",
       "log_land_area                float64\n",
       "nearby_stations                int64\n",
       "nearest_station_name          object\n",
       "nearest_station_distance       int64\n",
       "nearby_supermarkets          float64\n",
       "has_many_bedrooms              int64\n",
       "has_many_baths                 int64\n",
       "has_bus_stops                  int64\n",
       "year_built_bin              category\n",
       "has_security                   int64\n",
       "has_pool                       int64\n",
       "has_sports                     int64\n",
       "has_parking                    int64\n",
       "price                        float64\n",
       "is_train                       int64\n",
       "dtype: object"
      ]
     },
     "execution_count": 111,
     "metadata": {},
     "output_type": "execute_result"
    }
   ],
   "source": [
    "df.dtypes"
   ]
  },
  {
   "cell_type": "code",
   "execution_count": 112,
   "id": "ed56b950-8bdd-49da-99bb-9874736c0732",
   "metadata": {},
   "outputs": [
    {
     "data": {
      "text/plain": [
       "1        2011_2015\n",
       "2        2016_2020\n",
       "3          unknown\n",
       "4          unknown\n",
       "6        2011_2015\n",
       "           ...    \n",
       "16766    2016_2020\n",
       "16767    2006_2010\n",
       "16768    2006_2010\n",
       "16769    2016_2020\n",
       "16770    2011_2015\n",
       "Name: year_built_bin, Length: 16072, dtype: category\n",
       "Categories (7, object): ['unknown' < '_2000' < '2001_2005' < '2006_2010' < '2011_2015' < '2016_2020' < '2021_']"
      ]
     },
     "execution_count": 112,
     "metadata": {},
     "output_type": "execute_result"
    }
   ],
   "source": [
    "df['year_built_bin']"
   ]
  },
  {
   "cell_type": "code",
   "execution_count": 113,
   "id": "86cd23c7-9983-4afb-9ba9-5455908b5b86",
   "metadata": {},
   "outputs": [],
   "source": [
    "#df.to_csv('../data/housing_clean.csv', index = False)"
   ]
  }
 ],
 "metadata": {
  "kernelspec": {
   "display_name": "Python 3 (ipykernel)",
   "language": "python",
   "name": "python3"
  },
  "language_info": {
   "codemirror_mode": {
    "name": "ipython",
    "version": 3
   },
   "file_extension": ".py",
   "mimetype": "text/x-python",
   "name": "python",
   "nbconvert_exporter": "python",
   "pygments_lexer": "ipython3",
   "version": "3.12.4"
  }
 },
 "nbformat": 4,
 "nbformat_minor": 5
}
