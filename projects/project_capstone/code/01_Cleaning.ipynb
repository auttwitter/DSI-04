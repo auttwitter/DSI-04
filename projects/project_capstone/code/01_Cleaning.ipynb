{
 "cells": [
  {
   "cell_type": "markdown",
   "id": "3e97a865-b046-4707-b93d-a5e3ff93156f",
   "metadata": {},
   "source": [
    "### ![](https://ga-dash.s3.amazonaws.com/production/assets/logo-9f88ae6c9c3871690e33280fcf557f33.png)"
   ]
  },
  {
   "cell_type": "markdown",
   "id": "3bc52147-52ff-41b3-a269-e3c27142d729",
   "metadata": {},
   "source": [
    "## Project Capstone"
   ]
  },
  {
   "cell_type": "markdown",
   "id": "8358345f-c37d-415a-90e1-4328a195d4b3",
   "metadata": {},
   "source": [
    "### Reducing Electricity Costs in Romania: Predictive and Reinforcement Learning for Solar Battery Optimization"
   ]
  },
  {
   "cell_type": "markdown",
   "id": "76daf9f3-199d-4e0b-936b-c7699cb25799",
   "metadata": {},
   "source": [
    "---\n",
    "\n",
    "[README](../README.md) | **Part 1: Cleaning** | [Part 2: EDA](02_EDA.ipynb) | [Part 3: Solar Energy Prediction Models](03_Model_Solar_Energy.ipynb) | [Part 4: Electricity Cost Prediction Models](04_Model_Electricity_Cost.ipynb) | [Part 5: Electricity Cost Prediction Using Time Series Models](05_Model_Electricity_Cost_ts.ipynb) | [Part 6: Solar Battery Optimization](06_Reinforcement_Learning.ipynb)\n",
    "\n",
    "---"
   ]
  },
  {
   "cell_type": "markdown",
   "id": "4b0b32b3-66bd-4d29-bd47-e1feedf47314",
   "metadata": {},
   "source": [
    "### Introduction\n",
    "- The data was extracted from 3 sources:\n",
    "  - Weather in Bucharest, Romania: **[Visual Crossing's weather data services](https://www.visualcrossing.com/weather/weather-data-services/Bucharest,Romania/metric/)**\n",
    "  - Electricity Cost per Hour: **[Thingler](https://thingler.io/country/Romania)**, by interpreting the bar charts and making personal notes\n",
    "  - Electricity Production per Hour: **[Kaggle](https://www.kaggle.com/datasets/stefancomanita/hourly-electricity-consumption-and-production)**\n",
    "- All three datasets cover the period from January 2024 to March 2024 on hourly basis. The data for March 31, 2024 was intentionally removed due to missing one hour because of daylight saving adjustments.\n",
    "- Finally, all three datasets were cleaned and merged into a single file, [electricity_romania.csv]('../data/cleaned/electricity_romania.csv'). The data dictionary is provided below."
   ]
  },
  {
   "cell_type": "markdown",
   "id": "a3beb6c5-23c1-4937-89dd-4fe31dbd4020",
   "metadata": {},
   "source": [
    "### Data Dictionary\n",
    "| Column Name          | Description                                                      | Data Type       |\n",
    "|----------------------|------------------------------------------------------------------|-----------------|\n",
    "| `datetime`           | Date and time of the record                                      | `datetime64[ns]`|\n",
    "| `temp`               | Temperature in Bucharest (Celsius)                               | `float64`       |\n",
    "| `feelslike`          | Feels-like temperature (Celsius)                                 | `float64`       |\n",
    "| `dew`                | Dew point temperature (Celsius)                                  | `float64`       |\n",
    "| `humidity`           | Relative humidity percentage                                     | `float64`       |\n",
    "| `windgust`           | Wind gust speed                                                  | `float64`       |\n",
    "| `windspeed`          | Wind speed                                                       | `float64`       |\n",
    "| `winddir`            | Wind direction                                                   | `float64`       |\n",
    "| `sealevelpressure`   | Sea level pressure                                               | `float64`       |\n",
    "| `cloudcover`         | Percentage of cloud cover                                        | `float64`       |\n",
    "| `visibility`         | Visibility distance (km)                                         | `float64`       |\n",
    "| `has_snow`           | Indicates if there is snow (binary: 0 = no, 1 = yes)             | `int32`         |\n",
    "| `has_solarradiation` | Indicates if there is solar radiation (binary: 0 = no, 1 = yes)  | `int32`         |\n",
    "| `icon_cloudy`        | Icon representing cloudy weather (binary: 0 = no, 1 = yes)       | `float64`       |\n",
    "| `icon_fog`           | Icon representing fog weather (binary: 0 = no, 1 = yes)          | `float64`       |\n",
    "| `icon_partly_cloudy` | Icon representing partly cloudy weather (binary: 0 = no, 1 = yes)| `float64`       |\n",
    "| `icon_rain`          | Icon representing rain weather (binary: 0 = no, 1 = yes)         | `float64`       |\n",
    "| `icon_snow`          | Icon representing snow weather (binary: 0 = no, 1 = yes)         | `float64`       |\n",
    "| `ckwh`               | Electricity cost (cent of euro) per hour in Romania              | `float64`       |\n",
    "| `consumption`        | Electricity consumption per hour                                 | `int64`         |\n",
    "| `production`         | Electricity production per hour                                  | `int64`         |\n",
    "| `nuclear`            | Nuclear energy production (MWs) per hour                         | `int64`         |\n",
    "| `wind`               | Wind energy production (MWs) per hour                            | `int64`         |\n",
    "| `hydroelectric`      | Hydroelectric energy production (MWs) per hour                   | `int64`         |\n",
    "| `oil_gas`            | Oil and gas energy production (MWs) per hour                     | `int64`         |\n",
    "| `coal`               | Coal energy production (MWs) per hour                            | `int64`         |\n",
    "| `solar`              | Solar energy production (MWs) per hour                           | `int64`         |\n",
    "| `biomass`            | Biomass energy production (MWs) per hour                         | `int64`         |            | `int64`         |\n"
   ]
  },
  {
   "cell_type": "markdown",
   "id": "bc38ea20-4d22-44d4-85bc-ad20196bc321",
   "metadata": {},
   "source": [
    "### Import & Cleaning"
   ]
  },
  {
   "cell_type": "markdown",
   "id": "4b746984-f5aa-432c-a216-115178779127",
   "metadata": {},
   "source": [
    "#### Essential Libraries"
   ]
  },
  {
   "cell_type": "code",
   "execution_count": 1,
   "id": "ea0127c7-084b-423d-b785-1ff183571474",
   "metadata": {},
   "outputs": [],
   "source": [
    "import pandas as pd\n",
    "from sklearn.preprocessing import OneHotEncoder"
   ]
  },
  {
   "cell_type": "markdown",
   "id": "c1a343c7-6142-4b34-9423-18fbb3802ecd",
   "metadata": {
    "jp-MarkdownHeadingCollapsed": true
   },
   "source": [
    "#### Weather Data:\n",
    "- The data was extracted from **[Visual Crossing's weather data services](https://www.visualcrossing.com/weather/weather-data-services/Bucharest,Romania/metric/)**, covering a period of three months.\n",
    "- The extracted data is saved into three files: [bucharest_weather_jan24.csv](../data/raw/bucharest_weather_jan24.csv), [bucharest_weather_feb24.csv](../data/raw/bucharest_weather_feb24.csv), and [bucharest_weather_mar24.csv](../data/raw/bucharest_weather_mar24.csv).\n",
    "- Some columns that were meaningless, contained too many zero values, or had too many `NaN`.\n",
    "- `snowdepth` and `solarradiation` were converted to binary.\n",
    "- The `icon` column was converted with `OneHotEncoder`.\n",
    "- The cleaned data is saved into [weather_clean.csv]('../data/cleaned/weather_clean.csv')."
   ]
  },
  {
   "cell_type": "code",
   "execution_count": 2,
   "id": "f16406a7-e6e1-4e02-9a10-354068e509b4",
   "metadata": {},
   "outputs": [],
   "source": [
    "# Import weather data from three files as DataFrames\n",
    "weather_jan = pd.read_csv('../data/raw/bucharest_weather_jan24.csv')\n",
    "weather_feb = pd.read_csv('../data/raw/bucharest_weather_feb24.csv')\n",
    "weather_mar = pd.read_csv('../data/raw/bucharest_weather_mar24.csv')"
   ]
  },
  {
   "cell_type": "code",
   "execution_count": 3,
   "id": "4b03d615-f0d9-434f-b310-6ccfee0376d4",
   "metadata": {},
   "outputs": [
    {
     "data": {
      "text/plain": [
       "((744, 24), (696, 24), (743, 24))"
      ]
     },
     "execution_count": 3,
     "metadata": {},
     "output_type": "execute_result"
    }
   ],
   "source": [
    "# Check data shapes\n",
    "weather_jan.shape, weather_feb.shape, weather_mar.shape"
   ]
  },
  {
   "cell_type": "code",
   "execution_count": 4,
   "id": "6c9e9ade-e40d-4c52-b8b6-6a26058bc9ec",
   "metadata": {},
   "outputs": [],
   "source": [
    "# Concatenate those DataFrames\n",
    "weather = pd.concat([weather_jan, weather_feb, weather_mar]\n",
    "                    , axis = 0\n",
    "                    , ignore_index = True\n",
    "                   )"
   ]
  },
  {
   "cell_type": "code",
   "execution_count": 5,
   "id": "4a409bff-234b-4410-8d3b-460d7844369d",
   "metadata": {},
   "outputs": [
    {
     "data": {
      "text/html": [
       "<div>\n",
       "<style scoped>\n",
       "    .dataframe tbody tr th:only-of-type {\n",
       "        vertical-align: middle;\n",
       "    }\n",
       "\n",
       "    .dataframe tbody tr th {\n",
       "        vertical-align: top;\n",
       "    }\n",
       "\n",
       "    .dataframe thead th {\n",
       "        text-align: right;\n",
       "    }\n",
       "</style>\n",
       "<table border=\"1\" class=\"dataframe\">\n",
       "  <thead>\n",
       "    <tr style=\"text-align: right;\">\n",
       "      <th></th>\n",
       "      <th>name</th>\n",
       "      <th>datetime</th>\n",
       "      <th>temp</th>\n",
       "      <th>feelslike</th>\n",
       "      <th>dew</th>\n",
       "      <th>humidity</th>\n",
       "      <th>precip</th>\n",
       "      <th>precipprob</th>\n",
       "      <th>preciptype</th>\n",
       "      <th>snow</th>\n",
       "      <th>...</th>\n",
       "      <th>sealevelpressure</th>\n",
       "      <th>cloudcover</th>\n",
       "      <th>visibility</th>\n",
       "      <th>solarradiation</th>\n",
       "      <th>solarenergy</th>\n",
       "      <th>uvindex</th>\n",
       "      <th>severerisk</th>\n",
       "      <th>conditions</th>\n",
       "      <th>icon</th>\n",
       "      <th>stations</th>\n",
       "    </tr>\n",
       "  </thead>\n",
       "  <tbody>\n",
       "    <tr>\n",
       "      <th>0</th>\n",
       "      <td>Bucharest,Romania</td>\n",
       "      <td>2024-01-01T00:00:00</td>\n",
       "      <td>3.4</td>\n",
       "      <td>3.4</td>\n",
       "      <td>2.9</td>\n",
       "      <td>96.47</td>\n",
       "      <td>0.0</td>\n",
       "      <td>0</td>\n",
       "      <td>NaN</td>\n",
       "      <td>0.0</td>\n",
       "      <td>...</td>\n",
       "      <td>1018.1</td>\n",
       "      <td>0.0</td>\n",
       "      <td>4.4</td>\n",
       "      <td>0.0</td>\n",
       "      <td>0.0</td>\n",
       "      <td>0.0</td>\n",
       "      <td>NaN</td>\n",
       "      <td>Clear</td>\n",
       "      <td>clear-night</td>\n",
       "      <td>F0727,15422099999,15419099999,15455099999,1542...</td>\n",
       "    </tr>\n",
       "  </tbody>\n",
       "</table>\n",
       "<p>1 rows × 24 columns</p>\n",
       "</div>"
      ],
      "text/plain": [
       "                name             datetime  temp  feelslike  dew  humidity  \\\n",
       "0  Bucharest,Romania  2024-01-01T00:00:00   3.4        3.4  2.9     96.47   \n",
       "\n",
       "   precip  precipprob preciptype  snow  ...  sealevelpressure  cloudcover  \\\n",
       "0     0.0           0        NaN   0.0  ...            1018.1         0.0   \n",
       "\n",
       "   visibility  solarradiation  solarenergy  uvindex  severerisk  conditions  \\\n",
       "0         4.4             0.0          0.0      0.0         NaN       Clear   \n",
       "\n",
       "          icon                                           stations  \n",
       "0  clear-night  F0727,15422099999,15419099999,15455099999,1542...  \n",
       "\n",
       "[1 rows x 24 columns]"
      ]
     },
     "execution_count": 5,
     "metadata": {},
     "output_type": "execute_result"
    }
   ],
   "source": [
    "weather.head(1)"
   ]
  },
  {
   "cell_type": "code",
   "execution_count": 6,
   "id": "0eaabde4-5740-4aeb-9c06-7a167331c9f1",
   "metadata": {},
   "outputs": [
    {
     "data": {
      "text/html": [
       "<div>\n",
       "<style scoped>\n",
       "    .dataframe tbody tr th:only-of-type {\n",
       "        vertical-align: middle;\n",
       "    }\n",
       "\n",
       "    .dataframe tbody tr th {\n",
       "        vertical-align: top;\n",
       "    }\n",
       "\n",
       "    .dataframe thead th {\n",
       "        text-align: right;\n",
       "    }\n",
       "</style>\n",
       "<table border=\"1\" class=\"dataframe\">\n",
       "  <thead>\n",
       "    <tr style=\"text-align: right;\">\n",
       "      <th></th>\n",
       "      <th>Data Type</th>\n",
       "      <th>% Zeros</th>\n",
       "      <th>% Missing Values</th>\n",
       "      <th>Unique Values</th>\n",
       "    </tr>\n",
       "  </thead>\n",
       "  <tbody>\n",
       "    <tr>\n",
       "      <th>name</th>\n",
       "      <td>object</td>\n",
       "      <td>0.000000</td>\n",
       "      <td>0.000000</td>\n",
       "      <td>2</td>\n",
       "    </tr>\n",
       "    <tr>\n",
       "      <th>datetime</th>\n",
       "      <td>object</td>\n",
       "      <td>0.000000</td>\n",
       "      <td>0.000000</td>\n",
       "      <td>2183</td>\n",
       "    </tr>\n",
       "    <tr>\n",
       "      <th>temp</th>\n",
       "      <td>float64</td>\n",
       "      <td>0.229043</td>\n",
       "      <td>0.000000</td>\n",
       "      <td>300</td>\n",
       "    </tr>\n",
       "    <tr>\n",
       "      <th>feelslike</th>\n",
       "      <td>float64</td>\n",
       "      <td>0.320660</td>\n",
       "      <td>0.000000</td>\n",
       "      <td>318</td>\n",
       "    </tr>\n",
       "    <tr>\n",
       "      <th>dew</th>\n",
       "      <td>float64</td>\n",
       "      <td>0.549702</td>\n",
       "      <td>0.000000</td>\n",
       "      <td>218</td>\n",
       "    </tr>\n",
       "    <tr>\n",
       "      <th>humidity</th>\n",
       "      <td>float64</td>\n",
       "      <td>0.000000</td>\n",
       "      <td>0.000000</td>\n",
       "      <td>1816</td>\n",
       "    </tr>\n",
       "    <tr>\n",
       "      <th>precip</th>\n",
       "      <td>float64</td>\n",
       "      <td>96.930829</td>\n",
       "      <td>0.000000</td>\n",
       "      <td>57</td>\n",
       "    </tr>\n",
       "    <tr>\n",
       "      <th>precipprob</th>\n",
       "      <td>int64</td>\n",
       "      <td>96.930829</td>\n",
       "      <td>0.000000</td>\n",
       "      <td>2</td>\n",
       "    </tr>\n",
       "    <tr>\n",
       "      <th>preciptype</th>\n",
       "      <td>object</td>\n",
       "      <td>0.000000</td>\n",
       "      <td>96.472744</td>\n",
       "      <td>3</td>\n",
       "    </tr>\n",
       "    <tr>\n",
       "      <th>snow</th>\n",
       "      <td>float64</td>\n",
       "      <td>99.450298</td>\n",
       "      <td>0.000000</td>\n",
       "      <td>10</td>\n",
       "    </tr>\n",
       "    <tr>\n",
       "      <th>snowdepth</th>\n",
       "      <td>float64</td>\n",
       "      <td>87.036189</td>\n",
       "      <td>0.000000</td>\n",
       "      <td>99</td>\n",
       "    </tr>\n",
       "    <tr>\n",
       "      <th>windgust</th>\n",
       "      <td>float64</td>\n",
       "      <td>0.000000</td>\n",
       "      <td>0.000000</td>\n",
       "      <td>136</td>\n",
       "    </tr>\n",
       "    <tr>\n",
       "      <th>windspeed</th>\n",
       "      <td>float64</td>\n",
       "      <td>0.870362</td>\n",
       "      <td>0.000000</td>\n",
       "      <td>108</td>\n",
       "    </tr>\n",
       "    <tr>\n",
       "      <th>winddir</th>\n",
       "      <td>float64</td>\n",
       "      <td>0.183234</td>\n",
       "      <td>0.000000</td>\n",
       "      <td>313</td>\n",
       "    </tr>\n",
       "    <tr>\n",
       "      <th>sealevelpressure</th>\n",
       "      <td>float64</td>\n",
       "      <td>0.000000</td>\n",
       "      <td>0.000000</td>\n",
       "      <td>397</td>\n",
       "    </tr>\n",
       "    <tr>\n",
       "      <th>cloudcover</th>\n",
       "      <td>float64</td>\n",
       "      <td>11.726981</td>\n",
       "      <td>0.000000</td>\n",
       "      <td>452</td>\n",
       "    </tr>\n",
       "    <tr>\n",
       "      <th>visibility</th>\n",
       "      <td>float64</td>\n",
       "      <td>0.091617</td>\n",
       "      <td>0.045809</td>\n",
       "      <td>186</td>\n",
       "    </tr>\n",
       "    <tr>\n",
       "      <th>solarradiation</th>\n",
       "      <td>float64</td>\n",
       "      <td>48.098946</td>\n",
       "      <td>33.302794</td>\n",
       "      <td>20</td>\n",
       "    </tr>\n",
       "    <tr>\n",
       "      <th>solarenergy</th>\n",
       "      <td>float64</td>\n",
       "      <td>66.101695</td>\n",
       "      <td>33.302794</td>\n",
       "      <td>2</td>\n",
       "    </tr>\n",
       "    <tr>\n",
       "      <th>uvindex</th>\n",
       "      <td>float64</td>\n",
       "      <td>66.697206</td>\n",
       "      <td>33.302794</td>\n",
       "      <td>1</td>\n",
       "    </tr>\n",
       "    <tr>\n",
       "      <th>severerisk</th>\n",
       "      <td>float64</td>\n",
       "      <td>0.000000</td>\n",
       "      <td>100.000000</td>\n",
       "      <td>0</td>\n",
       "    </tr>\n",
       "    <tr>\n",
       "      <th>conditions</th>\n",
       "      <td>object</td>\n",
       "      <td>0.000000</td>\n",
       "      <td>0.000000</td>\n",
       "      <td>11</td>\n",
       "    </tr>\n",
       "    <tr>\n",
       "      <th>icon</th>\n",
       "      <td>object</td>\n",
       "      <td>0.000000</td>\n",
       "      <td>0.000000</td>\n",
       "      <td>8</td>\n",
       "    </tr>\n",
       "    <tr>\n",
       "      <th>stations</th>\n",
       "      <td>object</td>\n",
       "      <td>0.000000</td>\n",
       "      <td>0.000000</td>\n",
       "      <td>12</td>\n",
       "    </tr>\n",
       "  </tbody>\n",
       "</table>\n",
       "</div>"
      ],
      "text/plain": [
       "                 Data Type    % Zeros  % Missing Values  Unique Values\n",
       "name                object   0.000000          0.000000              2\n",
       "datetime            object   0.000000          0.000000           2183\n",
       "temp               float64   0.229043          0.000000            300\n",
       "feelslike          float64   0.320660          0.000000            318\n",
       "dew                float64   0.549702          0.000000            218\n",
       "humidity           float64   0.000000          0.000000           1816\n",
       "precip             float64  96.930829          0.000000             57\n",
       "precipprob           int64  96.930829          0.000000              2\n",
       "preciptype          object   0.000000         96.472744              3\n",
       "snow               float64  99.450298          0.000000             10\n",
       "snowdepth          float64  87.036189          0.000000             99\n",
       "windgust           float64   0.000000          0.000000            136\n",
       "windspeed          float64   0.870362          0.000000            108\n",
       "winddir            float64   0.183234          0.000000            313\n",
       "sealevelpressure   float64   0.000000          0.000000            397\n",
       "cloudcover         float64  11.726981          0.000000            452\n",
       "visibility         float64   0.091617          0.045809            186\n",
       "solarradiation     float64  48.098946         33.302794             20\n",
       "solarenergy        float64  66.101695         33.302794              2\n",
       "uvindex            float64  66.697206         33.302794              1\n",
       "severerisk         float64   0.000000        100.000000              0\n",
       "conditions          object   0.000000          0.000000             11\n",
       "icon                object   0.000000          0.000000              8\n",
       "stations            object   0.000000          0.000000             12"
      ]
     },
     "execution_count": 6,
     "metadata": {},
     "output_type": "execute_result"
    }
   ],
   "source": [
    "# Check the number of zeros, NaNs, number of unique values\n",
    "percent_zeros = (weather == 0).mean() * 100\n",
    "percent_null = weather.isnull().mean() * 100\n",
    "unique_values = weather.nunique()\n",
    "\n",
    "# Create a DataFrame with data type, % zeros, % missing values, and number of unique values\n",
    "column_info = pd.DataFrame({\n",
    "    'Data Type': weather.dtypes\n",
    "    , '% Zeros': percent_zeros\n",
    "    , '% Missing Values': percent_null\n",
    "    , 'Unique Values': unique_values\n",
    "})\n",
    "\n",
    "column_info"
   ]
  },
  {
   "cell_type": "code",
   "execution_count": 7,
   "id": "f0915a34-55d4-4f61-aefa-f39d32de00ba",
   "metadata": {},
   "outputs": [],
   "source": [
    "# Drop columns with too many zeros, missing values, too few unique values, or meaningless data\n",
    "\n",
    "weather.drop(columns = ['name'                 # meaningless data: Bucharest,Romania; bucharest \n",
    "                        , 'precip'             # too many zeros\n",
    "                        , 'precipprob'         # too many zeros\n",
    "                        , 'preciptype'         # too many missing values\n",
    "                        , 'snow'               # too many zeros\n",
    "                        , 'solarenergy'        # too many zeros\n",
    "                        , 'uvindex'            # Only zeros and NaNs\n",
    "                        , 'severerisk'         # All Zeros\n",
    "                        , 'conditions'         # meaningless\n",
    "                        , 'stations'           # meaningless\n",
    "                       ]\n",
    "             , errors = 'ignore'\n",
    "             , inplace = True)"
   ]
  },
  {
   "cell_type": "code",
   "execution_count": 8,
   "id": "c5c3def1-ac91-405c-96f9-61db8d41efaa",
   "metadata": {},
   "outputs": [],
   "source": [
    "# Convert to binary and drop the original columns\n",
    "weather['has_snow'] = (weather['snowdepth'] > 0).astype(int)\n",
    "weather['has_solarradiation'] = (weather['solarradiation'] > 0).astype(int)\n",
    "\n",
    "weather.drop(columns = ['snowdepth'\n",
    "                        , 'solarradiation'\n",
    "                       ]\n",
    "             , errors = 'ignore'\n",
    "             , inplace = True)"
   ]
  },
  {
   "cell_type": "code",
   "execution_count": 9,
   "id": "ad9691db-5126-49a5-a4e3-95d1e74ed654",
   "metadata": {},
   "outputs": [
    {
     "data": {
      "text/plain": [
       "icon\n",
       "cloudy           876\n",
       "partly_cloudy    791\n",
       "clear            437\n",
       "rain              52\n",
       "snow              15\n",
       "fog               12\n",
       "Name: count, dtype: int64"
      ]
     },
     "execution_count": 9,
     "metadata": {},
     "output_type": "execute_result"
    }
   ],
   "source": [
    "# Map 'partly-cloudy-day' and 'partly-cloudy-night' to 'partly-cloudy'\n",
    "# Map 'clear-night' and 'clear-day' to 'clear'\n",
    "\n",
    "weather['icon'] = weather['icon'].replace({\n",
    "    'partly-cloudy-night': 'partly_cloudy',\n",
    "    'partly-cloudy-day': 'partly_cloudy',\n",
    "    'clear-night': 'clear',\n",
    "    'clear-day': 'clear'\n",
    "})\n",
    "\n",
    "# Check the value counts\n",
    "weather['icon'].value_counts(dropna = False)"
   ]
  },
  {
   "cell_type": "code",
   "execution_count": 10,
   "id": "33b3a163-c151-48d2-86a2-780f40941651",
   "metadata": {},
   "outputs": [
    {
     "data": {
      "text/html": [
       "<div>\n",
       "<style scoped>\n",
       "    .dataframe tbody tr th:only-of-type {\n",
       "        vertical-align: middle;\n",
       "    }\n",
       "\n",
       "    .dataframe tbody tr th {\n",
       "        vertical-align: top;\n",
       "    }\n",
       "\n",
       "    .dataframe thead th {\n",
       "        text-align: right;\n",
       "    }\n",
       "</style>\n",
       "<table border=\"1\" class=\"dataframe\">\n",
       "  <thead>\n",
       "    <tr style=\"text-align: right;\">\n",
       "      <th></th>\n",
       "      <th>datetime</th>\n",
       "      <th>temp</th>\n",
       "      <th>feelslike</th>\n",
       "      <th>dew</th>\n",
       "      <th>humidity</th>\n",
       "      <th>windgust</th>\n",
       "      <th>windspeed</th>\n",
       "      <th>winddir</th>\n",
       "      <th>sealevelpressure</th>\n",
       "      <th>cloudcover</th>\n",
       "      <th>visibility</th>\n",
       "      <th>has_snow</th>\n",
       "      <th>has_solarradiation</th>\n",
       "      <th>icon_cloudy</th>\n",
       "      <th>icon_fog</th>\n",
       "      <th>icon_partly_cloudy</th>\n",
       "      <th>icon_rain</th>\n",
       "      <th>icon_snow</th>\n",
       "    </tr>\n",
       "  </thead>\n",
       "  <tbody>\n",
       "    <tr>\n",
       "      <th>0</th>\n",
       "      <td>2024-01-01T00:00:00</td>\n",
       "      <td>3.4</td>\n",
       "      <td>3.4</td>\n",
       "      <td>2.9</td>\n",
       "      <td>96.47</td>\n",
       "      <td>6.1</td>\n",
       "      <td>3.7</td>\n",
       "      <td>19.0</td>\n",
       "      <td>1018.1</td>\n",
       "      <td>0.0</td>\n",
       "      <td>4.4</td>\n",
       "      <td>0</td>\n",
       "      <td>0</td>\n",
       "      <td>0.0</td>\n",
       "      <td>0.0</td>\n",
       "      <td>0.0</td>\n",
       "      <td>0.0</td>\n",
       "      <td>0.0</td>\n",
       "    </tr>\n",
       "    <tr>\n",
       "      <th>1</th>\n",
       "      <td>2024-01-01T01:00:00</td>\n",
       "      <td>3.1</td>\n",
       "      <td>3.1</td>\n",
       "      <td>2.6</td>\n",
       "      <td>96.54</td>\n",
       "      <td>6.5</td>\n",
       "      <td>3.7</td>\n",
       "      <td>18.0</td>\n",
       "      <td>1017.7</td>\n",
       "      <td>0.0</td>\n",
       "      <td>1.6</td>\n",
       "      <td>0</td>\n",
       "      <td>0</td>\n",
       "      <td>0.0</td>\n",
       "      <td>0.0</td>\n",
       "      <td>0.0</td>\n",
       "      <td>0.0</td>\n",
       "      <td>0.0</td>\n",
       "    </tr>\n",
       "    <tr>\n",
       "      <th>2</th>\n",
       "      <td>2024-01-01T02:00:00</td>\n",
       "      <td>2.1</td>\n",
       "      <td>2.1</td>\n",
       "      <td>1.8</td>\n",
       "      <td>97.83</td>\n",
       "      <td>6.1</td>\n",
       "      <td>3.4</td>\n",
       "      <td>10.0</td>\n",
       "      <td>1017.5</td>\n",
       "      <td>0.0</td>\n",
       "      <td>1.6</td>\n",
       "      <td>0</td>\n",
       "      <td>0</td>\n",
       "      <td>0.0</td>\n",
       "      <td>0.0</td>\n",
       "      <td>0.0</td>\n",
       "      <td>0.0</td>\n",
       "      <td>0.0</td>\n",
       "    </tr>\n",
       "    <tr>\n",
       "      <th>3</th>\n",
       "      <td>2024-01-01T03:00:00</td>\n",
       "      <td>1.6</td>\n",
       "      <td>1.6</td>\n",
       "      <td>1.4</td>\n",
       "      <td>98.49</td>\n",
       "      <td>6.5</td>\n",
       "      <td>0.3</td>\n",
       "      <td>354.0</td>\n",
       "      <td>1017.2</td>\n",
       "      <td>0.0</td>\n",
       "      <td>1.6</td>\n",
       "      <td>0</td>\n",
       "      <td>0</td>\n",
       "      <td>0.0</td>\n",
       "      <td>0.0</td>\n",
       "      <td>0.0</td>\n",
       "      <td>0.0</td>\n",
       "      <td>0.0</td>\n",
       "    </tr>\n",
       "    <tr>\n",
       "      <th>4</th>\n",
       "      <td>2024-01-01T04:00:00</td>\n",
       "      <td>1.5</td>\n",
       "      <td>1.5</td>\n",
       "      <td>1.2</td>\n",
       "      <td>97.81</td>\n",
       "      <td>6.8</td>\n",
       "      <td>0.3</td>\n",
       "      <td>315.0</td>\n",
       "      <td>1016.9</td>\n",
       "      <td>0.0</td>\n",
       "      <td>1.6</td>\n",
       "      <td>0</td>\n",
       "      <td>0</td>\n",
       "      <td>0.0</td>\n",
       "      <td>0.0</td>\n",
       "      <td>0.0</td>\n",
       "      <td>0.0</td>\n",
       "      <td>0.0</td>\n",
       "    </tr>\n",
       "  </tbody>\n",
       "</table>\n",
       "</div>"
      ],
      "text/plain": [
       "              datetime  temp  feelslike  dew  humidity  windgust  windspeed  \\\n",
       "0  2024-01-01T00:00:00   3.4        3.4  2.9     96.47       6.1        3.7   \n",
       "1  2024-01-01T01:00:00   3.1        3.1  2.6     96.54       6.5        3.7   \n",
       "2  2024-01-01T02:00:00   2.1        2.1  1.8     97.83       6.1        3.4   \n",
       "3  2024-01-01T03:00:00   1.6        1.6  1.4     98.49       6.5        0.3   \n",
       "4  2024-01-01T04:00:00   1.5        1.5  1.2     97.81       6.8        0.3   \n",
       "\n",
       "   winddir  sealevelpressure  cloudcover  visibility  has_snow  \\\n",
       "0     19.0            1018.1         0.0         4.4         0   \n",
       "1     18.0            1017.7         0.0         1.6         0   \n",
       "2     10.0            1017.5         0.0         1.6         0   \n",
       "3    354.0            1017.2         0.0         1.6         0   \n",
       "4    315.0            1016.9         0.0         1.6         0   \n",
       "\n",
       "   has_solarradiation  icon_cloudy  icon_fog  icon_partly_cloudy  icon_rain  \\\n",
       "0                   0          0.0       0.0                 0.0        0.0   \n",
       "1                   0          0.0       0.0                 0.0        0.0   \n",
       "2                   0          0.0       0.0                 0.0        0.0   \n",
       "3                   0          0.0       0.0                 0.0        0.0   \n",
       "4                   0          0.0       0.0                 0.0        0.0   \n",
       "\n",
       "   icon_snow  \n",
       "0        0.0  \n",
       "1        0.0  \n",
       "2        0.0  \n",
       "3        0.0  \n",
       "4        0.0  "
      ]
     },
     "execution_count": 10,
     "metadata": {},
     "output_type": "execute_result"
    }
   ],
   "source": [
    "# Initialize OneHotEncoder\n",
    "encoder = OneHotEncoder(sparse_output=False)\n",
    "\n",
    "# Fit and transform the 'icon' column\n",
    "encoded_icons = encoder.fit_transform(weather[['icon']])\n",
    "\n",
    "# Create a DataFrame with the encoded columns\n",
    "encoded_df = pd.DataFrame(encoded_icons, columns = encoder.get_feature_names_out(['icon']))\n",
    "\n",
    "# Concatenate the original weather DataFrame with the encoded columns, and drop the original 'icon' and 'icon_clear' columns\n",
    "weather = pd.concat([weather, encoded_df], axis=1).drop(['icon', 'icon_clear'], axis=1)\n",
    "\n",
    "# Check the result\n",
    "weather.head()"
   ]
  },
  {
   "cell_type": "code",
   "execution_count": 11,
   "id": "f0139bbd-f4f2-4de6-97fc-5273b5b92913",
   "metadata": {},
   "outputs": [],
   "source": [
    "# Visibility has 1 NaNs\n",
    "# weather.isnull().sum()[weather.isnull().sum() > 0]\n",
    "\n",
    "# Output:\n",
    "# visibility    1\n",
    "# dtype: int64\n",
    "\n",
    "# Impute with median\n",
    "weather['visibility'] = weather['visibility'].fillna(weather['visibility'].median())"
   ]
  },
  {
   "cell_type": "code",
   "execution_count": 12,
   "id": "8986df4f-d66a-405d-8d31-ea815bd1987c",
   "metadata": {},
   "outputs": [],
   "source": [
    "# Formatting datetime\n",
    "weather['datetime'] = pd.to_datetime(weather['datetime'])"
   ]
  },
  {
   "cell_type": "code",
   "execution_count": 13,
   "id": "aa2c76ab-e8cb-44f9-b3dd-889703c5e8d5",
   "metadata": {},
   "outputs": [],
   "source": [
    "# Filter the DataFrame to include only 01 January 2024 to 30 March 2024\n",
    "weather = weather[(weather['datetime'] > '2023-12-31 23:59:59') & (weather['datetime'] < '2024-03-31 00:00:00')]\n",
    "\n",
    "# Save the DataFrame to a CSV file\n",
    "weather.to_csv('../data/cleaned/weather_clean.csv', index = False)"
   ]
  },
  {
   "cell_type": "markdown",
   "id": "e7ff38d0-7fb4-438b-ab8a-46270b9dfb03",
   "metadata": {
    "jp-MarkdownHeadingCollapsed": true
   },
   "source": [
    "#### Electricity Cost per Hour\n",
    "- The data was manually extracted from **[Thingler](https://thingler.io/country/Romania)** by interpreting the bar charts and making personal notes and saved into [hourly_data.csv]('../data/raw/hourly_data.csv').\n",
    "- The data has 2,184 rows and 2 columns (`dt` and `c_kwH`) and no missing values.\n",
    "- The data requires converting `dt` to datetime format and renaming columns for easier use.\n",
    "- The cleaned data is saved into [electricity_cost_clean.csv]('../data/cleaned/electricity_cost_clean.csv')."
   ]
  },
  {
   "cell_type": "code",
   "execution_count": 14,
   "id": "880bb00a-3a3a-43fd-b19b-b460e6da6faa",
   "metadata": {},
   "outputs": [],
   "source": [
    "# Import Electricity Cost per hour data as DataFrame\n",
    "ecph = pd.read_csv('../data/raw/hourly_data.csv')"
   ]
  },
  {
   "cell_type": "code",
   "execution_count": 15,
   "id": "2f405f5c-25bc-44bb-ac66-b17e31419e92",
   "metadata": {},
   "outputs": [],
   "source": [
    "# ecph.shape  \n",
    "# Output:\n",
    "# (2184, 2)\n",
    "\n",
    "# ecph.columns\n",
    "# Output:\n",
    "# Index(['dt', 'c_kwH'], dtype='object')\n",
    "\n",
    "# ecph.dtypes\n",
    "# Output:\n",
    "# dt        object\n",
    "# c_kwH    float64\n",
    "# dtype: object\n",
    "\n",
    "# ecph.isnull().sum()\n",
    "# Output:\n",
    "# dt       0\n",
    "# c_kwH    0\n",
    "# dtype: int64"
   ]
  },
  {
   "cell_type": "code",
   "execution_count": 16,
   "id": "31436c99-05f5-4ed0-becc-54f9c274330a",
   "metadata": {},
   "outputs": [],
   "source": [
    "# Original data\n",
    "# \tdt\tc_kwH\n",
    "# 0\t01/01/2024 0:00\t1.07\n",
    "\n",
    "# Convert dt from object to datetime\n",
    "ecph['dt'] = pd.to_datetime(ecph['dt'], format='%d/%m/%Y %H:%M')"
   ]
  },
  {
   "cell_type": "code",
   "execution_count": 17,
   "id": "13fa9c96-f863-41c6-bae2-a11cc5d3fa5c",
   "metadata": {},
   "outputs": [],
   "source": [
    "# Filter the DataFrame to include only 01 January 2024 to 30 March 2024\n",
    "ecph = ecph[(ecph['dt'] > '2023-12-31 23:59:59') & (ecph['dt'] < '2024-03-31 00:00:00')]\n",
    "\n",
    "# Renaming Columns\n",
    "ecph = ecph.rename(columns = {'dt': 'datetime', 'c_kwH': 'ckwh'})\n",
    "\n",
    "# save the DataFrame to a CSV file\n",
    "ecph.to_csv('../data/cleaned/electricity_cost_clean.csv', index = False)"
   ]
  },
  {
   "cell_type": "markdown",
   "id": "8d61a6da-a91e-484e-bf8d-b56968fbcfa6",
   "metadata": {
    "jp-MarkdownHeadingCollapsed": true
   },
   "source": [
    "#### Electricity Production per Hour\n",
    "- The data was extracted from **[Kaggle](https://www.kaggle.com/datasets/stefancomanita/hourly-electricity-consumption-and-production)** and saved into [electricityConsumptionAndProduction.csv](../data/raw/electricityConsumptionAndProduction.csv).  \n",
    "- The dataset covers the period from January 2019 to March 2024, has no missing values, and requires formatting `DateTime` as a datetime format.  \n",
    "- The data is filtered to include only January 2024 to March 2024, and the columns are renamed for easier use\n",
    "- The cleaned data is saved into [electricity_production_clean.csv]('../datacleaned//electricity_production_clean.csv'). \n"
   ]
  },
  {
   "cell_type": "code",
   "execution_count": 18,
   "id": "471dbb01-0a03-439e-9d97-7b52eae7c754",
   "metadata": {},
   "outputs": [],
   "source": [
    "# Import Electricity Production per hour data as DataFrame\n",
    "epph = pd.read_csv('../data/raw/electricityConsumptionAndProduction.csv')"
   ]
  },
  {
   "cell_type": "code",
   "execution_count": 19,
   "id": "d57ac131-1f6c-4eaf-a050-47ed8df1a298",
   "metadata": {},
   "outputs": [
    {
     "data": {
      "text/plain": [
       "DateTime         object\n",
       "Consumption       int64\n",
       "Production        int64\n",
       "Nuclear           int64\n",
       "Wind              int64\n",
       "Hydroelectric     int64\n",
       "Oil and Gas       int64\n",
       "Coal              int64\n",
       "Solar             int64\n",
       "Biomass           int64\n",
       "dtype: object"
      ]
     },
     "execution_count": 19,
     "metadata": {},
     "output_type": "execute_result"
    }
   ],
   "source": [
    "epph.dtypes"
   ]
  },
  {
   "cell_type": "code",
   "execution_count": 20,
   "id": "8a0167bf-803f-466a-9c8e-bf1041c53528",
   "metadata": {},
   "outputs": [
    {
     "data": {
      "text/plain": [
       "DateTime         0\n",
       "Consumption      0\n",
       "Production       0\n",
       "Nuclear          0\n",
       "Wind             0\n",
       "Hydroelectric    0\n",
       "Oil and Gas      0\n",
       "Coal             0\n",
       "Solar            0\n",
       "Biomass          0\n",
       "dtype: int64"
      ]
     },
     "execution_count": 20,
     "metadata": {},
     "output_type": "execute_result"
    }
   ],
   "source": [
    "epph.isnull().sum()"
   ]
  },
  {
   "cell_type": "code",
   "execution_count": 21,
   "id": "7d29bf07-92d4-4f7f-82cc-d11cccc66627",
   "metadata": {},
   "outputs": [],
   "source": [
    "# Formatting column DateTime to datetime datatype\n",
    "epph['DateTime'] = pd.to_datetime(epph['DateTime'])"
   ]
  },
  {
   "cell_type": "code",
   "execution_count": 22,
   "id": "9f704da5-4930-44b6-8654-83e92656cd8e",
   "metadata": {},
   "outputs": [],
   "source": [
    "# Filter the DataFrame to include only 01 January 2024 to 30 March 2024\n",
    "epph = epph[(epph['DateTime'] > '2023-12-31 23:59:59') & (epph['DateTime'] < '2024-03-31 00:00:00')]\n",
    "\n",
    "# Renaming Columns and save the DataFrame to a CSV file\n",
    "epph = epph.rename(columns = {'DateTime': 'datetime'\n",
    "                              , 'Consumption': 'consumption'\n",
    "                              , 'Production': 'production'\n",
    "                              , 'Nuclear': 'nuclear'\n",
    "                              , 'Wind': 'wind'\n",
    "                              , 'Hydroelectric': 'hydroelectric'\n",
    "                              , 'Oil and Gas': 'oil_gas'\n",
    "                              , 'Coal': 'coal'\n",
    "                              , 'Solar': 'solar'\n",
    "                              , 'Biomass': 'biomass'\n",
    "                             }).sort_values(by = 'datetime').reset_index(drop = True)\n",
    "\n",
    "# Save the DataFrame to a CSV file\n",
    "epph.to_csv('../data/cleaned/electricity_production_clean.csv', index = False)"
   ]
  },
  {
   "cell_type": "markdown",
   "id": "2f448b85-fb37-4e85-bc7e-615be710469e",
   "metadata": {},
   "source": [
    "#### Merging All 3 DataFrames\n",
    "- The three DataFrames can be merged on the `datetime` column, which is common across all of them.\n",
    "- The merged data is saved into [electricity_romania.csv]('../data/cleaned/electricity_romania.csv')."
   ]
  },
  {
   "cell_type": "code",
   "execution_count": 23,
   "id": "500aaa16-422c-481d-a41c-1d2efbbe1830",
   "metadata": {},
   "outputs": [
    {
     "data": {
      "text/plain": [
       "((2160, 18), (2160, 2), (2160, 10))"
      ]
     },
     "execution_count": 23,
     "metadata": {},
     "output_type": "execute_result"
    }
   ],
   "source": [
    "weather.shape, ecph.shape, epph.shape"
   ]
  },
  {
   "cell_type": "code",
   "execution_count": 24,
   "id": "aff3f7f8-dbf0-45be-8dfc-432e0f27e58c",
   "metadata": {},
   "outputs": [],
   "source": [
    "# Merge weather and ecph on 'datetime'\n",
    "merged_df = pd.merge(weather, ecph, on = 'datetime', how = 'outer')\n",
    "\n",
    "# Merge the result with epph on 'datetime'\n",
    "merged_df = pd.merge(merged_df, epph, on = 'datetime', how = 'outer')"
   ]
  },
  {
   "cell_type": "code",
   "execution_count": 25,
   "id": "50c9766b-8dd7-40e4-9dac-105eeb0c1664",
   "metadata": {},
   "outputs": [],
   "source": [
    "# Save the DataFrame to a CSV file\n",
    "merged_df.to_csv('../data/cleaned/electricity_romania.csv', index = False)"
   ]
  },
  {
   "cell_type": "code",
   "execution_count": 26,
   "id": "31b8ce71-fc2c-47a4-b835-7702e18fa9dd",
   "metadata": {},
   "outputs": [
    {
     "data": {
      "text/plain": [
       "datetime              datetime64[ns]\n",
       "temp                         float64\n",
       "feelslike                    float64\n",
       "dew                          float64\n",
       "humidity                     float64\n",
       "windgust                     float64\n",
       "windspeed                    float64\n",
       "winddir                      float64\n",
       "sealevelpressure             float64\n",
       "cloudcover                   float64\n",
       "visibility                   float64\n",
       "has_snow                       int32\n",
       "has_solarradiation             int32\n",
       "icon_cloudy                  float64\n",
       "icon_fog                     float64\n",
       "icon_partly_cloudy           float64\n",
       "icon_rain                    float64\n",
       "icon_snow                    float64\n",
       "ckwh                         float64\n",
       "consumption                    int64\n",
       "production                     int64\n",
       "nuclear                        int64\n",
       "wind                           int64\n",
       "hydroelectric                  int64\n",
       "oil_gas                        int64\n",
       "coal                           int64\n",
       "solar                          int64\n",
       "biomass                        int64\n",
       "dtype: object"
      ]
     },
     "execution_count": 26,
     "metadata": {},
     "output_type": "execute_result"
    }
   ],
   "source": [
    "merged_df.dtypes"
   ]
  }
 ],
 "metadata": {
  "kernelspec": {
   "display_name": "Python 3 (ipykernel)",
   "language": "python",
   "name": "python3"
  },
  "language_info": {
   "codemirror_mode": {
    "name": "ipython",
    "version": 3
   },
   "file_extension": ".py",
   "mimetype": "text/x-python",
   "name": "python",
   "nbconvert_exporter": "python",
   "pygments_lexer": "ipython3",
   "version": "3.12.4"
  }
 },
 "nbformat": 4,
 "nbformat_minor": 5
}
