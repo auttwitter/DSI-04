{
 "cells": [
  {
   "cell_type": "markdown",
   "id": "3e97a865-b046-4707-b93d-a5e3ff93156f",
   "metadata": {},
   "source": [
    "# ![](https://ga-dash.s3.amazonaws.com/production/assets/logo-9f88ae6c9c3871690e33280fcf557f33.png)"
   ]
  },
  {
   "cell_type": "markdown",
   "id": "6984a866-17e0-42be-bf88-a5ca125f2b03",
   "metadata": {},
   "source": [
    "##  Project Capstone"
   ]
  },
  {
   "cell_type": "markdown",
   "id": "8358345f-c37d-415a-90e1-4328a195d4b3",
   "metadata": {},
   "source": [
    "### Reducing Electricity Costs in Romania: Predictive and Reinforcement Learning for Solar Power Optimization"
   ]
  },
  {
   "cell_type": "markdown",
   "id": "76daf9f3-199d-4e0b-936b-c7699cb25799",
   "metadata": {},
   "source": [
    "---\n",
    "\n",
    "[README](../README.md) | [Part 1: Cleaning](01_Cleaning.ipynb) | [Part 2: EDA](02_EDA.ipynb) | [Part 3: Solar Energy Prediction Models](03_Model_Solar_Energy.ipynb) | **Part 4: Electricity Cost Prediction Models** | [Part 5: Electricity Cost Prediction Using Time Series Models](05_Model_Electricity_Cost_ts.ipynb)\n",
    "\n",
    "---"
   ]
  },
  {
   "cell_type": "markdown",
   "id": "0c4282f9-4f19-4503-a91e-7c1ea1280db3",
   "metadata": {},
   "source": [
    "### Introduction\n",
    "- In this section, various models will be developed to predict electricity cost from energy production using different types of algorithms.\n",
    "- The results will then be compared based on the R-squared metric."
   ]
  },
  {
   "cell_type": "markdown",
   "id": "0fb62d2b-3ac8-4f80-a40f-5d084a105431",
   "metadata": {},
   "source": [
    "### Import and Preprocessing"
   ]
  },
  {
   "cell_type": "markdown",
   "id": "4b746984-f5aa-432c-a216-115178779127",
   "metadata": {},
   "source": [
    "#### Essential Libraries"
   ]
  },
  {
   "cell_type": "code",
   "execution_count": 34,
   "id": "ea0127c7-084b-423d-b785-1ff183571474",
   "metadata": {},
   "outputs": [],
   "source": [
    "import pandas as pd\n",
    "import numpy as np\n",
    "import matplotlib.pyplot as plt\n",
    "import seaborn as sns\n",
    "import pickle\n",
    "\n",
    "from sklearn.preprocessing import StandardScaler, OneHotEncoder, PolynomialFeatures\n",
    "from sklearn.model_selection import train_test_split, GridSearchCV\n",
    "from sklearn.dummy import DummyRegressor\n",
    "from sklearn.metrics import mean_squared_error, r2_score\n",
    "from sklearn.ensemble import RandomForestRegressor, GradientBoostingRegressor, AdaBoostRegressor\n",
    "import xgboost as xgb\n",
    "import statsmodels.api as sm\n",
    "\n",
    "np.random.seed(42)"
   ]
  },
  {
   "cell_type": "markdown",
   "id": "b57d80ea-d92a-4dcd-85a5-70c06937250b",
   "metadata": {
    "jp-MarkdownHeadingCollapsed": true
   },
   "source": [
    "#### Import Data"
   ]
  },
  {
   "cell_type": "code",
   "execution_count": 35,
   "id": "15b7cc3b-051b-488c-bb03-ccf29bbc38cc",
   "metadata": {},
   "outputs": [],
   "source": [
    "df = pd.read_csv('../data/cleaned/electricity_romania.csv')       # Import\n",
    "df['datetime'] = pd.to_datetime(df['datetime'])                   # Formatting `datetime`\n",
    "df['month'] = df['datetime'].dt.month                             # Extract month\n",
    "df['hour'] = df['datetime'].dt.hour                               # Extract hour"
   ]
  },
  {
   "cell_type": "code",
   "execution_count": 36,
   "id": "ab9d1d47-4064-4413-99e9-4f1993d530e5",
   "metadata": {},
   "outputs": [
    {
     "data": {
      "text/html": [
       "<div>\n",
       "<style scoped>\n",
       "    .dataframe tbody tr th:only-of-type {\n",
       "        vertical-align: middle;\n",
       "    }\n",
       "\n",
       "    .dataframe tbody tr th {\n",
       "        vertical-align: top;\n",
       "    }\n",
       "\n",
       "    .dataframe thead th {\n",
       "        text-align: right;\n",
       "    }\n",
       "</style>\n",
       "<table border=\"1\" class=\"dataframe\">\n",
       "  <thead>\n",
       "    <tr style=\"text-align: right;\">\n",
       "      <th></th>\n",
       "      <th>datetime</th>\n",
       "      <th>temp</th>\n",
       "      <th>feelslike</th>\n",
       "      <th>dew</th>\n",
       "      <th>humidity</th>\n",
       "      <th>windgust</th>\n",
       "      <th>windspeed</th>\n",
       "      <th>winddir</th>\n",
       "      <th>sealevelpressure</th>\n",
       "      <th>cloudcover</th>\n",
       "      <th>...</th>\n",
       "      <th>production</th>\n",
       "      <th>nuclear</th>\n",
       "      <th>wind</th>\n",
       "      <th>hydroelectric</th>\n",
       "      <th>oil_gas</th>\n",
       "      <th>coal</th>\n",
       "      <th>solar</th>\n",
       "      <th>biomass</th>\n",
       "      <th>month</th>\n",
       "      <th>hour</th>\n",
       "    </tr>\n",
       "  </thead>\n",
       "  <tbody>\n",
       "    <tr>\n",
       "      <th>0</th>\n",
       "      <td>2024-01-01</td>\n",
       "      <td>3.4</td>\n",
       "      <td>3.4</td>\n",
       "      <td>2.9</td>\n",
       "      <td>96.47</td>\n",
       "      <td>6.1</td>\n",
       "      <td>3.7</td>\n",
       "      <td>19.0</td>\n",
       "      <td>1018.1</td>\n",
       "      <td>0.0</td>\n",
       "      <td>...</td>\n",
       "      <td>6223</td>\n",
       "      <td>1396</td>\n",
       "      <td>1115</td>\n",
       "      <td>1409</td>\n",
       "      <td>1434</td>\n",
       "      <td>837</td>\n",
       "      <td>0</td>\n",
       "      <td>31</td>\n",
       "      <td>1</td>\n",
       "      <td>0</td>\n",
       "    </tr>\n",
       "  </tbody>\n",
       "</table>\n",
       "<p>1 rows × 30 columns</p>\n",
       "</div>"
      ],
      "text/plain": [
       "    datetime  temp  feelslike  dew  humidity  windgust  windspeed  winddir  \\\n",
       "0 2024-01-01   3.4        3.4  2.9     96.47       6.1        3.7     19.0   \n",
       "\n",
       "   sealevelpressure  cloudcover  ...  production  nuclear  wind  \\\n",
       "0            1018.1         0.0  ...        6223     1396  1115   \n",
       "\n",
       "   hydroelectric  oil_gas  coal  solar  biomass  month  hour  \n",
       "0           1409     1434   837      0       31      1     0  \n",
       "\n",
       "[1 rows x 30 columns]"
      ]
     },
     "execution_count": 36,
     "metadata": {},
     "output_type": "execute_result"
    }
   ],
   "source": [
    "df.head(1)"
   ]
  },
  {
   "cell_type": "code",
   "execution_count": 37,
   "id": "aa2f3b4b-0b16-4cb7-b6c6-aeb9c7855966",
   "metadata": {},
   "outputs": [
    {
     "data": {
      "text/plain": [
       "Index(['datetime', 'temp', 'feelslike', 'dew', 'humidity', 'windgust',\n",
       "       'windspeed', 'winddir', 'sealevelpressure', 'cloudcover', 'visibility',\n",
       "       'has_snow', 'has_solarradiation', 'icon_cloudy', 'icon_fog',\n",
       "       'icon_partly_cloudy', 'icon_rain', 'icon_snow', 'ckwh', 'consumption',\n",
       "       'production', 'nuclear', 'wind', 'hydroelectric', 'oil_gas', 'coal',\n",
       "       'solar', 'biomass', 'month', 'hour'],\n",
       "      dtype='object')"
      ]
     },
     "execution_count": 37,
     "metadata": {},
     "output_type": "execute_result"
    }
   ],
   "source": [
    "df.columns"
   ]
  },
  {
   "cell_type": "code",
   "execution_count": 38,
   "id": "b37a19fc-e5ae-4fa9-a8c5-ae8e25e4ef8b",
   "metadata": {},
   "outputs": [],
   "source": [
    "df = df[['datetime'\n",
    "         , 'consumption'\n",
    "         , 'production'\n",
    "         , 'nuclear'\n",
    "         , 'wind'\n",
    "         , 'hydroelectric'\n",
    "         , 'oil_gas'\n",
    "         , 'coal'\n",
    "         , 'solar'\n",
    "         , 'biomass'\n",
    "         , 'month'\n",
    "         , 'hour'\n",
    "         , 'ckwh'\n",
    "        ]]"
   ]
  },
  {
   "cell_type": "markdown",
   "id": "59d19c60-0373-4e0d-830a-16ae694f6432",
   "metadata": {
    "jp-MarkdownHeadingCollapsed": true
   },
   "source": [
    "#### Preprocessing\n",
    "- Add a new column `excess` which is the difference of `production` and `consumption`\n",
    "- Convert `month` and `hour` using `OneHotEncoder`, and drop January and 0 AM as the baseline."
   ]
  },
  {
   "cell_type": "code",
   "execution_count": 39,
   "id": "b0c7ffdb-b684-4f67-a088-2a3f47cdf5ea",
   "metadata": {},
   "outputs": [],
   "source": [
    "df['excess'] = df['production'] - df['consumption']"
   ]
  },
  {
   "cell_type": "code",
   "execution_count": 40,
   "id": "301d3c68-1f80-4f13-8d2d-a323e153b483",
   "metadata": {},
   "outputs": [
    {
     "data": {
      "text/html": [
       "<div>\n",
       "<style scoped>\n",
       "    .dataframe tbody tr th:only-of-type {\n",
       "        vertical-align: middle;\n",
       "    }\n",
       "\n",
       "    .dataframe tbody tr th {\n",
       "        vertical-align: top;\n",
       "    }\n",
       "\n",
       "    .dataframe thead th {\n",
       "        text-align: right;\n",
       "    }\n",
       "</style>\n",
       "<table border=\"1\" class=\"dataframe\">\n",
       "  <thead>\n",
       "    <tr style=\"text-align: right;\">\n",
       "      <th></th>\n",
       "      <th>consumption</th>\n",
       "      <th>production</th>\n",
       "      <th>nuclear</th>\n",
       "      <th>wind</th>\n",
       "      <th>hydroelectric</th>\n",
       "      <th>oil_gas</th>\n",
       "      <th>coal</th>\n",
       "      <th>solar</th>\n",
       "      <th>biomass</th>\n",
       "      <th>ckwh</th>\n",
       "      <th>...</th>\n",
       "      <th>hour_14</th>\n",
       "      <th>hour_15</th>\n",
       "      <th>hour_16</th>\n",
       "      <th>hour_17</th>\n",
       "      <th>hour_18</th>\n",
       "      <th>hour_19</th>\n",
       "      <th>hour_20</th>\n",
       "      <th>hour_21</th>\n",
       "      <th>hour_22</th>\n",
       "      <th>hour_23</th>\n",
       "    </tr>\n",
       "  </thead>\n",
       "  <tbody>\n",
       "    <tr>\n",
       "      <th>0</th>\n",
       "      <td>5338</td>\n",
       "      <td>6223</td>\n",
       "      <td>1396</td>\n",
       "      <td>1115</td>\n",
       "      <td>1409</td>\n",
       "      <td>1434</td>\n",
       "      <td>837</td>\n",
       "      <td>0</td>\n",
       "      <td>31</td>\n",
       "      <td>1.07</td>\n",
       "      <td>...</td>\n",
       "      <td>0.0</td>\n",
       "      <td>0.0</td>\n",
       "      <td>0.0</td>\n",
       "      <td>0.0</td>\n",
       "      <td>0.0</td>\n",
       "      <td>0.0</td>\n",
       "      <td>0.0</td>\n",
       "      <td>0.0</td>\n",
       "      <td>0.0</td>\n",
       "      <td>0.0</td>\n",
       "    </tr>\n",
       "    <tr>\n",
       "      <th>1</th>\n",
       "      <td>5148</td>\n",
       "      <td>5775</td>\n",
       "      <td>1396</td>\n",
       "      <td>1228</td>\n",
       "      <td>870</td>\n",
       "      <td>1420</td>\n",
       "      <td>825</td>\n",
       "      <td>0</td>\n",
       "      <td>31</td>\n",
       "      <td>1.50</td>\n",
       "      <td>...</td>\n",
       "      <td>0.0</td>\n",
       "      <td>0.0</td>\n",
       "      <td>0.0</td>\n",
       "      <td>0.0</td>\n",
       "      <td>0.0</td>\n",
       "      <td>0.0</td>\n",
       "      <td>0.0</td>\n",
       "      <td>0.0</td>\n",
       "      <td>0.0</td>\n",
       "      <td>0.0</td>\n",
       "    </tr>\n",
       "    <tr>\n",
       "      <th>2</th>\n",
       "      <td>4931</td>\n",
       "      <td>5904</td>\n",
       "      <td>1395</td>\n",
       "      <td>1351</td>\n",
       "      <td>868</td>\n",
       "      <td>1424</td>\n",
       "      <td>836</td>\n",
       "      <td>0</td>\n",
       "      <td>31</td>\n",
       "      <td>0.00</td>\n",
       "      <td>...</td>\n",
       "      <td>0.0</td>\n",
       "      <td>0.0</td>\n",
       "      <td>0.0</td>\n",
       "      <td>0.0</td>\n",
       "      <td>0.0</td>\n",
       "      <td>0.0</td>\n",
       "      <td>0.0</td>\n",
       "      <td>0.0</td>\n",
       "      <td>0.0</td>\n",
       "      <td>0.0</td>\n",
       "    </tr>\n",
       "    <tr>\n",
       "      <th>3</th>\n",
       "      <td>4836</td>\n",
       "      <td>5879</td>\n",
       "      <td>1400</td>\n",
       "      <td>1344</td>\n",
       "      <td>837</td>\n",
       "      <td>1424</td>\n",
       "      <td>843</td>\n",
       "      <td>0</td>\n",
       "      <td>32</td>\n",
       "      <td>0.00</td>\n",
       "      <td>...</td>\n",
       "      <td>0.0</td>\n",
       "      <td>0.0</td>\n",
       "      <td>0.0</td>\n",
       "      <td>0.0</td>\n",
       "      <td>0.0</td>\n",
       "      <td>0.0</td>\n",
       "      <td>0.0</td>\n",
       "      <td>0.0</td>\n",
       "      <td>0.0</td>\n",
       "      <td>0.0</td>\n",
       "    </tr>\n",
       "    <tr>\n",
       "      <th>4</th>\n",
       "      <td>4556</td>\n",
       "      <td>5865</td>\n",
       "      <td>1398</td>\n",
       "      <td>992</td>\n",
       "      <td>868</td>\n",
       "      <td>1401</td>\n",
       "      <td>788</td>\n",
       "      <td>0</td>\n",
       "      <td>31</td>\n",
       "      <td>0.00</td>\n",
       "      <td>...</td>\n",
       "      <td>0.0</td>\n",
       "      <td>0.0</td>\n",
       "      <td>0.0</td>\n",
       "      <td>0.0</td>\n",
       "      <td>0.0</td>\n",
       "      <td>0.0</td>\n",
       "      <td>0.0</td>\n",
       "      <td>0.0</td>\n",
       "      <td>0.0</td>\n",
       "      <td>0.0</td>\n",
       "    </tr>\n",
       "  </tbody>\n",
       "</table>\n",
       "<p>5 rows × 36 columns</p>\n",
       "</div>"
      ],
      "text/plain": [
       "   consumption  production  nuclear  wind  hydroelectric  oil_gas  coal  \\\n",
       "0         5338        6223     1396  1115           1409     1434   837   \n",
       "1         5148        5775     1396  1228            870     1420   825   \n",
       "2         4931        5904     1395  1351            868     1424   836   \n",
       "3         4836        5879     1400  1344            837     1424   843   \n",
       "4         4556        5865     1398   992            868     1401   788   \n",
       "\n",
       "   solar  biomass  ckwh  ...  hour_14  hour_15  hour_16  hour_17  hour_18  \\\n",
       "0      0       31  1.07  ...      0.0      0.0      0.0      0.0      0.0   \n",
       "1      0       31  1.50  ...      0.0      0.0      0.0      0.0      0.0   \n",
       "2      0       31  0.00  ...      0.0      0.0      0.0      0.0      0.0   \n",
       "3      0       32  0.00  ...      0.0      0.0      0.0      0.0      0.0   \n",
       "4      0       31  0.00  ...      0.0      0.0      0.0      0.0      0.0   \n",
       "\n",
       "   hour_19  hour_20  hour_21  hour_22  hour_23  \n",
       "0      0.0      0.0      0.0      0.0      0.0  \n",
       "1      0.0      0.0      0.0      0.0      0.0  \n",
       "2      0.0      0.0      0.0      0.0      0.0  \n",
       "3      0.0      0.0      0.0      0.0      0.0  \n",
       "4      0.0      0.0      0.0      0.0      0.0  \n",
       "\n",
       "[5 rows x 36 columns]"
      ]
     },
     "execution_count": 40,
     "metadata": {},
     "output_type": "execute_result"
    }
   ],
   "source": [
    "# Initialize OneHotEncoder\n",
    "encoder = OneHotEncoder(sparse_output = False)\n",
    "\n",
    "# Fit and transform the 'month' and 'hour' columns\n",
    "encoded_df = encoder.fit_transform(df[['month', 'hour']])\n",
    "\n",
    "# Create a DataFrame with the encoded columns\n",
    "encoded_df = pd.DataFrame(encoded_df, columns = encoder.get_feature_names_out(['month', 'hour']))\n",
    "\n",
    "# Concatenate the original DataFrame with the encoded columns\n",
    "df = pd.concat([df, encoded_df], axis = 1)\n",
    "\n",
    "# Drop the original 'datetime', 'month', and 'hour' columns \n",
    "# Drop the baseline 'month_1' and 'hour_0' columns\n",
    "df.drop(['datetime', 'month', 'hour', 'month_1', 'hour_0'], axis = 1, errors = 'ignore', inplace = True)\n",
    "\n",
    "df.head()"
   ]
  },
  {
   "cell_type": "markdown",
   "id": "9fd3e911-28b5-4692-a7f5-3c9020b35c17",
   "metadata": {},
   "source": [
    "### Electricity Cost Prediction Models"
   ]
  },
  {
   "cell_type": "markdown",
   "id": "3a1dc482-82e2-4854-9890-2e7584c37074",
   "metadata": {
    "jp-MarkdownHeadingCollapsed": true
   },
   "source": [
    "#### Ordinary Linear Regression\n",
    "- The default model achieved an R-squared of 0.72 on the training set and 0.69 on the testing set."
   ]
  },
  {
   "cell_type": "code",
   "execution_count": 41,
   "id": "e4c148f8-7506-4a30-a51c-d7c6f2409dd9",
   "metadata": {},
   "outputs": [],
   "source": [
    "# Set X, y\n",
    "X = df.drop('ckwh', axis = 1)\n",
    "y = df['ckwh']\n",
    "\n",
    "# Split the data into training and testing sets\n",
    "X_train, X_test, y_train, y_test = train_test_split(X, y, test_size = 0.2)"
   ]
  },
  {
   "cell_type": "code",
   "execution_count": 42,
   "id": "6c3fcfb4-bffd-4afe-b93a-56ab4f83ed70",
   "metadata": {},
   "outputs": [
    {
     "name": "stdout",
     "output_type": "stream",
     "text": [
      "Baseline Model Root Mean Square Error: \n",
      "Train: 2.83 \n",
      "Test: 2.73\n",
      "Baseline Model R-squared: \n",
      "Train:0.00 \n",
      "Test: -0.00\n"
     ]
    }
   ],
   "source": [
    "# Baseline Model, predict using mean\n",
    "\n",
    "# Instantitate\n",
    "model_baseline = DummyRegressor(strategy = 'mean')\n",
    "\n",
    "# Fit\n",
    "model_baseline.fit(X_train, y_train)\n",
    "\n",
    "# Predictions\n",
    "model_baseline_y_preds_train = model_baseline.predict(X_train)\n",
    "model_baseline_y_preds_test = model_baseline.predict(X_test)\n",
    "\n",
    "# Train: RMSE, R-squared\n",
    "model_baseline_rmse_train = np.sqrt(mean_squared_error(y_train, model_baseline_y_preds_train))\n",
    "model_baseline_rsq_train = r2_score(y_train, model_baseline_y_preds_train)\n",
    "\n",
    "# Test: RMSE, R-squared\n",
    "model_baseline_rmse_test = np.sqrt(mean_squared_error(y_test, model_baseline_y_preds_test))\n",
    "model_baseline_rsq_test = r2_score(y_test, model_baseline_y_preds_test)\n",
    "\n",
    "print(f'Baseline Model Root Mean Square Error: \\nTrain: {model_baseline_rmse_train:.2f} \\nTest: {model_baseline_rmse_test:.2f}')\n",
    "print(f'Baseline Model R-squared: \\nTrain:{model_baseline_rsq_train:.2f} \\nTest: {model_baseline_rsq_test:.2f}')"
   ]
  },
  {
   "cell_type": "code",
   "execution_count": 43,
   "id": "e4637047-8704-48c6-bfc6-8e26de191d30",
   "metadata": {},
   "outputs": [
    {
     "name": "stdout",
     "output_type": "stream",
     "text": [
      "Training Data:\n",
      "Root Mean Square Error: 1.51\n",
      "R-squared: 0.72\n",
      "Adjusted R-squared: 0.71\n",
      "\n",
      "Testing Data:\n",
      "Root Mean Square Error: 1.52\n",
      "R-squared: 0.69\n",
      "Adjusted R-squared: 0.66\n"
     ]
    }
   ],
   "source": [
    "# Linear Regression\n",
    "\n",
    "# Add a constant\n",
    "X_train_lr = sm.add_constant(X_train)\n",
    "X_test_lr = sm.add_constant(X_test)\n",
    "\n",
    "# Fit\n",
    "model_lr = sm.OLS(y_train, X_train_lr).fit()\n",
    "\n",
    "# Predictions\n",
    "model_lr_y_train_preds = model_lr.predict(X_train_lr)\n",
    "model_lr_y_test_preds = model_lr.predict(X_test_lr)\n",
    "\n",
    "# Calculate RMSE for training and test data\n",
    "model_lr_train_rmse = np.sqrt(mean_squared_error(y_train, model_lr_y_train_preds))\n",
    "model_lr_test_rmse = np.sqrt(mean_squared_error(y_test, model_lr_y_test_preds))\n",
    "\n",
    "# R-squared and Adjusted R-squared for training data\n",
    "model_lr_train_rsq = model_lr.rsquared\n",
    "model_lr_train_adj = model_lr.rsquared_adj\n",
    "\n",
    "# R-squared for test data\n",
    "ss_total = np.sum((y_test - np.mean(y_test))**2)\n",
    "ss_res = np.sum((y_test - model_lr_y_test_preds)**2)\n",
    "model_lr_test_rsq = 1 - (ss_res / ss_total)\n",
    "\n",
    "# Adjusted R-squared for test data\n",
    "n_test = X_test_lr.shape[0]\n",
    "p_test = X_test_lr.shape[1] - 1  # minus 1 because of the intercept\n",
    "model_lr_test_adj = 1 - (1 - model_lr_test_rsq) * (n_test - 1) / (n_test - p_test - 1)\n",
    "\n",
    "# Print results\n",
    "print(f'Training Data:')\n",
    "print(f'Root Mean Square Error: {model_lr_train_rmse:.2f}')\n",
    "print(f'R-squared: {model_lr_train_rsq:.2f}')\n",
    "print(f'Adjusted R-squared: {model_lr_train_adj:.2f}')\n",
    "\n",
    "print(f'\\nTesting Data:')\n",
    "print(f'Root Mean Square Error: {model_lr_test_rmse:.2f}')\n",
    "print(f'R-squared: {model_lr_test_rsq:.2f}')\n",
    "print(f'Adjusted R-squared: {model_lr_test_adj:.2f}')"
   ]
  },
  {
   "cell_type": "markdown",
   "id": "734155d6-9de7-411c-a014-d1f7d1037b17",
   "metadata": {
    "jp-MarkdownHeadingCollapsed": true
   },
   "source": [
    "#### Random Forest Regressor\n",
    "- The default model achieved an R-squared of 0.97 on the training set and 0.81 on the testing set."
   ]
  },
  {
   "cell_type": "code",
   "execution_count": 44,
   "id": "2a164d9c-902c-411c-abf0-1b9546794067",
   "metadata": {},
   "outputs": [],
   "source": [
    "# Set X, y\n",
    "X = df.drop('ckwh', axis = 1)\n",
    "y = df['ckwh']\n",
    "\n",
    "# Split the data into training and testing sets\n",
    "X_train, X_test, y_train, y_test = train_test_split(X, y, test_size = 0.2)"
   ]
  },
  {
   "cell_type": "code",
   "execution_count": 45,
   "id": "f7a8d6cf-3413-4666-8018-83830db0a561",
   "metadata": {},
   "outputs": [
    {
     "name": "stdout",
     "output_type": "stream",
     "text": [
      "Training RMSE: 0.49\n",
      "Testing RMSE: 1.25\n",
      "Training R-squared: 0.97\n",
      "Testing R-squared: 0.81\n"
     ]
    }
   ],
   "source": [
    "# Instantiate\n",
    "rf = RandomForestRegressor(random_state = 42)\n",
    "\n",
    "# Fit\n",
    "rf.fit(X_train, y_train)\n",
    "\n",
    "# Predictions\n",
    "y_train_pred = rf.predict(X_train)\n",
    "y_test_pred = rf.predict(X_test)\n",
    "\n",
    "# Calculate performance metrics\n",
    "train_rmse = np.sqrt(mean_squared_error(y_train, y_train_pred))\n",
    "test_rmse = np.sqrt(mean_squared_error(y_test, y_test_pred))\n",
    "train_r2 = r2_score(y_train, y_train_pred)\n",
    "test_r2 = r2_score(y_test, y_test_pred)\n",
    "\n",
    "# Print results\n",
    "print(f'Training RMSE: {train_rmse:.2f}')\n",
    "print(f'Testing RMSE: {test_rmse:.2f}')\n",
    "print(f'Training R-squared: {train_r2:.2f}')\n",
    "print(f'Testing R-squared: {test_r2:.2f}')"
   ]
  },
  {
   "cell_type": "markdown",
   "id": "bbcf4e55-20be-486f-aa39-341c0185bcc8",
   "metadata": {
    "jp-MarkdownHeadingCollapsed": true
   },
   "source": [
    "#### Gradient Boost and AdaBoost\n",
    "- The default gradient boost model achieved an R-squared of 0.82 on the training set and 0.75 on the testing set.\n",
    "- The default Adaboost model achieved an R-squared of 0.64 on the training set and 0.61 on the testing set."
   ]
  },
  {
   "cell_type": "code",
   "execution_count": 46,
   "id": "3a1695a7-bc10-4231-a3c5-a0813ac8579c",
   "metadata": {},
   "outputs": [],
   "source": [
    "# Set X, y\n",
    "X = df.drop('ckwh', axis = 1)\n",
    "y = df['ckwh']\n",
    "\n",
    "# Split the data into training and testing sets\n",
    "X_train, X_test, y_train, y_test = train_test_split(X, y, test_size = 0.2)"
   ]
  },
  {
   "cell_type": "code",
   "execution_count": 47,
   "id": "810c20a5-dec4-4124-82ab-364d05807f63",
   "metadata": {},
   "outputs": [
    {
     "name": "stdout",
     "output_type": "stream",
     "text": [
      "Training RMSE: 1.18\n",
      "Testing RMSE: 1.42\n",
      "Training R-squared: 0.82\n",
      "Testing R-squared: 0.75\n"
     ]
    }
   ],
   "source": [
    "# Instantiate\n",
    "gbr = GradientBoostingRegressor(random_state = 42)\n",
    "\n",
    "# Fit\n",
    "gbr.fit(X_train, y_train)\n",
    "\n",
    "# Predictions\n",
    "y_train_pred = gbr.predict(X_train)\n",
    "y_test_pred = gbr.predict(X_test)\n",
    "\n",
    "# Calculate performance metrics\n",
    "train_rmse = np.sqrt(mean_squared_error(y_train, y_train_pred))\n",
    "test_rmse = np.sqrt(mean_squared_error(y_test, y_test_pred))\n",
    "train_r2 = r2_score(y_train, y_train_pred)\n",
    "test_r2 = r2_score(y_test, y_test_pred)\n",
    "\n",
    "# Print results\n",
    "print(f'Training RMSE: {train_rmse:.2f}')\n",
    "print(f'Testing RMSE: {test_rmse:.2f}')\n",
    "print(f'Training R-squared: {train_r2:.2f}')\n",
    "print(f'Testing R-squared: {test_r2:.2f}')"
   ]
  },
  {
   "cell_type": "code",
   "execution_count": 48,
   "id": "68adb076-8c7f-41c1-a9da-02fab492a4c1",
   "metadata": {},
   "outputs": [
    {
     "name": "stdout",
     "output_type": "stream",
     "text": [
      "Training RMSE: 1.68\n",
      "Testing RMSE: 1.75\n",
      "Training R-squared: 0.64\n",
      "Testing R-squared: 0.61\n"
     ]
    }
   ],
   "source": [
    "# Instantiate\n",
    "ada = AdaBoostRegressor(random_state=42, n_estimators=100, learning_rate=0.1)\n",
    "\n",
    "# Fit\n",
    "ada.fit(X_train, y_train)\n",
    "\n",
    "# Predictions\n",
    "y_train_pred = ada.predict(X_train)\n",
    "y_test_pred = ada.predict(X_test)\n",
    "\n",
    "# Calculate performance metrics\n",
    "train_rmse = np.sqrt(mean_squared_error(y_train, y_train_pred))\n",
    "test_rmse = np.sqrt(mean_squared_error(y_test, y_test_pred))\n",
    "train_r2 = r2_score(y_train, y_train_pred)\n",
    "test_r2 = r2_score(y_test, y_test_pred)\n",
    "\n",
    "# Print results\n",
    "print(f'Training RMSE: {train_rmse:.2f}')\n",
    "print(f'Testing RMSE: {test_rmse:.2f}')\n",
    "print(f'Training R-squared: {train_r2:.2f}')\n",
    "print(f'Testing R-squared: {test_r2:.2f}')"
   ]
  },
  {
   "cell_type": "markdown",
   "id": "babc2f38-5f50-4906-b201-010bcfe5bc21",
   "metadata": {},
   "source": [
    "#### XGBoost\n",
    "- The default XGBoost model achieved an R-squared of 1.00 on the training set and 0.80 on the testing set.\n",
    "- After tuning, the improved model achieves an R-squared of 1.00 on the training set and 0.83 on the testing set.\n",
    "- The top three energy-related features influencing the model are `consumption`, `oil_gas`, and `solar`."
   ]
  },
  {
   "cell_type": "code",
   "execution_count": 49,
   "id": "3908bfb7-9cbe-4729-9877-ecb8de49af9e",
   "metadata": {},
   "outputs": [],
   "source": [
    "# Set X, y\n",
    "X = df.drop('ckwh', axis = 1)\n",
    "y = df['ckwh']\n",
    "\n",
    "# Split the data into training and testing sets\n",
    "X_train, X_test, y_train, y_test = train_test_split(X, y, test_size = 0.2)"
   ]
  },
  {
   "cell_type": "code",
   "execution_count": 50,
   "id": "e811ca59-888f-4966-8f91-b578631be4c6",
   "metadata": {},
   "outputs": [
    {
     "name": "stdout",
     "output_type": "stream",
     "text": [
      "Training RMSE: 0.16\n",
      "Testing RMSE: 1.26\n",
      "Training R-squared: 1.00\n",
      "Testing R-squared: 0.77\n"
     ]
    }
   ],
   "source": [
    "# Instantiate\n",
    "xgbr = xgb.XGBRegressor(random_state=42)\n",
    "\n",
    "# Fit\n",
    "xgbr.fit(X_train, y_train)\n",
    "\n",
    "# Predictions\n",
    "y_train_pred = xgbr.predict(X_train)\n",
    "y_test_pred = xgbr.predict(X_test)\n",
    "\n",
    "# Calculate performance metrics\n",
    "train_rmse = np.sqrt(mean_squared_error(y_train, y_train_pred))\n",
    "test_rmse = np.sqrt(mean_squared_error(y_test, y_test_pred))\n",
    "train_r2 = r2_score(y_train, y_train_pred)\n",
    "test_r2 = r2_score(y_test, y_test_pred)\n",
    "\n",
    "# Print results\n",
    "print(f'Training RMSE: {train_rmse:.2f}')\n",
    "print(f'Testing RMSE: {test_rmse:.2f}')\n",
    "print(f'Training R-squared: {train_r2:.2f}')\n",
    "print(f'Testing R-squared: {test_r2:.2f}')\n"
   ]
  },
  {
   "cell_type": "code",
   "execution_count": 51,
   "id": "7376a132-af83-4a62-a88e-737598843ed2",
   "metadata": {},
   "outputs": [
    {
     "name": "stdout",
     "output_type": "stream",
     "text": [
      "Fitting 5 folds for each of 11664 candidates, totalling 58320 fits\n",
      "Best Parameters: {'colsample_bytree': 0.9, 'learning_rate': 0.05, 'max_depth': 5, 'min_child_weight': 1, 'n_estimators': 3000, 'reg_alpha': 0, 'reg_lambda': 2, 'subsample': 0.8}\n",
      "Best Cross-Validation Score: 0.81\n",
      "Training RMSE: 0.01\n",
      "Testing RMSE: 1.10\n",
      "Training R-squared: 1.00\n",
      "Testing R-squared: 0.83\n"
     ]
    }
   ],
   "source": [
    "# Tuning via GridSearchCV\n",
    "# Define the parameter grid\n",
    "param_grid = {\n",
    "    'n_estimators': [500, 1000, 2000, 3000]\n",
    "    , 'learning_rate': [0.01, 0.05, 0.1]\n",
    "    , 'max_depth': [2, 3, 4, 5]\n",
    "    , 'min_child_weight': [1, 3, 5]\n",
    "    , 'subsample': [0.8, 0.9, 1]\n",
    "    , 'colsample_bytree': [0.8, 0.9, 1]\n",
    "    , 'reg_alpha': [0, 0.01, 0.1]\n",
    "    , 'reg_lambda': [1, 1.5, 2]\n",
    "}\n",
    "\n",
    "# Instantiate\n",
    "xgbr = xgb.XGBRegressor(random_state = 42)\n",
    "\n",
    "# Set up the GridSearchCV\n",
    "grid_search = GridSearchCV(estimator = xgbr\n",
    "                           , param_grid = param_grid\n",
    "                           , cv=5\n",
    "                           , scoring='r2'\n",
    "                           , n_jobs = -1\n",
    "                           , verbose = 2\n",
    "                          )\n",
    "\n",
    "# Fit the GridSearchCV\n",
    "grid_search.fit(X_train, y_train)\n",
    "\n",
    "# Get the best parameters and best score\n",
    "best_params = grid_search.best_params_\n",
    "best_score = grid_search.best_score_\n",
    "\n",
    "# Print the results\n",
    "print(f'Best Parameters: {best_params}')\n",
    "print(f'Best Cross-Validation Score: {best_score:.2f}')\n",
    "\n",
    "# Train the XGBoost model with the best parameters\n",
    "best_xgbr = grid_search.best_estimator_\n",
    "best_xgbr.fit(X_train, y_train)\n",
    "\n",
    "# Predictions\n",
    "y_train_pred = best_xgbr.predict(X_train)\n",
    "y_test_pred = best_xgbr.predict(X_test)\n",
    "\n",
    "# Calculate performance metrics\n",
    "train_rmse = np.sqrt(mean_squared_error(y_train, y_train_pred))\n",
    "test_rmse = np.sqrt(mean_squared_error(y_test, y_test_pred))\n",
    "train_r2 = r2_score(y_train, y_train_pred)\n",
    "test_r2 = r2_score(y_test, y_test_pred)\n",
    "\n",
    "# Print results\n",
    "print(f'Training RMSE: {train_rmse:.2f}')\n",
    "print(f'Testing RMSE: {test_rmse:.2f}')\n",
    "print(f'Training R-squared: {train_r2:.2f}')\n",
    "print(f'Testing R-squared: {test_r2:.2f}')"
   ]
  },
  {
   "cell_type": "code",
   "execution_count": 52,
   "id": "56e36ee1-0cac-4352-ba99-7429a7f51875",
   "metadata": {},
   "outputs": [],
   "source": [
    "importances = best_xgbr.feature_importances_\n",
    "# importances"
   ]
  },
  {
   "cell_type": "code",
   "execution_count": 53,
   "id": "dc0ddc8f-c6ea-41d6-87d1-101b98fec341",
   "metadata": {},
   "outputs": [
    {
     "data": {
      "image/png": "[encoded data removed]",
      "text/plain": [
       "<Figure size 1600x600 with 1 Axes>"
      ]
     },
     "metadata": {},
     "output_type": "display_data"
    }
   ],
   "source": [
    "feature_names = X_train.columns\n",
    "\n",
    "# Plot feature importances\n",
    "plt.figure(figsize=(16, 6))\n",
    "indices = np.argsort(importances)\n",
    "plt.barh(range(len(importances)), importances[indices], align = 'center')\n",
    "plt.yticks(range(len(importances)), feature_names[indices])\n",
    "plt.xlabel('Feature Importance')\n",
    "plt.ylabel('Feature')\n",
    "plt.title('Feature Importance from Gradient Boosting Model')\n",
    "# Adjust layout\n",
    "plt.tight_layout()\n",
    "# Save\n",
    "plt.savefig('../image/gb_importances2.png', dpi = 300, bbox_inches = 'tight')\n",
    "# Show the plot\n",
    "plt.show();"
   ]
  },
  {
   "cell_type": "code",
   "execution_count": 54,
   "id": "0746e2ab-9cf4-454d-9796-a04e22d8cc9c",
   "metadata": {},
   "outputs": [
    {
     "name": "stdout",
     "output_type": "stream",
     "text": [
      "Model saved to ../model/electricity_cost.pkl\n"
     ]
    }
   ],
   "source": [
    "# Save the best model\n",
    "best_model = best_xgbr\n",
    "filename = '../model/electricity_cost.pkl'\n",
    "\n",
    "with open(filename, 'wb') as file:\n",
    "    pickle.dump(best_model, file)\n",
    "    \n",
    "print(f'Model saved to {filename}')"
   ]
  }
 ],
 "metadata": {
  "kernelspec": {
   "display_name": "Python 3 (ipykernel)",
   "language": "python",
   "name": "python3"
  },
  "language_info": {
   "codemirror_mode": {
    "name": "ipython",
    "version": 3
   },
   "file_extension": ".py",
   "mimetype": "text/x-python",
   "name": "python",
   "nbconvert_exporter": "python",
   "pygments_lexer": "ipython3",
   "version": "3.12.4"
  }
 },
 "nbformat": 4,
 "nbformat_minor": 5
}
