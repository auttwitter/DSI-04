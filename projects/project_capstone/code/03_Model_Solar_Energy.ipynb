{
 "cells": [
  {
   "cell_type": "markdown",
   "id": "3e97a865-b046-4707-b93d-a5e3ff93156f",
   "metadata": {},
   "source": [
    "# ![](https://ga-dash.s3.amazonaws.com/production/assets/logo-9f88ae6c9c3871690e33280fcf557f33.png)"
   ]
  },
  {
   "cell_type": "markdown",
   "id": "6984a866-17e0-42be-bf88-a5ca125f2b03",
   "metadata": {},
   "source": [
    "##  Project Capstone"
   ]
  },
  {
   "cell_type": "markdown",
   "id": "8358345f-c37d-415a-90e1-4328a195d4b3",
   "metadata": {},
   "source": [
    "### Reducing Electricity Costs in Romania: Predictive and Reinforcement Learning for Solar Battery Optimization"
   ]
  },
  {
   "cell_type": "markdown",
   "id": "76daf9f3-199d-4e0b-936b-c7699cb25799",
   "metadata": {},
   "source": [
    "---\n",
    "\n",
    "[README](../README.md) | [Part 1: Cleaning](01_Cleaning.ipynb) | [Part 2: EDA](02_EDA.ipynb) | **Part 3: Solar Energy Prediction Models** | [Part 4: Electricity Cost Prediction Models](04_Model_Electricity_Cost.ipynb) | [Part 5: Electricity Cost Prediction Using Time Series Models](05_Model_Electricity_Cost_ts.ipynb) | [Part 6: Solar Battery Optimization](06_Reinforcement_Learning.ipynb)\n",
    "\n",
    "---"
   ]
  },
  {
   "cell_type": "markdown",
   "id": "0c4282f9-4f19-4503-a91e-7c1ea1280db3",
   "metadata": {},
   "source": [
    "### Introduction\n",
    "- In this section, various models will be developed to predict solar energy from weather conditions using different types of algorithms.\n",
    "- The results will then be compared based on the R-squared metric."
   ]
  },
  {
   "cell_type": "markdown",
   "id": "0fb62d2b-3ac8-4f80-a40f-5d084a105431",
   "metadata": {},
   "source": [
    "### Import and Preprocessing"
   ]
  },
  {
   "cell_type": "markdown",
   "id": "4b746984-f5aa-432c-a216-115178779127",
   "metadata": {},
   "source": [
    "#### Essential Libraries"
   ]
  },
  {
   "cell_type": "code",
   "execution_count": 1,
   "id": "ea0127c7-084b-423d-b785-1ff183571474",
   "metadata": {},
   "outputs": [],
   "source": [
    "import pandas as pd\n",
    "import numpy as np\n",
    "import matplotlib.pyplot as plt\n",
    "import seaborn as sns\n",
    "import pickle\n",
    "\n",
    "from sklearn.preprocessing import StandardScaler, OneHotEncoder\n",
    "from sklearn.model_selection import train_test_split, GridSearchCV\n",
    "from sklearn.dummy import DummyRegressor\n",
    "from sklearn.metrics import mean_squared_error, r2_score\n",
    "from sklearn.ensemble import RandomForestRegressor, GradientBoostingRegressor\n",
    "\n",
    "import statsmodels.api as sm\n",
    "from statsmodels.stats.outliers_influence import variance_inflation_factor\n",
    "\n",
    "np.random.seed(42)"
   ]
  },
  {
   "cell_type": "markdown",
   "id": "b57d80ea-d92a-4dcd-85a5-70c06937250b",
   "metadata": {},
   "source": [
    "#### Import Data"
   ]
  },
  {
   "cell_type": "code",
   "execution_count": 2,
   "id": "15b7cc3b-051b-488c-bb03-ccf29bbc38cc",
   "metadata": {},
   "outputs": [],
   "source": [
    "df = pd.read_csv('../data/cleaned/electricity_romania.csv')       # Import\n",
    "df['datetime'] = pd.to_datetime(df['datetime'])                   # Formatting `datetime`\n",
    "df['month'] = df['datetime'].dt.month                             # Extract month\n",
    "df['hour'] = df['datetime'].dt.hour                               # Extract hour"
   ]
  },
  {
   "cell_type": "code",
   "execution_count": 3,
   "id": "ab9d1d47-4064-4413-99e9-4f1993d530e5",
   "metadata": {},
   "outputs": [
    {
     "data": {
      "text/html": [
       "<div>\n",
       "<style scoped>\n",
       "    .dataframe tbody tr th:only-of-type {\n",
       "        vertical-align: middle;\n",
       "    }\n",
       "\n",
       "    .dataframe tbody tr th {\n",
       "        vertical-align: top;\n",
       "    }\n",
       "\n",
       "    .dataframe thead th {\n",
       "        text-align: right;\n",
       "    }\n",
       "</style>\n",
       "<table border=\"1\" class=\"dataframe\">\n",
       "  <thead>\n",
       "    <tr style=\"text-align: right;\">\n",
       "      <th></th>\n",
       "      <th>datetime</th>\n",
       "      <th>temp</th>\n",
       "      <th>feelslike</th>\n",
       "      <th>dew</th>\n",
       "      <th>humidity</th>\n",
       "      <th>windgust</th>\n",
       "      <th>windspeed</th>\n",
       "      <th>winddir</th>\n",
       "      <th>sealevelpressure</th>\n",
       "      <th>cloudcover</th>\n",
       "      <th>...</th>\n",
       "      <th>production</th>\n",
       "      <th>nuclear</th>\n",
       "      <th>wind</th>\n",
       "      <th>hydroelectric</th>\n",
       "      <th>oil_gas</th>\n",
       "      <th>coal</th>\n",
       "      <th>solar</th>\n",
       "      <th>biomass</th>\n",
       "      <th>month</th>\n",
       "      <th>hour</th>\n",
       "    </tr>\n",
       "  </thead>\n",
       "  <tbody>\n",
       "    <tr>\n",
       "      <th>0</th>\n",
       "      <td>2024-01-01</td>\n",
       "      <td>3.4</td>\n",
       "      <td>3.4</td>\n",
       "      <td>2.9</td>\n",
       "      <td>96.47</td>\n",
       "      <td>6.1</td>\n",
       "      <td>3.7</td>\n",
       "      <td>19.0</td>\n",
       "      <td>1018.1</td>\n",
       "      <td>0.0</td>\n",
       "      <td>...</td>\n",
       "      <td>6223</td>\n",
       "      <td>1396</td>\n",
       "      <td>1115</td>\n",
       "      <td>1409</td>\n",
       "      <td>1434</td>\n",
       "      <td>837</td>\n",
       "      <td>0</td>\n",
       "      <td>31</td>\n",
       "      <td>1</td>\n",
       "      <td>0</td>\n",
       "    </tr>\n",
       "  </tbody>\n",
       "</table>\n",
       "<p>1 rows × 30 columns</p>\n",
       "</div>"
      ],
      "text/plain": [
       "    datetime  temp  feelslike  dew  humidity  windgust  windspeed  winddir  \\\n",
       "0 2024-01-01   3.4        3.4  2.9     96.47       6.1        3.7     19.0   \n",
       "\n",
       "   sealevelpressure  cloudcover  ...  production  nuclear  wind  \\\n",
       "0            1018.1         0.0  ...        6223     1396  1115   \n",
       "\n",
       "   hydroelectric  oil_gas  coal  solar  biomass  month  hour  \n",
       "0           1409     1434   837      0       31      1     0  \n",
       "\n",
       "[1 rows x 30 columns]"
      ]
     },
     "execution_count": 3,
     "metadata": {},
     "output_type": "execute_result"
    }
   ],
   "source": [
    "df.head(1)"
   ]
  },
  {
   "cell_type": "code",
   "execution_count": 4,
   "id": "aa2f3b4b-0b16-4cb7-b6c6-aeb9c7855966",
   "metadata": {},
   "outputs": [
    {
     "data": {
      "text/plain": [
       "Index(['datetime', 'temp', 'feelslike', 'dew', 'humidity', 'windgust',\n",
       "       'windspeed', 'winddir', 'sealevelpressure', 'cloudcover', 'visibility',\n",
       "       'has_snow', 'has_solarradiation', 'icon_cloudy', 'icon_fog',\n",
       "       'icon_partly_cloudy', 'icon_rain', 'icon_snow', 'ckwh', 'consumption',\n",
       "       'production', 'nuclear', 'wind', 'hydroelectric', 'oil_gas', 'coal',\n",
       "       'solar', 'biomass', 'month', 'hour'],\n",
       "      dtype='object')"
      ]
     },
     "execution_count": 4,
     "metadata": {},
     "output_type": "execute_result"
    }
   ],
   "source": [
    "df.columns"
   ]
  },
  {
   "cell_type": "code",
   "execution_count": 5,
   "id": "b37a19fc-e5ae-4fa9-a8c5-ae8e25e4ef8b",
   "metadata": {},
   "outputs": [],
   "source": [
    "df = df[['datetime'\n",
    "         , 'temp'\n",
    "         , 'feelslike'\n",
    "         , 'dew'\n",
    "         , 'humidity'\n",
    "         , 'windgust'\n",
    "         , 'windspeed'\n",
    "         , 'winddir'\n",
    "         , 'sealevelpressure'\n",
    "         , 'cloudcover'\n",
    "         , 'visibility'\n",
    "         , 'has_snow'\n",
    "         , 'has_solarradiation'\n",
    "         , 'icon_cloudy'\n",
    "         , 'icon_fog'\n",
    "         , 'icon_partly_cloudy'\n",
    "         , 'icon_rain'\n",
    "         , 'icon_snow'\n",
    "         , 'month'\n",
    "         , 'hour'\n",
    "         , 'solar'\n",
    "        ]]"
   ]
  },
  {
   "cell_type": "code",
   "execution_count": 6,
   "id": "6156c11b-a852-472b-99a5-0323eea0e2d8",
   "metadata": {},
   "outputs": [],
   "source": [
    "# Filter df to include only hours between 8 and 17\n",
    "df = df[(df['hour'] >= 8) & (df['hour'] <= 17)].reset_index(drop=True)"
   ]
  },
  {
   "cell_type": "markdown",
   "id": "59d19c60-0373-4e0d-830a-16ae694f6432",
   "metadata": {},
   "source": [
    "#### Preprocessing\n",
    "- Convert `month` and `hour` using `OneHotEncoder`, and drop January and 8 AM as the baseline."
   ]
  },
  {
   "cell_type": "code",
   "execution_count": 7,
   "id": "301d3c68-1f80-4f13-8d2d-a323e153b483",
   "metadata": {},
   "outputs": [
    {
     "data": {
      "text/html": [
       "<div>\n",
       "<style scoped>\n",
       "    .dataframe tbody tr th:only-of-type {\n",
       "        vertical-align: middle;\n",
       "    }\n",
       "\n",
       "    .dataframe tbody tr th {\n",
       "        vertical-align: top;\n",
       "    }\n",
       "\n",
       "    .dataframe thead th {\n",
       "        text-align: right;\n",
       "    }\n",
       "</style>\n",
       "<table border=\"1\" class=\"dataframe\">\n",
       "  <thead>\n",
       "    <tr style=\"text-align: right;\">\n",
       "      <th></th>\n",
       "      <th>temp</th>\n",
       "      <th>feelslike</th>\n",
       "      <th>dew</th>\n",
       "      <th>humidity</th>\n",
       "      <th>windgust</th>\n",
       "      <th>windspeed</th>\n",
       "      <th>winddir</th>\n",
       "      <th>sealevelpressure</th>\n",
       "      <th>cloudcover</th>\n",
       "      <th>visibility</th>\n",
       "      <th>...</th>\n",
       "      <th>month_3</th>\n",
       "      <th>hour_9</th>\n",
       "      <th>hour_10</th>\n",
       "      <th>hour_11</th>\n",
       "      <th>hour_12</th>\n",
       "      <th>hour_13</th>\n",
       "      <th>hour_14</th>\n",
       "      <th>hour_15</th>\n",
       "      <th>hour_16</th>\n",
       "      <th>hour_17</th>\n",
       "    </tr>\n",
       "  </thead>\n",
       "  <tbody>\n",
       "    <tr>\n",
       "      <th>0</th>\n",
       "      <td>0.3</td>\n",
       "      <td>0.3</td>\n",
       "      <td>-0.2</td>\n",
       "      <td>96.98</td>\n",
       "      <td>5.0</td>\n",
       "      <td>3.6</td>\n",
       "      <td>355.0</td>\n",
       "      <td>1015.5</td>\n",
       "      <td>3.5</td>\n",
       "      <td>1.6</td>\n",
       "      <td>...</td>\n",
       "      <td>0.0</td>\n",
       "      <td>0.0</td>\n",
       "      <td>0.0</td>\n",
       "      <td>0.0</td>\n",
       "      <td>0.0</td>\n",
       "      <td>0.0</td>\n",
       "      <td>0.0</td>\n",
       "      <td>0.0</td>\n",
       "      <td>0.0</td>\n",
       "      <td>0.0</td>\n",
       "    </tr>\n",
       "    <tr>\n",
       "      <th>1</th>\n",
       "      <td>0.4</td>\n",
       "      <td>0.4</td>\n",
       "      <td>-0.1</td>\n",
       "      <td>96.41</td>\n",
       "      <td>9.0</td>\n",
       "      <td>3.3</td>\n",
       "      <td>210.0</td>\n",
       "      <td>1015.6</td>\n",
       "      <td>17.0</td>\n",
       "      <td>2.5</td>\n",
       "      <td>...</td>\n",
       "      <td>0.0</td>\n",
       "      <td>1.0</td>\n",
       "      <td>0.0</td>\n",
       "      <td>0.0</td>\n",
       "      <td>0.0</td>\n",
       "      <td>0.0</td>\n",
       "      <td>0.0</td>\n",
       "      <td>0.0</td>\n",
       "      <td>0.0</td>\n",
       "      <td>0.0</td>\n",
       "    </tr>\n",
       "    <tr>\n",
       "      <th>2</th>\n",
       "      <td>1.8</td>\n",
       "      <td>1.8</td>\n",
       "      <td>0.7</td>\n",
       "      <td>92.13</td>\n",
       "      <td>10.1</td>\n",
       "      <td>3.8</td>\n",
       "      <td>212.0</td>\n",
       "      <td>1015.4</td>\n",
       "      <td>38.5</td>\n",
       "      <td>3.5</td>\n",
       "      <td>...</td>\n",
       "      <td>0.0</td>\n",
       "      <td>0.0</td>\n",
       "      <td>1.0</td>\n",
       "      <td>0.0</td>\n",
       "      <td>0.0</td>\n",
       "      <td>0.0</td>\n",
       "      <td>0.0</td>\n",
       "      <td>0.0</td>\n",
       "      <td>0.0</td>\n",
       "      <td>0.0</td>\n",
       "    </tr>\n",
       "    <tr>\n",
       "      <th>3</th>\n",
       "      <td>5.1</td>\n",
       "      <td>5.1</td>\n",
       "      <td>1.6</td>\n",
       "      <td>78.28</td>\n",
       "      <td>11.2</td>\n",
       "      <td>3.9</td>\n",
       "      <td>212.0</td>\n",
       "      <td>1015.1</td>\n",
       "      <td>29.2</td>\n",
       "      <td>5.4</td>\n",
       "      <td>...</td>\n",
       "      <td>0.0</td>\n",
       "      <td>0.0</td>\n",
       "      <td>0.0</td>\n",
       "      <td>1.0</td>\n",
       "      <td>0.0</td>\n",
       "      <td>0.0</td>\n",
       "      <td>0.0</td>\n",
       "      <td>0.0</td>\n",
       "      <td>0.0</td>\n",
       "      <td>0.0</td>\n",
       "    </tr>\n",
       "    <tr>\n",
       "      <th>4</th>\n",
       "      <td>8.2</td>\n",
       "      <td>7.0</td>\n",
       "      <td>2.8</td>\n",
       "      <td>69.15</td>\n",
       "      <td>16.6</td>\n",
       "      <td>7.2</td>\n",
       "      <td>232.0</td>\n",
       "      <td>1014.4</td>\n",
       "      <td>17.3</td>\n",
       "      <td>10.2</td>\n",
       "      <td>...</td>\n",
       "      <td>0.0</td>\n",
       "      <td>0.0</td>\n",
       "      <td>0.0</td>\n",
       "      <td>0.0</td>\n",
       "      <td>1.0</td>\n",
       "      <td>0.0</td>\n",
       "      <td>0.0</td>\n",
       "      <td>0.0</td>\n",
       "      <td>0.0</td>\n",
       "      <td>0.0</td>\n",
       "    </tr>\n",
       "  </tbody>\n",
       "</table>\n",
       "<p>5 rows × 29 columns</p>\n",
       "</div>"
      ],
      "text/plain": [
       "   temp  feelslike  dew  humidity  windgust  windspeed  winddir  \\\n",
       "0   0.3        0.3 -0.2     96.98       5.0        3.6    355.0   \n",
       "1   0.4        0.4 -0.1     96.41       9.0        3.3    210.0   \n",
       "2   1.8        1.8  0.7     92.13      10.1        3.8    212.0   \n",
       "3   5.1        5.1  1.6     78.28      11.2        3.9    212.0   \n",
       "4   8.2        7.0  2.8     69.15      16.6        7.2    232.0   \n",
       "\n",
       "   sealevelpressure  cloudcover  visibility  ...  month_3  hour_9  hour_10  \\\n",
       "0            1015.5         3.5         1.6  ...      0.0     0.0      0.0   \n",
       "1            1015.6        17.0         2.5  ...      0.0     1.0      0.0   \n",
       "2            1015.4        38.5         3.5  ...      0.0     0.0      1.0   \n",
       "3            1015.1        29.2         5.4  ...      0.0     0.0      0.0   \n",
       "4            1014.4        17.3        10.2  ...      0.0     0.0      0.0   \n",
       "\n",
       "   hour_11  hour_12  hour_13  hour_14  hour_15  hour_16  hour_17  \n",
       "0      0.0      0.0      0.0      0.0      0.0      0.0      0.0  \n",
       "1      0.0      0.0      0.0      0.0      0.0      0.0      0.0  \n",
       "2      0.0      0.0      0.0      0.0      0.0      0.0      0.0  \n",
       "3      1.0      0.0      0.0      0.0      0.0      0.0      0.0  \n",
       "4      0.0      1.0      0.0      0.0      0.0      0.0      0.0  \n",
       "\n",
       "[5 rows x 29 columns]"
      ]
     },
     "execution_count": 7,
     "metadata": {},
     "output_type": "execute_result"
    }
   ],
   "source": [
    "# Initialize OneHotEncoder\n",
    "encoder = OneHotEncoder(sparse_output = False)\n",
    "\n",
    "# Fit and transform the 'month' and 'hour' columns\n",
    "encoded_df = encoder.fit_transform(df[['month', 'hour']])\n",
    "\n",
    "# Create a DataFrame with the encoded columns\n",
    "encoded_df = pd.DataFrame(encoded_df, columns = encoder.get_feature_names_out(['month', 'hour']))\n",
    "\n",
    "# Concatenate the original DataFrame with the encoded columns\n",
    "df = pd.concat([df, encoded_df], axis = 1)\n",
    "\n",
    "# Drop the original 'datetime', 'month', and 'hour' columns \n",
    "# Drop the baseline 'month_1' and 'hour_8' columns\n",
    "df.drop(['datetime', 'month', 'hour', 'month_1', 'hour_8'], axis = 1, errors = 'ignore', inplace = True)\n",
    "\n",
    "df.head()"
   ]
  },
  {
   "cell_type": "markdown",
   "id": "42000dec-0cba-4bff-938e-c0edd9b39b09",
   "metadata": {},
   "source": [
    "### Solar Energy Prediction Models\n",
    "- Three algorithms were implemented: ordinary linear regression, random forest regressor, and the best performer, gradient boost.\n",
    "- After tuning, the improved gradient boost model achieved an R-squared of 1.00 on the training set and 0.90 on the testing set.\n",
    "- The top three weather-related features influencing the model are `cloudcover`, `humidity`, and `has_solarradiation`.\n",
    "- In fact, the ordinary linear regression model constructed has a balanced R-squared with no overfitting, achieving 0.72 on the training set and 0.69 on the testing set. However, the scores can be improved using another model, even if it introduces a slight defree of overfitting."
   ]
  },
  {
   "cell_type": "markdown",
   "id": "547aaab7-1a39-4731-a6ed-48abcf3e4069",
   "metadata": {
    "jp-MarkdownHeadingCollapsed": true
   },
   "source": [
    "#### Ordinary Linear Regression\n",
    "- Using the dependent variable `solar`, **Variable Inflation Factor (VIF)** was applied to remove variables with a VIF greater that 5.\n",
    "- Linear regression was then run repeatedly, removing non-significant variables until non remained. This process concluded after two iterations.\n",
    "- The final model has an R-squared of 0.72 on the training set and 0.69 on the testing set.\n",
    "- According to the model, in clear weather at 8 AM in January, the solar power generated is approximately 203 megawatts per hour. This value varies by hour and month. The major factor affecting solar power generation is the weather condition. For instance cloudy or rainy weather significantly reduces solar power output around 257 to 290 megawatts per hour."
   ]
  },
  {
   "cell_type": "code",
   "execution_count": 8,
   "id": "de799890-3444-4a96-989e-5de18b141013",
   "metadata": {},
   "outputs": [],
   "source": [
    "# Set X, y\n",
    "X = df.drop('solar', axis = 1)\n",
    "y = df['solar']\n",
    "\n",
    "# Split the data into training and testing sets\n",
    "X_train, X_test, y_train, y_test = train_test_split(X, y, test_size = 0.2)"
   ]
  },
  {
   "cell_type": "code",
   "execution_count": 9,
   "id": "8093d1e8-d1e7-4063-9d1d-eb92102ef080",
   "metadata": {},
   "outputs": [
    {
     "name": "stdout",
     "output_type": "stream",
     "text": [
      "Dropping variable 'sealevelpressure' with VIF: 1519.87\n",
      "Dropping variable 'temp' with VIF: 260.52\n",
      "Dropping variable 'cloudcover' with VIF: 28.99\n",
      "Dropping variable 'humidity' with VIF: 23.33\n",
      "Dropping variable 'windgust' with VIF: 17.50\n",
      "Dropping variable 'feelslike' with VIF: 12.09\n",
      "Dropping variable 'visibility' with VIF: 8.86\n",
      "Dropping variable 'has_solarradiation' with VIF: 5.04\n",
      "\n",
      "Final VIF DataFrame:\n",
      "              Variable       VIF\n",
      "0                  dew  2.067941\n",
      "1            windspeed  3.908198\n",
      "2              winddir  4.647534\n",
      "3             has_snow  1.832943\n",
      "4          icon_cloudy  3.575001\n",
      "5             icon_fog  1.029261\n",
      "6   icon_partly_cloudy  3.596222\n",
      "7            icon_rain  1.296393\n",
      "8            icon_snow  1.165288\n",
      "9              month_2  2.727438\n",
      "10             month_3  2.834017\n",
      "11              hour_9  1.873858\n",
      "12             hour_10  1.959988\n",
      "13             hour_11  1.868399\n",
      "14             hour_12  1.913677\n",
      "15             hour_13  1.971940\n",
      "16             hour_14  1.879093\n",
      "17             hour_15  1.963718\n",
      "18             hour_16  1.925055\n",
      "19             hour_17  1.896611\n"
     ]
    }
   ],
   "source": [
    "# Function to calculate VIF\n",
    "def calculate_vif(X):\n",
    "    vif = pd.DataFrame()\n",
    "    vif['Variable'] = X.columns\n",
    "    vif['VIF'] = [variance_inflation_factor(X.values, i) for i in range(X.shape[1])]\n",
    "    return vif\n",
    "\n",
    "vif_df = calculate_vif(X_train)\n",
    "\n",
    "while vif_df['VIF'].max() > 5:\n",
    "    # Identify the variable with the highest VIF\n",
    "    highest_vif_variable = vif_df.loc[vif_df['VIF'].idxmax(), 'Variable']\n",
    "    highest_vif_value = vif_df.loc[vif_df['VIF'].idxmax(), 'VIF']\n",
    "    \n",
    "    # Print the variable being dropped and its VIF value\n",
    "    print(f\"Dropping variable '{highest_vif_variable}' with VIF: {highest_vif_value:.2f}\")\n",
    "    \n",
    "    # Drop the variable\n",
    "    X_train = X_train.drop(columns=[highest_vif_variable])\n",
    "    X_test = X_test.drop(columns=[highest_vif_variable])\n",
    "    \n",
    "    # Recalculate VIF\n",
    "    vif_df = calculate_vif(X_train)\n",
    "    \n",
    "# Display the final VIF DataFrame\n",
    "print(\"\\nFinal VIF DataFrame:\")\n",
    "print(vif_df)"
   ]
  },
  {
   "cell_type": "code",
   "execution_count": 10,
   "id": "4a7d316c-1c19-44d6-be21-1d339ee49f97",
   "metadata": {},
   "outputs": [
    {
     "name": "stdout",
     "output_type": "stream",
     "text": [
      "Baseline Model Root Mean Square Error: \n",
      "Train: 271.63 \n",
      "Test: 278.92\n",
      "Baseline Model R-squared: \n",
      "Train:0.00 \n",
      "Test: -0.00\n"
     ]
    }
   ],
   "source": [
    "# Baseline Model, predict using mean\n",
    "\n",
    "# Instantitate\n",
    "model_baseline = DummyRegressor(strategy = 'mean')\n",
    "\n",
    "# Fit\n",
    "model_baseline.fit(X_train, y_train)\n",
    "\n",
    "# Predictions\n",
    "model_baseline_y_preds_train = model_baseline.predict(X_train)\n",
    "model_baseline_y_preds_test = model_baseline.predict(X_test)\n",
    "\n",
    "# Train: RMSE, R-squared\n",
    "model_baseline_rmse_train = np.sqrt(mean_squared_error(y_train, model_baseline_y_preds_train))\n",
    "model_baseline_rsq_train = r2_score(y_train, model_baseline_y_preds_train)\n",
    "\n",
    "# Test: RMSE, R-squared\n",
    "model_baseline_rmse_test = np.sqrt(mean_squared_error(y_test, model_baseline_y_preds_test))\n",
    "model_baseline_rsq_test = r2_score(y_test, model_baseline_y_preds_test)\n",
    "\n",
    "print(f'Baseline Model Root Mean Square Error: \\nTrain: {model_baseline_rmse_train:.2f} \\nTest: {model_baseline_rmse_test:.2f}')\n",
    "print(f'Baseline Model R-squared: \\nTrain:{model_baseline_rsq_train:.2f} \\nTest: {model_baseline_rsq_test:.2f}')"
   ]
  },
  {
   "cell_type": "code",
   "execution_count": 11,
   "id": "e90fc613-ccda-45d6-ac95-bc173b3cc854",
   "metadata": {},
   "outputs": [
    {
     "name": "stdout",
     "output_type": "stream",
     "text": [
      "Training Data:\n",
      "Root Mean Square Error: 142.98\n",
      "R-squared: 0.72\n",
      "Adjusted R-squared: 0.72\n",
      "\n",
      "Testing Data:\n",
      "Root Mean Square Error: 154.92\n",
      "R-squared: 0.69\n",
      "Adjusted R-squared: 0.65\n"
     ]
    }
   ],
   "source": [
    "# Linear Regression\n",
    "\n",
    "# Add a constant\n",
    "X_train_lr = sm.add_constant(X_train)\n",
    "X_test_lr = sm.add_constant(X_test)\n",
    "\n",
    "# Fit\n",
    "model_lr = sm.OLS(y_train, X_train_lr).fit()\n",
    "\n",
    "# Predictions\n",
    "model_lr_y_train_preds = model_lr.predict(X_train_lr)\n",
    "model_lr_y_test_preds = model_lr.predict(X_test_lr)\n",
    "\n",
    "# Calculate RMSE for training and test data\n",
    "model_lr_train_rmse = np.sqrt(mean_squared_error(y_train, model_lr_y_train_preds))\n",
    "model_lr_test_rmse = np.sqrt(mean_squared_error(y_test, model_lr_y_test_preds))\n",
    "\n",
    "# R-squared and Adjusted R-squared for training data\n",
    "model_lr_train_rsq = model_lr.rsquared\n",
    "model_lr_train_adj = model_lr.rsquared_adj\n",
    "\n",
    "# R-squared for test data\n",
    "ss_total = np.sum((y_test - np.mean(y_test))**2)\n",
    "ss_res = np.sum((y_test - model_lr_y_test_preds)**2)\n",
    "model_lr_test_rsq = 1 - (ss_res / ss_total)\n",
    "\n",
    "# Adjusted R-squared for test data\n",
    "n_test = X_test_lr.shape[0]\n",
    "p_test = X_test_lr.shape[1] - 1  # minus 1 because of the intercept\n",
    "model_lr_test_adj = 1 - (1 - model_lr_test_rsq) * (n_test - 1) / (n_test - p_test - 1)\n",
    "\n",
    "# Print results\n",
    "print(f'Training Data:')\n",
    "print(f'Root Mean Square Error: {model_lr_train_rmse:.2f}')\n",
    "print(f'R-squared: {model_lr_train_rsq:.2f}')\n",
    "print(f'Adjusted R-squared: {model_lr_train_adj:.2f}')\n",
    "\n",
    "print(f'\\nTesting Data:')\n",
    "print(f'Root Mean Square Error: {model_lr_test_rmse:.2f}')\n",
    "print(f'R-squared: {model_lr_test_rsq:.2f}')\n",
    "print(f'Adjusted R-squared: {model_lr_test_adj:.2f}')"
   ]
  },
  {
   "cell_type": "code",
   "execution_count": 12,
   "id": "4d0005df-d40a-40b4-b67d-95d717efadea",
   "metadata": {},
   "outputs": [
    {
     "data": {
      "text/html": [
       "<div>\n",
       "<style scoped>\n",
       "    .dataframe tbody tr th:only-of-type {\n",
       "        vertical-align: middle;\n",
       "    }\n",
       "\n",
       "    .dataframe tbody tr th {\n",
       "        vertical-align: top;\n",
       "    }\n",
       "\n",
       "    .dataframe thead th {\n",
       "        text-align: right;\n",
       "    }\n",
       "</style>\n",
       "<table border=\"1\" class=\"dataframe\">\n",
       "  <thead>\n",
       "    <tr style=\"text-align: right;\">\n",
       "      <th></th>\n",
       "      <th>Variable</th>\n",
       "      <th>Coefficient</th>\n",
       "      <th>P-Value</th>\n",
       "    </tr>\n",
       "  </thead>\n",
       "  <tbody>\n",
       "    <tr>\n",
       "      <th>windspeed</th>\n",
       "      <td>windspeed</td>\n",
       "      <td>2.524534</td>\n",
       "      <td>0.059693</td>\n",
       "    </tr>\n",
       "    <tr>\n",
       "      <th>winddir</th>\n",
       "      <td>winddir</td>\n",
       "      <td>0.042737</td>\n",
       "      <td>0.529165</td>\n",
       "    </tr>\n",
       "    <tr>\n",
       "      <th>has_snow</th>\n",
       "      <td>has_snow</td>\n",
       "      <td>-9.085261</td>\n",
       "      <td>0.645874</td>\n",
       "    </tr>\n",
       "    <tr>\n",
       "      <th>icon_fog</th>\n",
       "      <td>icon_fog</td>\n",
       "      <td>-18.697913</td>\n",
       "      <td>0.899111</td>\n",
       "    </tr>\n",
       "    <tr>\n",
       "      <th>hour_16</th>\n",
       "      <td>hour_16</td>\n",
       "      <td>29.530522</td>\n",
       "      <td>0.265880</td>\n",
       "    </tr>\n",
       "  </tbody>\n",
       "</table>\n",
       "</div>"
      ],
      "text/plain": [
       "            Variable  Coefficient   P-Value\n",
       "windspeed  windspeed     2.524534  0.059693\n",
       "winddir      winddir     0.042737  0.529165\n",
       "has_snow    has_snow    -9.085261  0.645874\n",
       "icon_fog    icon_fog   -18.697913  0.899111\n",
       "hour_16      hour_16    29.530522  0.265880"
      ]
     },
     "execution_count": 12,
     "metadata": {},
     "output_type": "execute_result"
    }
   ],
   "source": [
    "# Coefficients and P-values\n",
    "coeffs = model_lr.params\n",
    "p_values = model_lr.pvalues\n",
    "\n",
    "# Create DataFrame for Model Summary\n",
    "model_lr_summary = pd.DataFrame({'Variable': coeffs.index, 'Coefficient': coeffs, 'P-Value': p_values})\n",
    "\n",
    "# Show non-significant variables (P-Value > 0.05)\n",
    "model_lr_summary[model_lr_summary['P-Value'] > 0.05]\n",
    "\n",
    "#model_lr_summary"
   ]
  },
  {
   "cell_type": "code",
   "execution_count": 13,
   "id": "b7a90623-6041-4b3a-b085-b283a482e101",
   "metadata": {},
   "outputs": [],
   "source": [
    "# Create the list of significant variables\n",
    "sig_var = model_lr_summary[model_lr_summary['P-Value'] <= 0.05]['Variable'].tolist()\n",
    "sig_var.remove('const')"
   ]
  },
  {
   "cell_type": "code",
   "execution_count": 14,
   "id": "c5dc81c5-cbe1-4647-9c7e-469d42ef06c8",
   "metadata": {},
   "outputs": [
    {
     "name": "stdout",
     "output_type": "stream",
     "text": [
      "Training Data:\n",
      "Root Mean Square Error: 143.61\n",
      "R-squared: 0.72\n",
      "Adjusted R-squared: 0.71\n",
      "\n",
      "Testing Data:\n",
      "Root Mean Square Error: 155.50\n",
      "R-squared: 0.69\n",
      "Adjusted R-squared: 0.66\n"
     ]
    }
   ],
   "source": [
    "# Linear Regression\n",
    "\n",
    "# Add a constant\n",
    "X_train_lr = sm.add_constant(X_train[sig_var])\n",
    "X_test_lr = sm.add_constant(X_test[sig_var])\n",
    "\n",
    "# Fit\n",
    "model_lr = sm.OLS(y_train, X_train_lr).fit()\n",
    "\n",
    "# Predictions\n",
    "model_lr_y_train_preds = model_lr.predict(X_train_lr)\n",
    "model_lr_y_test_preds = model_lr.predict(X_test_lr)\n",
    "\n",
    "# Calculate RMSE for training and test data\n",
    "model_lr_train_rmse = np.sqrt(mean_squared_error(y_train, model_lr_y_train_preds))\n",
    "model_lr_test_rmse = np.sqrt(mean_squared_error(y_test, model_lr_y_test_preds))\n",
    "\n",
    "# R-squared and Adjusted R-squared for training data\n",
    "model_lr_train_rsq = model_lr.rsquared\n",
    "model_lr_train_adj = model_lr.rsquared_adj\n",
    "\n",
    "# R-squared for test data\n",
    "ss_total = np.sum((y_test - np.mean(y_test))**2)\n",
    "ss_res = np.sum((y_test - model_lr_y_test_preds)**2)\n",
    "model_lr_test_rsq = 1 - (ss_res / ss_total)\n",
    "\n",
    "# Adjusted R-squared for test data\n",
    "n_test = X_test_lr.shape[0]\n",
    "p_test = X_test_lr.shape[1] - 1  # minus 1 because of the intercept\n",
    "model_lr_test_adj = 1 - (1 - model_lr_test_rsq) * (n_test - 1) / (n_test - p_test - 1)\n",
    "\n",
    "# Print results\n",
    "print(f'Training Data:')\n",
    "print(f'Root Mean Square Error: {model_lr_train_rmse:.2f}')\n",
    "print(f'R-squared: {model_lr_train_rsq:.2f}')\n",
    "print(f'Adjusted R-squared: {model_lr_train_adj:.2f}')\n",
    "\n",
    "print(f'\\nTesting Data:')\n",
    "print(f'Root Mean Square Error: {model_lr_test_rmse:.2f}')\n",
    "print(f'R-squared: {model_lr_test_rsq:.2f}')\n",
    "print(f'Adjusted R-squared: {model_lr_test_adj:.2f}')"
   ]
  },
  {
   "cell_type": "code",
   "execution_count": 15,
   "id": "d554d0f3-9d7a-442d-ba4d-b1fc1166fe5b",
   "metadata": {},
   "outputs": [],
   "source": [
    "# Coefficients and P-values\n",
    "coeffs = model_lr.params\n",
    "p_values = model_lr.pvalues\n",
    "\n",
    "# Create DataFrame for Model Summary\n",
    "model_lr_summary = pd.DataFrame({'Variable': coeffs.index, 'Coefficient': coeffs, 'P-Value': p_values})\n",
    "\n",
    "# Show non-significant variables (P-Value > 0.05)\n",
    "# model_lr_summary[model_lr_summary['P-Value'] > 0.05]\n",
    "# model_lr_summary"
   ]
  },
  {
   "cell_type": "code",
   "execution_count": 16,
   "id": "311d475c-63ea-4fbf-81a4-a299508fb3e5",
   "metadata": {},
   "outputs": [
    {
     "data": {
      "image/png": "[encoded data removed]",
      "text/plain": [
       "<Figure size 1600x600 with 1 Axes>"
      ]
     },
     "metadata": {},
     "output_type": "display_data"
    }
   ],
   "source": [
    "# Set color palette and normalize coefficients\n",
    "cmap = sns.color_palette('Spectral', as_cmap = True)\n",
    "norm = plt.Normalize(model_lr_summary['Coefficient'].min(), model_lr_summary['Coefficient'].max())\n",
    "sm = plt.cm.ScalarMappable(cmap = cmap, norm = norm)\n",
    "sm.set_array([])\n",
    "\n",
    "# Map coefficients to colors\n",
    "bar_colors = [cmap(norm(coef)) for coef in model_lr_summary['Coefficient']]\n",
    "\n",
    "# Plot the bar chart\n",
    "fig, ax = plt.subplots(figsize = (16, 6))\n",
    "bars = ax.bar(model_lr_summary['Variable']\n",
    "              , model_lr_summary['Coefficient']\n",
    "              , color = bar_colors)\n",
    "\n",
    "ax.axhline(0, color = 'black', linewidth = 0.8)\n",
    "ax.set_xlabel('Variable')\n",
    "ax.set_ylabel('Coefficient')\n",
    "ax.set_title('Bar Chart of Model Coefficients')\n",
    "ax.set_xticks(np.arange(len(model_lr_summary['Variable'])))\n",
    "ax.set_xticklabels(model_lr_summary['Variable'], rotation = 45)\n",
    "\n",
    "# Add labels to bars\n",
    "for bar in bars:\n",
    "    yval = bar.get_height()\n",
    "    pos = 'bottom' if yval > 0 else 'top'\n",
    "    ax.text(bar.get_x() + bar.get_width() / 2, yval, f'{yval:.0f}', ha = 'center', va = pos, color = 'black')\n",
    "\n",
    "# Adjust layout and save the plot\n",
    "plt.tight_layout()\n",
    "# plt.colorbar(sm, ax=ax, orientation='vertical', label='Coefficient Value')\n",
    "plt.savefig('../image/lr_coeff.png', dpi=300, bbox_inches='tight')\n",
    "plt.show();"
   ]
  },
  {
   "cell_type": "markdown",
   "id": "b6d30a22-f42d-49b1-9443-5a3c07ffd686",
   "metadata": {
    "jp-MarkdownHeadingCollapsed": true
   },
   "source": [
    "#### Random Forest Regressor\n",
    "- The default model has an R-squared of 0.97 on the training set and 0.80 on the testing set. Although it is overfitting, it performs better than ordinary linear regression."
   ]
  },
  {
   "cell_type": "code",
   "execution_count": 17,
   "id": "b83ae1d0-e12c-47ea-acc1-f01766df0d9d",
   "metadata": {},
   "outputs": [],
   "source": [
    "# Set X, y\n",
    "X = df.drop('solar', axis = 1)\n",
    "y = df['solar']\n",
    "\n",
    "# Split the data into training and testing sets\n",
    "X_train, X_test, y_train, y_test = train_test_split(X, y, test_size = 0.2)"
   ]
  },
  {
   "cell_type": "code",
   "execution_count": 18,
   "id": "5651e784-66c2-4bf6-ae32-25490fccca4e",
   "metadata": {},
   "outputs": [
    {
     "name": "stdout",
     "output_type": "stream",
     "text": [
      "Training RMSE: 43.44\n",
      "Testing RMSE: 118.06\n",
      "Training R-squared: 0.97\n",
      "Testing R-squared: 0.81\n"
     ]
    }
   ],
   "source": [
    "# Instantiate\n",
    "rf = RandomForestRegressor()\n",
    "\n",
    "# Fit\n",
    "rf.fit(X_train, y_train)\n",
    "\n",
    "# Predictions\n",
    "y_train_pred = rf.predict(X_train)\n",
    "y_test_pred = rf.predict(X_test)\n",
    "\n",
    "# Calculate performance metrics\n",
    "train_rmse = np.sqrt(mean_squared_error(y_train, y_train_pred))\n",
    "test_rmse = np.sqrt(mean_squared_error(y_test, y_test_pred))\n",
    "train_r2 = r2_score(y_train, y_train_pred)\n",
    "test_r2 = r2_score(y_test, y_test_pred)\n",
    "\n",
    "# Print results\n",
    "print(f'Training RMSE: {train_rmse:.2f}')\n",
    "print(f'Testing RMSE: {test_rmse:.2f}')\n",
    "print(f'Training R-squared: {train_r2:.2f}')\n",
    "print(f'Testing R-squared: {test_r2:.2f}')"
   ]
  },
  {
   "cell_type": "markdown",
   "id": "42056673-1a34-4e18-b074-faccd5a6c331",
   "metadata": {},
   "source": [
    "#### Gradient Boost\n",
    "- The default model shows an R-squared of 0.91 on the training set and 0.81 on the testing set, indicating less overfitting than the Random Forest Regressor.\n",
    "- After tuning, the improved model achieves an R-squared of 1.00 on the training set and 0.90 on the testing set.\n",
    "- The top three weather-related features influencing the model are `cloudcover`, `humidity`, and `has_solarradiation`."
   ]
  },
  {
   "cell_type": "code",
   "execution_count": 19,
   "id": "b60c822e-6517-437b-8b5b-114cc6225086",
   "metadata": {},
   "outputs": [],
   "source": [
    "# Set X, y\n",
    "X = df.drop('solar', axis = 1)\n",
    "y = df['solar']\n",
    "\n",
    "# Split the data into training and testing sets\n",
    "X_train, X_test, y_train, y_test = train_test_split(X, y, test_size = 0.2)"
   ]
  },
  {
   "cell_type": "code",
   "execution_count": 20,
   "id": "4909e9e4-5557-47e7-8b96-e08d88a13dc6",
   "metadata": {},
   "outputs": [
    {
     "name": "stdout",
     "output_type": "stream",
     "text": [
      "Training RMSE: 81.79\n",
      "Testing RMSE: 119.74\n",
      "Training R-squared: 0.91\n",
      "Testing R-squared: 0.81\n"
     ]
    }
   ],
   "source": [
    "# Instantiate\n",
    "gbr = GradientBoostingRegressor(random_state = 42)\n",
    "\n",
    "# Fit\n",
    "gbr.fit(X_train, y_train)\n",
    "\n",
    "# Predictions\n",
    "y_train_pred = gbr.predict(X_train)\n",
    "y_test_pred = gbr.predict(X_test)\n",
    "\n",
    "# Calculate performance metrics\n",
    "train_rmse = np.sqrt(mean_squared_error(y_train, y_train_pred))\n",
    "test_rmse = np.sqrt(mean_squared_error(y_test, y_test_pred))\n",
    "train_r2 = r2_score(y_train, y_train_pred)\n",
    "test_r2 = r2_score(y_test, y_test_pred)\n",
    "\n",
    "# Print results\n",
    "print(f'Training RMSE: {train_rmse:.2f}')\n",
    "print(f'Testing RMSE: {test_rmse:.2f}')\n",
    "print(f'Training R-squared: {train_r2:.2f}')\n",
    "print(f'Testing R-squared: {test_r2:.2f}')"
   ]
  },
  {
   "cell_type": "code",
   "execution_count": 21,
   "id": "7b1ec731-fe25-45af-8445-2356f5ab13b1",
   "metadata": {},
   "outputs": [
    {
     "name": "stdout",
     "output_type": "stream",
     "text": [
      "Fitting 5 folds for each of 162 candidates, totalling 810 fits\n",
      "Best Parameters: {'learning_rate': 0.08, 'max_depth': None, 'min_samples_leaf': 30, 'min_samples_split': 35, 'n_estimators': 500, 'subsample': 0.9}\n",
      "Best Cross-Validation Score: 0.87\n",
      "Training RMSE: 12.34\n",
      "Testing RMSE: 85.43\n",
      "Training R-squared: 1.00\n",
      "Testing R-squared: 0.90\n"
     ]
    }
   ],
   "source": [
    "# Tuning via GridSearchCV\n",
    "# Define the parameter grid\n",
    "param_grid = {\n",
    "    'n_estimators': [450, 500]\n",
    "    , 'learning_rate': [0.08,0.09,0.1]\n",
    "    , 'max_depth': [None]\n",
    "    , 'min_samples_split': [35, 40, 45]\n",
    "    , 'min_samples_leaf': [25, 30, 50]\n",
    "    , 'subsample': [0.85, 0.9, 0.95]\n",
    "}\n",
    "\n",
    "\n",
    "# Instantiate\n",
    "gbr = GradientBoostingRegressor(random_state = 42)\n",
    "\n",
    "# Set up the GridSearchCV\n",
    "grid_search = GridSearchCV(estimator = gbr\n",
    "                           , param_grid = param_grid\n",
    "                           , cv = 5\n",
    "                           , scoring ='r2'\n",
    "                           , n_jobs = -1\n",
    "                           , verbose = 2\n",
    "                          )\n",
    "\n",
    "# Fit\n",
    "grid_search.fit(X_train, y_train)\n",
    "\n",
    "# Get the best parameters and best score\n",
    "best_params = grid_search.best_params_\n",
    "best_score = grid_search.best_score_\n",
    "\n",
    "# Print the results\n",
    "print(f'Best Parameters: {best_params}')\n",
    "print(f'Best Cross-Validation Score: {best_score:.2f}')\n",
    "\n",
    "# Train the Gradient Boosting model with the best parameters\n",
    "best_gbr = grid_search.best_estimator_\n",
    "best_gbr.fit(X_train, y_train)\n",
    "\n",
    "# Predictions\n",
    "y_train_pred = best_gbr.predict(X_train)\n",
    "y_test_pred = best_gbr.predict(X_test)\n",
    "\n",
    "# Calculate performance metrics\n",
    "train_rmse = np.sqrt(mean_squared_error(y_train, y_train_pred))\n",
    "test_rmse = np.sqrt(mean_squared_error(y_test, y_test_pred))\n",
    "train_r2 = r2_score(y_train, y_train_pred)\n",
    "test_r2 = r2_score(y_test, y_test_pred)\n",
    "\n",
    "# Print results\n",
    "print(f'Training RMSE: {train_rmse:.2f}')\n",
    "print(f'Testing RMSE: {test_rmse:.2f}')\n",
    "print(f'Training R-squared: {train_r2:.2f}')\n",
    "print(f'Testing R-squared: {test_r2:.2f}')"
   ]
  },
  {
   "cell_type": "code",
   "execution_count": 22,
   "id": "989c3cd7-f69a-425e-b823-cc15d79cb3f3",
   "metadata": {},
   "outputs": [],
   "source": [
    "importances = best_gbr.feature_importances_\n",
    "# importances"
   ]
  },
  {
   "cell_type": "code",
   "execution_count": 23,
   "id": "7ab35888-6b90-4bc1-8c8e-533da98c1dd2",
   "metadata": {},
   "outputs": [
    {
     "data": {
      "image/png": "[encoded data removed]",
      "text/plain": [
       "<Figure size 1600x600 with 1 Axes>"
      ]
     },
     "metadata": {},
     "output_type": "display_data"
    }
   ],
   "source": [
    "feature_names = X_train.columns\n",
    "\n",
    "# Plot feature importances\n",
    "plt.figure(figsize=(16, 6))\n",
    "indices = np.argsort(importances)\n",
    "plt.barh(range(len(importances)), importances[indices], align = 'center')\n",
    "plt.yticks(range(len(importances)), feature_names[indices])\n",
    "plt.xlabel('Feature Importance')\n",
    "plt.ylabel('Feature')\n",
    "plt.title('Feature Importance from Gradient Boosting Model')\n",
    "# Adjust layout\n",
    "plt.tight_layout()\n",
    "# Save\n",
    "plt.savefig('../image/gb_importances.png', dpi = 300, bbox_inches = 'tight')\n",
    "# Show the plot\n",
    "plt.show();"
   ]
  },
  {
   "cell_type": "code",
   "execution_count": 24,
   "id": "b02e63bc-99a7-465e-bb02-08d21aa5e7ee",
   "metadata": {},
   "outputs": [
    {
     "name": "stdout",
     "output_type": "stream",
     "text": [
      "Model saved to ../model/solar_energy.pkl\n"
     ]
    }
   ],
   "source": [
    "# Save the best model\n",
    "best_model = best_gbr\n",
    "filename = '../model/solar_energy.pkl'\n",
    "\n",
    "with open(filename, 'wb') as file:\n",
    "    pickle.dump(best_model, file)\n",
    "    \n",
    "print(f'Model saved to {filename}')"
   ]
  }
 ],
 "metadata": {
  "kernelspec": {
   "display_name": "Python 3 (ipykernel)",
   "language": "python",
   "name": "python3"
  },
  "language_info": {
   "codemirror_mode": {
    "name": "ipython",
    "version": 3
   },
   "file_extension": ".py",
   "mimetype": "text/x-python",
   "name": "python",
   "nbconvert_exporter": "python",
   "pygments_lexer": "ipython3",
   "version": "3.12.4"
  }
 },
 "nbformat": 4,
 "nbformat_minor": 5
}
